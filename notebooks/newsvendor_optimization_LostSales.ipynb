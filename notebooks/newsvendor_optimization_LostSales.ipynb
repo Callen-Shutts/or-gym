{
 "cells": [
  {
   "cell_type": "code",
   "execution_count": 1,
   "metadata": {},
   "outputs": [],
   "source": [
    "import or_gym\n",
    "from or_gym.benchmarks.newsvendor.nv_benchmark import *\n",
    "from or_gym.benchmarks.newsvendor.onv_benchmark import *\n",
    "import matplotlib.pyplot as plt\n",
    "import pyomo.environ as pe"
   ]
  },
  {
   "cell_type": "code",
   "execution_count": 2,
   "metadata": {},
   "outputs": [
    {
     "name": "stderr",
     "output_type": "stream",
     "text": [
      "C:\\ProgramData\\Miniconda3\\lib\\site-packages\\gym\\logger.py:30: UserWarning: \u001b[33mWARN: Box bound precision lowered by casting to float32\u001b[0m\n",
      "  warnings.warn(colorize('%s: %s'%('WARN', msg % args), 'yellow'))\n"
     ]
    }
   ],
   "source": [
    "#create environments for 4 cases\n",
    "env1_dfo=or_gym.make(\"NewsVendor-v2\",env_config={'seed_int':20})\n",
    "env1_mip=or_gym.make(\"NewsVendor-v2\",env_config={'seed_int':20})\n",
    "env1_dfo_online=or_gym.make(\"NewsVendor-v2\")\n",
    "env1_mip_online=or_gym.make(\"NewsVendor-v2\")"
   ]
  },
  {
   "cell_type": "code",
   "execution_count": 3,
   "metadata": {},
   "outputs": [
    {
     "name": "stdout",
     "output_type": "stream",
     "text": [
      "   direc: array([[ 0.00000000e+00, -0.00000000e+00,  0.00000000e+00],\n",
      "       [-4.83180869e-05, -3.34761329e-03, -1.06051876e-03],\n",
      "       [ 0.00000000e+00,  0.00000000e+00,  9.90000000e-01]])\n",
      "    fopt: 0.34959619951586984\n",
      "     fun: -0.34976141672954225\n",
      " message: 'Optimization terminated successfully.'\n",
      "    nfev: 586\n",
      "     nit: 7\n",
      "  status: 0\n",
      " success: True\n",
      "       x: array([200.00008735,   1.03158043,  60.00140474])\n",
      "    xopt: array([200.,   1.,  61.])\n",
      "    zopt: array([200., 201., 262.])\n"
     ]
    }
   ],
   "source": [
    "#run optimizations for backlog scenario\n",
    "env1_dfo_results = optimize_nv_dfo(env1_dfo)\n",
    "\n",
    "env1_mip_model, env1_mip_results = optimize_nv_mip(env1_mip,warmstart=True,\n",
    "                                                   warmstart_kwargs={'mapping_env': env1_dfo,\n",
    "                                                                     'mapping_z':env1_dfo_results.zopt})\n",
    "#DFO\n",
    "#reset env to run simulation with new demand profile and with base stock levels found\n",
    "env1_dfo=or_gym.make(\"NewsVendor-v2\")\n",
    "#run simulation\n",
    "for t in range(env1_dfo.num_periods):\n",
    "    #take a step in the simulation using base stock policy\n",
    "    env1_dfo.step(action=env1_dfo.base_stock_action(z=env1_dfo_results.zopt)) \n",
    "\n",
    "#MIP\n",
    "zopt = list(env1_mip_model.z.get_values().values()) #extract optimal base stock levels\n",
    "#reset env to run simulation with new demand profile and with base stock levels found\n",
    "env1_mip=or_gym.make(\"NewsVendor-v2\")\n",
    "#run simulation\n",
    "for t in range(env1_mip.num_periods):\n",
    "    #take a step in the simulation using base stock policy\n",
    "    env1_mip.step(action=env1_mip.base_stock_action(z=zopt)) "
   ]
  },
  {
   "cell_type": "code",
   "execution_count": null,
   "metadata": {},
   "outputs": [],
   "source": [
    "env1_mip_pi_model, env1_mip_pi_results = optimize_nv_pi_mip(env1_mip_pi,warmstart=True,\n",
    "                                                   warmstart_kwargs={'mapping_env': env1_dfo,\n",
    "                                                                     'mapping_z':env1_dfo_results.zopt,\n",
    "                                                                     'perfect_information':True})"
   ]
  },
  {
   "cell_type": "code",
   "execution_count": null,
   "metadata": {},
   "outputs": [],
   "source": [
    "_,_,env1_dfo_online_basestock = online_optimize_nv_dfo(env1_dfo_online)"
   ]
  },
  {
   "cell_type": "code",
   "execution_count": null,
   "metadata": {},
   "outputs": [],
   "source": [
    "_,_,env1_mip_online_basestock = online_optimize_nv_mip(env1_mip_online,warmstart=True)"
   ]
  },
  {
   "cell_type": "code",
   "execution_count": null,
   "metadata": {},
   "outputs": [],
   "source": [
    "#plot results for backlog scenario\n",
    "\n",
    "#profit\n",
    "fig = plt.figure(figsize=[7,5])\n",
    "plt.plot(np.cumsum(env1_dfo.P),label='DFO')\n",
    "plt.plot(np.cumsum(list(env1_mip_model.P.get_values().values())),label='MIP')\n",
    "plt.plot(np.cumsum(env1_dfo_online.P),label='oDFO')\n",
    "plt.plot(np.cumsum(env1_mip_online.P),label='oMIP')\n",
    "plt.plot(np.cumsum(env1_mip_pi.P),'k',label='Oracle')\n",
    "plt.xlabel('Day')\n",
    "plt.ylabel('Cumulative Profit, $')\n",
    "plt.legend(bbox_to_anchor=(1.05, 1.0), loc='upper left')\n",
    "plt.tight_layout()\n",
    "plt.savefig('NewsVendor_LostSales.png')\n",
    "plt.show()\n",
    "\n",
    "#base stock levels\n",
    "N = env1_dfo.num_periods\n",
    "M = env1_dfo.num_stages\n",
    "env1_dfo_online_basestock = np.array(env1_dfo_online_basestock)\n",
    "env1_mip_online_basestock = np.array(env1_mip_online_basestock)\n",
    "\n",
    "def inventory_position(I,T,stage):\n",
    "    return np.sum(I[:-1,:stage+1] + T[:-1,:stage+1],axis=1)\n",
    "\n",
    "fig, axs = plt.subplots(3,1,figsize=[7,13])\n",
    "axs = axs.ravel()\n",
    "for i in range(M-1):\n",
    "    axs[i].set_prop_cycle(None)\n",
    "    axs[i].set_title('Echelon %i' %i)\n",
    "    axs[i].set_xlabel('Day')\n",
    "\n",
    "#     #plot base stock levels\n",
    "#     axs[i].plot(env1_dfo_results.zopt[i]*np.ones(N),label='DFO BSL')\n",
    "#     axs[i].plot(pe.value(env1_mip_model.z[i])*np.ones(N),label='MIP BSL')\n",
    "#     axs[i].plot(np.append(env1_dfo_online.init_inv[i],env1_dfo_online_basestock[:,i]),label='oDFO BSL')\n",
    "#     axs[i].plot(np.append(env1_mip_online.init_inv[i],env1_mip_online_basestock[:,i]),label='oMIP BSL')\n",
    "    \n",
    "    axs[i].set_prop_cycle(None)\n",
    "    #plot actual inventory positions\n",
    "    axs[i].plot(inventory_position(I = env1_dfo.I, T = env1_dfo.T, B = env1_dfo.B, stage = i),'--',label='DFO')\n",
    "    axs[i].plot(inventory_position(I = env1_mip.I, T = env1_mip.T, B = env1_mip.B, stage = i),':',label='MIP')\n",
    "    axs[i].plot(inventory_position(I = env1_dfo_online.I, T = env1_dfo_online.T, B = env1_dfo_online.B, stage = i),'-.',label='oDFO')\n",
    "    axs[i].plot(inventory_position(I = env1_mip_online.I, T = env1_mip_online.T, B = env1_mip_online.B, stage = i),'-.',label='oMIP')\n",
    "    axs[i].plot(inventory_position(I = env1_mip_pi.I, T = env1_mip_pi.T, B = env1_mip_pi.B, stage = i),'k',label='Oracle')\n",
    "    axs[i].legend(bbox_to_anchor=(1.05, 1.0), loc='upper left')\n",
    "plt.tight_layout()\n",
    "plt.savefig('NewsVendor_LostSales_inventory.png')\n",
    "plt.show()\n",
    "\n",
    "fig, axs = plt.subplots(3,1,figsize=[7,13])\n",
    "axs = axs.ravel()\n",
    "for i in range(M-1):\n",
    "    axs[i].set_prop_cycle(None)\n",
    "    axs[i].set_title('Echelon %i' %i)\n",
    "    axs[i].set_xlabel('Day')\n",
    "\n",
    "    #plot base stock levels\n",
    "    axs[i].plot(env1_dfo_results.zopt[i]*np.ones(N),label='DFO')\n",
    "    axs[i].plot(pe.value(env1_mip_model.z[i])*np.ones(N),label='MIP')\n",
    "    axs[i].plot(np.append(env1_dfo_online.init_inv[i],env1_dfo_online_basestock[:,i]),label='oDFO')\n",
    "    axs[i].plot(np.append(env1_mip_online.init_inv[i],env1_mip_online_basestock[:,i]),label='oMIP')\n",
    "    \n",
    "#     axs[i].set_prop_cycle(None)\n",
    "#     #plot actual inventory positions\n",
    "#     axs[i].plot(inventory_position(I = env1_dfo.I, T = env1_dfo.T, B = env1_dfo.B, stage = i),'--',label='DFO TIL')\n",
    "#     axs[i].plot(inventory_position(I = env1_mip.I, T = env1_mip.T, B = env1_mip.B, stage = i),':',label='MIP TIL')\n",
    "#     axs[i].plot(inventory_position(I = env1_dfo_online.I, T = env1_dfo_online.T, B = env1_dfo_online.B, stage = i),'-.',label='oDFO TIL')\n",
    "#     axs[i].plot(inventory_position(I = env1_mip_online.I, T = env1_mip_online.T, B = env1_mip_online.B, stage = i),'-.',label='oMIP TIL')\n",
    "#     axs[i].plot(inventory_position(I = env1_mip_pi.I, T = env1_mip_pi.T, B = env1_mip_pi.B, stage = i),'k',label='Oracle TIL')\n",
    "    axs[i].legend(bbox_to_anchor=(1.05, 1.0), loc='upper left')\n",
    "plt.tight_layout()\n",
    "plt.savefig('NewsVendor_LostSales_zopt.png')\n",
    "plt.show()\n",
    "                \n",
    "# #on hand inventory levels\n",
    "# env1_dfo_online_basestock = np.array(env1_dfo_online_basestock)\n",
    "# env1_mip_online_basestock = np.array(env1_mip_online_basestock)\n",
    "# fig, axs = plt.subplots(3,1,figsize=[5,10])\n",
    "# axs = axs.ravel()\n",
    "# for i in range(M-1):\n",
    "#     axs[i].set_title('Stage %i' %i)\n",
    "#     axs[i].set_xlabel('Day')\n",
    "#     axs[i].plot(env1_dfo.I[:,i],label='DFO')\n",
    "#     axs[i].plot(np.reshape(list(env1_mip_model.I.get_values().values()),(N+1,env1_dfo.num_stages-1))[:,i],label='MIP')\n",
    "#     axs[i].plot(env1_dfo_online.I[:,i],label='oDFO')\n",
    "#     axs[i].plot(env1_mip_online.I[:,i],label='oMIP')\n",
    "#     axs[i].legend()\n",
    "# plt.tight_layout()\n",
    "# plt.show()"
   ]
  },
  {
   "cell_type": "code",
   "execution_count": null,
   "metadata": {},
   "outputs": [],
   "source": []
  }
 ],
 "metadata": {
  "kernelspec": {
   "display_name": "Python 3",
   "language": "python",
   "name": "python3"
  },
  "language_info": {
   "codemirror_mode": {
    "name": "ipython",
    "version": 3
   },
   "file_extension": ".py",
   "mimetype": "text/x-python",
   "name": "python",
   "nbconvert_exporter": "python",
   "pygments_lexer": "ipython3",
   "version": "3.7.6"
  }
 },
 "nbformat": 4,
 "nbformat_minor": 4
}
