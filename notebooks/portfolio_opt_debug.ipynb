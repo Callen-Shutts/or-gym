{
 "cells": [
  {
   "cell_type": "code",
   "execution_count": 1,
   "metadata": {},
   "outputs": [],
   "source": [
    "import gym\n",
    "from gym import spaces\n",
    "import or_gym\n",
    "import numpy as np\n",
    "import pandas as pd\n",
    "import matplotlib.pyplot as plt\n",
    "import copy\n",
    "from or_gym.utils.env_config import *\n",
    "%matplotlib inline"
   ]
  },
  {
   "cell_type": "code",
   "execution_count": 2,
   "metadata": {},
   "outputs": [],
   "source": [
    "env = or_gym.make('PortfolioOpt-v0')"
   ]
  },
  {
   "cell_type": "code",
   "execution_count": 3,
   "metadata": {},
   "outputs": [
    {
     "data": {
      "text/plain": [
       "array([100.        ,  10.48945811,  16.89324694,  12.33857148,\n",
       "         0.        ,   0.        ,   0.        ])"
      ]
     },
     "execution_count": 3,
     "metadata": {},
     "output_type": "execute_result"
    }
   ],
   "source": [
    "s = env.reset()\n",
    "s"
   ]
  },
  {
   "cell_type": "code",
   "execution_count": null,
   "metadata": {},
   "outputs": [],
   "source": [
    "s = env.reset()"
   ]
  },
  {
   "cell_type": "markdown",
   "metadata": {},
   "source": [
    "State consists of cash plus three assets with their own prices and the quantities held by the agent. \n",
    "- 0-3 contain asset prices\n",
    "- 4-7 contain the quantities held\n",
    "- 8 contains the total portfolio value\n",
    "\n",
    "Actions indicate buying or selling given assets with indexes 0-2 corresponding to the non-cash asset classes."
   ]
  },
  {
   "cell_type": "code",
   "execution_count": 8,
   "metadata": {},
   "outputs": [
    {
     "data": {
      "text/plain": [
       "array([-8.59545988, -3.83430658, 21.53107067])"
      ]
     },
     "execution_count": 8,
     "metadata": {},
     "output_type": "execute_result"
    }
   ],
   "source": [
    "env.sample_action()"
   ]
  },
  {
   "cell_type": "code",
   "execution_count": 21,
   "metadata": {},
   "outputs": [
    {
     "data": {
      "text/plain": [
       "(array([ 1.        ,  0.71928476,  1.43438168,  1.01073949, 12.24823989,\n",
       "        20.8       , 43.        , 94.2       , 69.91658968]),\n",
       " -35.859541932404724,\n",
       " True,\n",
       " {'Status': 'Termination Condition: End of Horizon'})"
      ]
     },
     "execution_count": 21,
     "metadata": {},
     "output_type": "execute_result"
    }
   ],
   "source": [
    "env.step([2.08, 4.3, 9.42])"
   ]
  },
  {
   "cell_type": "code",
   "execution_count": 25,
   "metadata": {},
   "outputs": [],
   "source": [
    "x = spaces.Discrete(10)"
   ]
  },
  {
   "cell_type": "code",
   "execution_count": 27,
   "metadata": {},
   "outputs": [
    {
     "data": {
      "text/plain": [
       "[5, 4, 7, 4, 8, 0, 9, 5, 3, 5]"
      ]
     },
     "execution_count": 27,
     "metadata": {},
     "output_type": "execute_result"
    }
   ],
   "source": [
    "[x.sample() for i in range(10)]"
   ]
  },
  {
   "cell_type": "code",
   "execution_count": 32,
   "metadata": {},
   "outputs": [
    {
     "data": {
      "text/plain": [
       "[1, 1, 0, 0, 1, 1, 0, 1, 0, 0]"
      ]
     },
     "execution_count": 32,
     "metadata": {},
     "output_type": "execute_result"
    }
   ],
   "source": [
    "env = gym.make('CartPole-v0')\n",
    "[env.action_space.sample() for i in range(10)]"
   ]
  },
  {
   "cell_type": "code",
   "execution_count": 86,
   "metadata": {},
   "outputs": [
    {
     "data": {
      "text/plain": [
       "5"
      ]
     },
     "execution_count": 86,
     "metadata": {},
     "output_type": "execute_result"
    }
   ],
   "source": [
    "a = np.arange(3)\n",
    "b = np.arange(3)\n",
    "\n",
    "np.dot(a, b)"
   ]
  },
  {
   "cell_type": "code",
   "execution_count": 87,
   "metadata": {},
   "outputs": [
    {
     "data": {
      "text/plain": [
       "[0, 1, 4]"
      ]
     },
     "execution_count": 87,
     "metadata": {},
     "output_type": "execute_result"
    }
   ],
   "source": [
    "[i*j for i, j in zip(a, b)]"
   ]
  },
  {
   "cell_type": "code",
   "execution_count": 116,
   "metadata": {},
   "outputs": [],
   "source": [
    "class POEnv(gym.Env):\n",
    "    \n",
    "    def __init__(self, *args, **kwargs):\n",
    "        self.num_assets = 1\n",
    "        self.initial_cash = 100\n",
    "        self.cash = copy.copy(self.initial_cash)\n",
    "        self.buy_cost = np.array([0.045, 0.025, 0.035])\n",
    "        self.sell_cost = np.array([0.04, 0.02, 0.03])\n",
    "        self.step_limit = 10\n",
    "        self.asset_price_means = np.ones(self.num_assets)\n",
    "        self.asset_price_var = np.ones(self.num_assets) * 0.25\n",
    "        assign_env_config(self, kwargs)\n",
    "        \n",
    "        # Cash on hand, asset prices, num of shares, portfolio value\n",
    "        self.obs_length = 1 + 2 * self.num_assets\n",
    "#         self.observation_space = spaces.Dict({\n",
    "#             \"action_mask\": spaces.Box(0, 1, shape=(self.num_assets,)),\n",
    "#             \"avail_actions\": spaces.Box(0, 1, shape=(self.num_assets,)),\n",
    "#             \"state\": spaces.Box(-1000, 1000, shape=(self.obs_length,))\n",
    "#         })\n",
    "        self.observation_space = spaces.Box(0, 1000, shape=(self.obs_length,))\n",
    "        self.action_space = spaces.Box(-1000, 1000, shape=(self.num_assets,))\n",
    "        \n",
    "        self.reset()\n",
    "        \n",
    "    def reset(self):\n",
    "        self.step_count = 0\n",
    "        self.asset_prices = self._generate_asset_prices()        \n",
    "        self.holdings = np.zeros(self.num_assets)\n",
    "        self.cash = copy.copy(self.initial_cash)\n",
    "        self.state = np.hstack([\n",
    "            self.initial_cash,\n",
    "            self.asset_prices[:, self.step_count],\n",
    "            self.holdings])\n",
    "        return self.state\n",
    "    \n",
    "    def _generate_asset_prices(self):\n",
    "        asset_prices = np.vstack([\n",
    "            np.random.normal(mu, sig, self.step_limit) \n",
    "            for mu, sig in zip(self.asset_price_means, self.asset_price_var)])\n",
    "        # Zero out negative asset prices and all following prices - implies\n",
    "        # equity is bankrupt and worthless.\n",
    "        zero_vals = np.vstack(np.where(asset_prices<0))\n",
    "        cols = np.unique(zero_vals[0])\n",
    "        for c in cols:\n",
    "            first_zero = zero_vals[1][np.where(zero_vals[0]==c)[0].min()]\n",
    "            asset_prices[c,first_zero:] = 0\n",
    "        return asset_prices\n",
    "    \n",
    "    def step(self, action):\n",
    "        assert self.action_space.contains(action)\n",
    "        # Round actions to integer values\n",
    "        action = np.round(action)\n",
    "        asset_prices = self.asset_prices[:, self.step_count].copy()\n",
    "        for idx, a in enumerate(action):\n",
    "            if a == 0:\n",
    "                continue\n",
    "            # Sell a shares of asset\n",
    "            elif a < 0:\n",
    "                a = np.abs(a)\n",
    "                if a > self.holdings[idx]:\n",
    "                    a = self.holdings[idx]\n",
    "                self.holdings[idx] -= a\n",
    "                self.cash += asset_prices[idx] * a * (1 - self.sell_cost[idx])\n",
    "            # Buy a shares of asset\n",
    "            elif a > 0:\n",
    "                purchase_cost = asset_prices[idx] * a * (1 + self.buy_cost[idx])\n",
    "                if self.cash < purchase_cost:\n",
    "                    a = np.max(np.floor(self.cash / (\n",
    "                        asset_prices[idx] * (1 + self.buy_cost[idx]))), 0)\n",
    "#                     print('Action: {:.0f}\\nCost: {:.2f}\\nCash: {:.2f}'.format(a, purchase_cost, self.cash))\n",
    "                self.holdings[idx] += a\n",
    "                self.cash -= asset_prices[idx] * a * (1 + self.buy_cost[idx])\n",
    "                \n",
    "        # Return total portfolio value as reward\n",
    "        reward = np.dot(asset_prices, self.holdings) + self.cash\n",
    "        self.step_count += 1\n",
    "        if self.step_count >= self.step_limit:\n",
    "            done = True\n",
    "        else:\n",
    "            self._update_state()\n",
    "            done = False\n",
    "            \n",
    "        return self.state, reward, done, {}\n",
    "    \n",
    "    def _update_state(self):\n",
    "        self.state = np.hstack([\n",
    "            self.cash,\n",
    "            self.asset_prices[:, self.step_count],\n",
    "            self.holdings\n",
    "        ])"
   ]
  },
  {
   "cell_type": "code",
   "execution_count": 7,
   "metadata": {},
   "outputs": [
    {
     "name": "stdout",
     "output_type": "stream",
     "text": [
      "[96.07059218957423, 90.35981092295586, 84.12623044347052, 81.4467052949233, 80.01829886946142, 78.91350659096938, 76.99061562830107, 74.19296473718171, 75.97125525068196, 75.72959507129573]\n"
     ]
    }
   ],
   "source": [
    "env = gym.make('PortfolioOpt-v0')\n",
    "for i in range(1):\n",
    "    s = env.reset()\n",
    "    done = False\n",
    "    rewards = []\n",
    "    actions = []\n",
    "    while done == False:\n",
    "        action = env.action_space.sample()\n",
    "        actions.append(action)\n",
    "        s_1, r, done, _ = env.step(action)\n",
    "        valid_state = env.observation_space.contains(s_1)\n",
    "        if valid_state == False:\n",
    "            msg = 'Observation Space does not match:'\n",
    "            msg += '\\nobservation_space:\\nShape:\\t{}\\n\\t{}'.format(s.shape, s)\n",
    "            msg += '\\nAction:\\t{}'.format(action)\n",
    "            raise ValueError(msg)\n",
    "        s = s_1.copy()\n",
    "        rewards.append(r)\n",
    "#         rewards += r\n",
    "        if done:\n",
    "            print(rewards)"
   ]
  },
  {
   "cell_type": "code",
   "execution_count": 118,
   "metadata": {},
   "outputs": [
    {
     "data": {
      "text/plain": [
       "[array([291.60596], dtype=float32),\n",
       " array([821.52466], dtype=float32),\n",
       " array([-610.1736], dtype=float32),\n",
       " array([776.8539], dtype=float32),\n",
       " array([-70.79235], dtype=float32),\n",
       " array([332.34055], dtype=float32),\n",
       " array([-170.35948], dtype=float32),\n",
       " array([-152.44739], dtype=float32),\n",
       " array([-536.04205], dtype=float32)]"
      ]
     },
     "execution_count": 118,
     "metadata": {},
     "output_type": "execute_result"
    }
   ],
   "source": [
    "actions"
   ]
  },
  {
   "cell_type": "code",
   "execution_count": 119,
   "metadata": {},
   "outputs": [],
   "source": [
    "x = env.asset_prices.copy()"
   ]
  },
  {
   "cell_type": "code",
   "execution_count": 120,
   "metadata": {},
   "outputs": [
    {
     "ename": "ValueError",
     "evalue": "[-536.04205]",
     "output_type": "error",
     "traceback": [
      "\u001b[0;31m---------------------------------------------------------------------------\u001b[0m",
      "\u001b[0;31mValueError\u001b[0m                                Traceback (most recent call last)",
      "\u001b[0;32m<ipython-input-120-99141d290788>\u001b[0m in \u001b[0;36m<module>\u001b[0;34m\u001b[0m\n\u001b[1;32m      6\u001b[0m     \u001b[0mstates\u001b[0m\u001b[0;34m.\u001b[0m\u001b[0mappend\u001b[0m\u001b[0;34m(\u001b[0m\u001b[0ms\u001b[0m\u001b[0;34m)\u001b[0m\u001b[0;34m\u001b[0m\u001b[0;34m\u001b[0m\u001b[0m\n\u001b[1;32m      7\u001b[0m     \u001b[0;32mif\u001b[0m \u001b[0;32mnot\u001b[0m \u001b[0menv\u001b[0m\u001b[0;34m.\u001b[0m\u001b[0mobservation_space\u001b[0m\u001b[0;34m.\u001b[0m\u001b[0mcontains\u001b[0m\u001b[0;34m(\u001b[0m\u001b[0ms\u001b[0m\u001b[0;34m)\u001b[0m\u001b[0;34m:\u001b[0m\u001b[0;34m\u001b[0m\u001b[0;34m\u001b[0m\u001b[0m\n\u001b[0;32m----> 8\u001b[0;31m         \u001b[0;32mraise\u001b[0m \u001b[0mValueError\u001b[0m\u001b[0;34m(\u001b[0m\u001b[0ma\u001b[0m\u001b[0;34m)\u001b[0m\u001b[0;34m\u001b[0m\u001b[0;34m\u001b[0m\u001b[0m\n\u001b[0m",
      "\u001b[0;31mValueError\u001b[0m: [-536.04205]"
     ]
    }
   ],
   "source": [
    "s = env.reset()\n",
    "env.asset_prices = x.copy()\n",
    "states = [s]\n",
    "for a in actions:\n",
    "    s, r, d, _ = env.step(a)\n",
    "    states.append(s)\n",
    "    if not env.observation_space.contains(s):\n",
    "        raise ValueError(a)"
   ]
  },
  {
   "cell_type": "code",
   "execution_count": 121,
   "metadata": {},
   "outputs": [
    {
     "data": {
      "text/plain": [
       "[array([100.        ,   0.91313828,   0.        ]),\n",
       " array([ 96.29834743,   1.09089705, 292.        ]),\n",
       " array([  0.53940423,   1.33581907, 376.        ]),\n",
       " array([4.82716656e+02, 3.61390904e-01, 0.00000000e+00]),\n",
       " array([1.89279890e+02, 5.94038938e-01, 7.77000000e+02]),\n",
       " array([229.76958442,   1.17167071, 706.        ]),\n",
       " array([8.07552358e-01, 1.21309325e+00, 8.93000000e+02]),\n",
       " array([198.78437125,   1.43757126, 723.        ]),\n",
       " array([408.55476988,   1.16069024, 571.        ]),\n",
       " array([1005.79954115,    1.17736517,   35.        ])]"
      ]
     },
     "execution_count": 121,
     "metadata": {},
     "output_type": "execute_result"
    }
   ],
   "source": [
    "states"
   ]
  },
  {
   "cell_type": "code",
   "execution_count": 133,
   "metadata": {},
   "outputs": [
    {
     "data": {
      "text/plain": [
       "array([[ 291.60596],\n",
       "       [ 821.52466],\n",
       "       [-610.1736 ],\n",
       "       [ 776.8539 ],\n",
       "       [ -70.79235],\n",
       "       [ 332.34055],\n",
       "       [-170.35948],\n",
       "       [-152.44739],\n",
       "       [-536.04205]], dtype=float32)"
      ]
     },
     "execution_count": 133,
     "metadata": {},
     "output_type": "execute_result"
    }
   ],
   "source": [
    "actions = np.vstack(actions)\n",
    "actions"
   ]
  },
  {
   "cell_type": "code",
   "execution_count": 147,
   "metadata": {},
   "outputs": [
    {
     "name": "stdout",
     "output_type": "stream",
     "text": [
      "0\tCash = $100.00\n",
      "Purchase 292.0 shares for 0.01/share => 3.54\n",
      "1\tCash = $96.46\tPortfolio = $100.00\n",
      "Purchase 88.0 shares for 1.09/share => 96.00\n",
      "2\tCash = $0.46\tPortfolio = $415.00\n",
      "Sell 380.0 shares for 1.34/share => 96.00\n",
      "3\tCash = $508.07\tPortfolio = $508.07\n",
      "Purchase 777.0 shares for 0.36/share => 280.80\n",
      "4\tCash = $227.27\tPortfolio = $508.07\n",
      "Sell 71.0 shares for 0.59/share => 280.80\n",
      "5\tCash = $269.45\tPortfolio = $688.84\n",
      "Purchase 229.0 shares for 1.17/share => 268.31\n",
      "6\tCash = $1.13\tPortfolio = $1096.65\n",
      "Sell 170.0 shares for 1.21/share => 268.31\n",
      "7\tCash = $207.36\tPortfolio = $1135.38\n",
      "Sell 152.0 shares for 1.44/share => 268.31\n",
      "8\tCash = $425.87\tPortfolio = $1307.10\n",
      "Sell 536.0 shares for 1.16/share => 268.31\n",
      "9\tCash = $1048.00\tPortfolio = $1137.37\n"
     ]
    }
   ],
   "source": [
    "cash = 100\n",
    "holdings = np.zeros(10)\n",
    "print('{}\\tCash = ${:.2f}'.format(0, cash))\n",
    "for i, a in enumerate(actions):\n",
    "    if i > 0:\n",
    "        holdings[i] += holdings[i-1]\n",
    "    a = np.round(a.take(0))\n",
    "    price = env.asset_prices[:, i].take(0)\n",
    "    if a > 0:\n",
    "        purchase = a * price\n",
    "        if cash < purchase:\n",
    "            # Use all cash to complete purchase\n",
    "            a = np.floor(cash / price)\n",
    "            purchase = a * price\n",
    "        holdings[i] += a\n",
    "        cash -= purchase\n",
    "        print('Purchase {} shares for {:.2f}/share => {:.2f}'.format(\n",
    "            a, price, purchase))\n",
    "    elif a < 0:\n",
    "        a = np.abs(a)\n",
    "        if a > holdings[i]:\n",
    "            a = holdings[i]\n",
    "        holdings[i] -= a\n",
    "        cash += price * a\n",
    "        print('Sell {} shares for {:.2f}/share => {:.2f}'.format(\n",
    "            a, price, purchase))\n",
    "        \n",
    "    print('{}\\tCash = ${:.2f}\\tPortfolio = ${:.2f}'.format(i+1, cash, holdings[i]*price + cash))"
   ]
  },
  {
   "cell_type": "code",
   "execution_count": 149,
   "metadata": {},
   "outputs": [
    {
     "data": {
      "text/plain": [
       "414.74"
      ]
     },
     "execution_count": 149,
     "metadata": {},
     "output_type": "execute_result"
    }
   ],
   "source": [
    "292 * 1.09 + 96.46"
   ]
  },
  {
   "cell_type": "code",
   "execution_count": 150,
   "metadata": {},
   "outputs": [],
   "source": [
    "asset_prices_means = np.array([\n",
    "    [0.729104  , 0.70066482, 1.33728305],\n",
    "    [0.71028955, 1.15127388, 0.65365377],\n",
    "    [0.83731888, 0.78674174, 1.14186928],\n",
    "    [0.83644462, 0.97910886, 0.94767697],\n",
    "    [0.69826764, 1.14386794, 0.94392694],\n",
    "    [0.69017948, 0.86546669, 0.82813273],\n",
    "    [0.61135848, 0.72119583, 0.70126934],\n",
    "    [0.58991467, 0.86416669, 1.18881049],\n",
    "    [1.48227405, 1.41814408, 0.96752138],\n",
    "    [0.5027847 , 0.5380547 , 0.62442277],\n",
    "    [0.56073499, 1.27841103, 1.18236989]])"
   ]
  },
  {
   "cell_type": "code",
   "execution_count": null,
   "metadata": {},
   "outputs": [],
   "source": [
    "def _generate_asset_prices(self):\n",
    "    asset_prices = np.array([np.random.normal(mu, sig) \n",
    "        for mu, sig in zip(price_means.flatten(), price_var.flatten())]\n",
    "                           ).reshape(price_means.shape)\n",
    "    # Zero out negative asset prices and all following prices - implies\n",
    "    # equity is bankrupt and worthless.\n",
    "    zero_vals = np.vstack(np.where(asset_prices<0))\n",
    "    cols = np.unique(zero_vals[0])\n",
    "    for c in cols:\n",
    "        first_zero = zero_vals[1][np.where(zero_vals[0]==c)[0].min()]\n",
    "        asset_prices[c,first_zero:] = 0\n",
    "    return asset_prices"
   ]
  },
  {
   "cell_type": "code",
   "execution_count": 153,
   "metadata": {},
   "outputs": [],
   "source": [
    "prices = np.array([np.random.normal(np.random.normal(1, 0.25), 0.25) for i in range(30)]).reshape(3, -1)"
   ]
  },
  {
   "cell_type": "code",
   "execution_count": 156,
   "metadata": {},
   "outputs": [],
   "source": [
    "price_means = np.random.normal(1, 0.25, (env.num_assets, env.step_limit))\n",
    "price_var = np.ones(price_means.shape) * 0.25"
   ]
  },
  {
   "cell_type": "code",
   "execution_count": 157,
   "metadata": {},
   "outputs": [],
   "source": [
    "prices = np.array([np.random.normal(mu, sig) for mu, sig in \n",
    "                   zip(price_means.flatten(), price_var.flatten())]).reshape(price_means.shape)"
   ]
  },
  {
   "cell_type": "code",
   "execution_count": 163,
   "metadata": {},
   "outputs": [
    {
     "ename": "ValueError",
     "evalue": "operands could not be broadcast together with shapes (3,) (3,10) ",
     "output_type": "error",
     "traceback": [
      "\u001b[0;31m---------------------------------------------------------------------------\u001b[0m",
      "\u001b[0;31mValueError\u001b[0m                                Traceback (most recent call last)",
      "\u001b[0;32m<ipython-input-163-3f2405fb7690>\u001b[0m in \u001b[0;36m<module>\u001b[0;34m\u001b[0m\n\u001b[0;32m----> 1\u001b[0;31m \u001b[0mnp\u001b[0m\u001b[0;34m.\u001b[0m\u001b[0mrandom\u001b[0m\u001b[0;34m.\u001b[0m\u001b[0mrandint\u001b[0m\u001b[0;34m(\u001b[0m\u001b[0;36m10\u001b[0m\u001b[0;34m,\u001b[0m \u001b[0;36m50\u001b[0m\u001b[0;34m,\u001b[0m \u001b[0;36m3\u001b[0m\u001b[0;34m)\u001b[0m \u001b[0;34m*\u001b[0m \u001b[0mnp\u001b[0m\u001b[0;34m.\u001b[0m\u001b[0mones\u001b[0m\u001b[0;34m(\u001b[0m\u001b[0;34m(\u001b[0m\u001b[0;36m3\u001b[0m\u001b[0;34m,\u001b[0m \u001b[0;36m10\u001b[0m\u001b[0;34m)\u001b[0m\u001b[0;34m)\u001b[0m\u001b[0;34m\u001b[0m\u001b[0;34m\u001b[0m\u001b[0m\n\u001b[0m",
      "\u001b[0;31mValueError\u001b[0m: operands could not be broadcast together with shapes (3,) (3,10) "
     ]
    }
   ],
   "source": [
    "np.random.randint(10, 50, 3) * np.ones((3, 10))"
   ]
  },
  {
   "cell_type": "code",
   "execution_count": null,
   "metadata": {},
   "outputs": [],
   "source": []
  }
 ],
 "metadata": {
  "kernelspec": {
   "display_name": "Python 3",
   "language": "python",
   "name": "python3"
  },
  "language_info": {
   "codemirror_mode": {
    "name": "ipython",
    "version": 3
   },
   "file_extension": ".py",
   "mimetype": "text/x-python",
   "name": "python",
   "nbconvert_exporter": "python",
   "pygments_lexer": "ipython3",
   "version": "3.6.10"
  }
 },
 "nbformat": 4,
 "nbformat_minor": 4
}
