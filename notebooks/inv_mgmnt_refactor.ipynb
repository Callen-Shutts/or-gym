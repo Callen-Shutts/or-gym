{
 "cells": [
  {
   "cell_type": "code",
   "execution_count": 1,
   "metadata": {},
   "outputs": [],
   "source": [
    "import numpy as np\n",
    "import matplotlib as mpl\n",
    "import collections\n",
    "import copy\n",
    "from qbstyles import mpl_style\n",
    "import gym\n",
    "from gym import spaces\n",
    "import or_gym\n",
    "from or_gym.utils.env_config import *\n",
    "from or_gym.algos.rl_utils import create_env\n",
    "from scipy import stats\n",
    "import matplotlib.pyplot as plt\n",
    "%matplotlib inline\n",
    "mpl_style(dark=False)"
   ]
  },
  {
   "cell_type": "code",
   "execution_count": 2,
   "metadata": {},
   "outputs": [],
   "source": [
    "class InvManagementMaster(gym.Env):\n",
    "    \n",
    "    def __init__(self, demand=None, *args, **kwargs):\n",
    "        \n",
    "        self.step_limit = 30\n",
    "        self.initial_inventory = np.array([100, 100, 200])\n",
    "        self.unit_price = np.array([2, 1.5, 1, 0.75])                                       # p\n",
    "        self.unit_cost = np.array([1.5, 1.0, 0.75, 0.5])          # r\n",
    "        self.backlog_cost = np.array([0.1, 0.075, 0.05, 0.025])   # k\n",
    "        self.holding_cost = np.array([0.15, 0.1, 0.05])           # h\n",
    "        self.supply_capacity = np.array([100, 90, 80])            # c\n",
    "        self.lead_times = np.array([3, 5, 10])                    # L\n",
    "        self.backlog = True\n",
    "        self.dist = 1\n",
    "        self.dist_param = {'mu': 20}\n",
    "        self.alpha = 0.97\n",
    "        self.seed_int = 0\n",
    "        self.user_dist = np.zeros(self.step_limit)\n",
    "        self.num_stages = len(self.initial_inventory) + 1\n",
    "        \n",
    "        distributions = {1: stats.poisson,\n",
    "                         2: stats.binom,\n",
    "                         3: stats.randint,\n",
    "                         4: stats.geom,\n",
    "                         5: self.user_dist}\n",
    "        self.demand_dist = distributions[self.dist]\n",
    "        if self.dist < 5:\n",
    "            self.seed(self.seed_int)\n",
    "        if demand is not None:\n",
    "            self.demand_dist = demand\n",
    "        \n",
    "        self.action_space = spaces.Box(\n",
    "            low=np.zeros(self.num_stages-1), high=self.supply_capacity, dtype=np.int16)\n",
    "        self.observation_space = spaces.Box(\n",
    "            low=-np.ones(self.num_stages-1)*self.supply_capacity.max()*self.step_limit*10,\n",
    "            high=self.supply_capacity*self.step_limit)\n",
    "        \n",
    "        self.reset()\n",
    "        \n",
    "    def seed(self, seed=None):\n",
    "        if seed != None:\n",
    "            np.random.seed(seed=int(seed))\n",
    "\n",
    "    def reset(self):\n",
    "        self.current_step = 0\n",
    "        self.inventory_levels = np.zeros((self.step_limit, \n",
    "            self.num_stages-1), dtype=np.int16)\n",
    "        self.inventory_in_transit = self.inventory_levels.copy()\n",
    "        self.backlog_orders = np.zeros((self.step_limit,\n",
    "            self.num_stages), dtype=np.int16)\n",
    "        self.retail_demand = np.zeros(self.step_limit)\n",
    "        self.profits = self.retail_demand.copy()\n",
    "        self.inventory_levels[0] = self.initial_inventory.copy()\n",
    "        self.recievables = self.inventory_in_transit.copy()\n",
    "        self.order_history = np.zeros((self.step_limit, self.num_stages-1))\n",
    "        self.state = self.initial_inventory.copy()\n",
    "        return self.state\n",
    "\n",
    "    def step(self, action):\n",
    "        action = np.maximum(action, 0).astype(int)\n",
    "        t = self.current_step\n",
    "        self.order_history[t] = action.copy()\n",
    "        current_inventory = self.inventory_levels[t].copy()\n",
    "        current_backlog = self.backlog_orders[t].copy()\n",
    "        shipments = np.zeros(self.num_stages)\n",
    "        # Receive inventory in transit\n",
    "        for i in range(self.num_stages - 1):\n",
    "            if t - self.lead_times[i] >= 0:\n",
    "                current_inventory[i] += self.inventory_in_transit[t - self.lead_times[i], i]\n",
    "                self.recievables[t, i] += self.inventory_in_transit[t - self.lead_times[i], i]\n",
    "\n",
    "        # Sell retail demand\n",
    "        if self.dist < 5:\n",
    "            retail_demand = self.demand_dist.rvs(**self.dist_param)\n",
    "        else:\n",
    "            retail_demand = self.demand_dist[t]\n",
    "        \n",
    "        total_demand = current_backlog.copy()\n",
    "        total_demand[0] += retail_demand\n",
    "        total_demand[1:] += action\n",
    "        shipments[-1] = total_demand[-1] # Add capacity limit at this stage\n",
    "        for i in range(self.num_stages - 1):\n",
    "            if current_inventory[i] >= total_demand[i]:\n",
    "                shipments[i] += total_demand[i]\n",
    "                current_inventory[i] -= total_demand[i]\n",
    "                current_backlog[i] = 0\n",
    "            else:\n",
    "                current_backlog[i] = total_demand[i] - current_inventory[i]\n",
    "                shipments[i] += current_inventory[i]\n",
    "                # Update shipments\n",
    "                current_inventory[i] = 0\n",
    "        # Add case for when we use lost sales vs backlog penalty\n",
    "        reward = np.sum(shipments*self.unit_price) - \\\n",
    "            (np.sum(self.unit_cost*shipments + self.backlog_cost*current_backlog) \\\n",
    "             + np.sum(self.holding_cost*current_inventory))\n",
    "\n",
    "        \n",
    "        self.inventory_in_transit[t] = shipments[1:].copy()\n",
    "        \n",
    "        self.current_step += 1\n",
    "        \n",
    "        done = True if self.current_step >= self.step_limit else False\n",
    "        \n",
    "        self.state = current_inventory.copy()\n",
    "        if not done:\n",
    "            self.inventory_levels[self.current_step] = current_inventory.copy()\n",
    "            self.backlog_orders[self.current_step] = current_backlog.copy()\n",
    "        \n",
    "        # Log values\n",
    "        self.retail_demand[t] += retail_demand\n",
    "        self.profits[t] += reward        \n",
    "        \n",
    "        return self.state, reward, done, {\n",
    "            'retail_demand': retail_demand,\n",
    "            'shipments': shipments,\n",
    "            'inventory_in_transit': self.inventory_in_transit.sum(axis=0),\n",
    "            'backlog': self.backlog_orders.sum(axis=0)}"
   ]
  },
  {
   "cell_type": "code",
   "execution_count": 3,
   "metadata": {},
   "outputs": [],
   "source": [
    "env = InvManagementMaster()\n",
    "ep_rewards = []\n",
    "for i in range(1000):\n",
    "    s = env.reset()\n",
    "    R = 0\n",
    "    done = False\n",
    "    while done == False:\n",
    "        valid_obs = env.observation_space.contains(s)\n",
    "        action = env.action_space.sample()\n",
    "        valid_action = env.action_space.contains(action)\n",
    "        s, r, done, _ = env.step(action)\n",
    "        R += r\n",
    "        if not valid_obs:\n",
    "            print(\"Invalid observation:\\t{}\".format(s))\n",
    "        if not valid_action:\n",
    "            print(\"Invalid action:\\t{}\".format(action))\n",
    "        if done:\n",
    "            ep_rewards.append(R)"
   ]
  },
  {
   "cell_type": "code",
   "execution_count": 4,
   "metadata": {},
   "outputs": [
    {
     "data": {
      "text/plain": [
       "(-415.83189999999996, -1193.375, 571.7250000000001)"
      ]
     },
     "execution_count": 4,
     "metadata": {},
     "output_type": "execute_result"
    }
   ],
   "source": [
    "np.mean(ep_rewards), np.min(ep_rewards), np.max(ep_rewards)"
   ]
  },
  {
   "cell_type": "code",
   "execution_count": 5,
   "metadata": {},
   "outputs": [
    {
     "data": {
      "image/png": "[encoded data removed]",
      "text/plain": [
       "<Figure size 1080x1080 with 4 Axes>"
      ]
     },
     "metadata": {},
     "output_type": "display_data"
    }
   ],
   "source": [
    "# Plot results\n",
    "fig, ax = plt.subplots(2, 2, figsize=(15, 15), sharex=True)\n",
    "\n",
    "ax[0, 0].bar(np.arange(env.step_limit), env.retail_demand)\n",
    "ax[0, 0].set_title('Retail Demand')\n",
    "\n",
    "ax[0, 1].bar(np.arange(1, env.step_limit), env.inventory_levels[1:, 0], label='Inventory')\n",
    "ax[0, 1].bar(np.arange(1, env.step_limit), env.recievables[1:, 0], \n",
    "             bottom=env.inventory_levels[1:, 0], label='Recieved Shipments')\n",
    "ax[0, 1].bar(0, env.initial_inventory[0], label='Initial Inventory')\n",
    "ax[0, 1].set_title('Retail Inventory')\n",
    "ax[0, 1].legend(bbox_to_anchor=[1, 1])\n",
    "\n",
    "ax[1, 0].bar(np.arange(1, env.step_limit), env.inventory_levels[1:, 1], label='Inventory')\n",
    "ax[1, 0].bar(np.arange(1, env.step_limit), env.recievables[1:, 1], \n",
    "             bottom=env.inventory_levels[1:, 1], label='Recieved Shipments')\n",
    "ax[1, 0].bar(0, env.initial_inventory[1], label='Initial Inventory')\n",
    "ax[1, 0].set_title('Distribution Inventory')\n",
    "\n",
    "ax[1, 1].bar(np.arange(1, env.step_limit), env.inventory_levels[1:, 2], label='Inventory')\n",
    "ax[1, 1].bar(np.arange(1, env.step_limit), env.recievables[1:, 2], \n",
    "             bottom=env.inventory_levels[1:, 2], label='Recieved Shipments')\n",
    "ax[1, 1].bar(0, env.initial_inventory[2], label='Initial Inventory')\n",
    "ax[1, 1].set_title('Factory Inventory')\n",
    "\n",
    "plt.show()"
   ]
  },
  {
   "cell_type": "markdown",
   "metadata": {},
   "source": [
    "# Test with Ray"
   ]
  },
  {
   "cell_type": "code",
   "execution_count": 6,
   "metadata": {},
   "outputs": [],
   "source": [
    "import ray\n",
    "from ray.rllib import agents\n",
    "from copy import deepcopy\n",
    "import time"
   ]
  },
  {
   "cell_type": "code",
   "execution_count": 7,
   "metadata": {},
   "outputs": [],
   "source": [
    "def set_config(default_config, config_dict=None):\n",
    "    config = deepcopy(default_config)\n",
    "    if type(config_dict) == dict:\n",
    "        for k in config.keys():\n",
    "            if k in config_dict.keys():\n",
    "                if type(config[k]) == dict:\n",
    "                    for m in config[k].keys():\n",
    "                        if m in config_dict.keys():\n",
    "                            config[k][m] = config_dict[m]\n",
    "                else:\n",
    "                    config[k] = config_dict[k]\n",
    "            else:\n",
    "                continue\n",
    "                \n",
    "    return config\n",
    "\n",
    "def train_agent(algo='a3c', iters=50, config_dict={}):\n",
    "    if hasattr(agents, algo):\n",
    "        agent = getattr(agents, algo)\n",
    "        config = set_config(agent.DEFAULT_CONFIG, config_dict)\n",
    "        trainer = getattr(agent, algo.upper() + 'Trainer')(config, \n",
    "            env=create_env('InvManagement-v0'))\n",
    "    else:\n",
    "        raise AttributeError('No attribute {}'.format(algo))\n",
    "    t0 = time.time()\n",
    "    results = []\n",
    "    for n in range(iters):\n",
    "        t1 = time.time()\n",
    "        result = trainer.train()\n",
    "        t2 = time.time()\n",
    "        print(result['info']['learner'])\n",
    "        results.append(result)\n",
    "        if (n + 1) % 10 == 0:\n",
    "            print(\"Iter:\\t{}\\tMean Rewards:\\t{:.1f}\".format(n+1, result['episode_reward_mean']) + \n",
    "                  \"\\tEps per second:\\t{:.3f}\\tTotal Time (s):\\t{:.1f}\".format(\n",
    "                      result['episodes_this_iter']/(t2-t1), t2-t0))\n",
    "    \n",
    "    return trainer, results"
   ]
  },
  {
   "cell_type": "code",
   "execution_count": 8,
   "metadata": {},
   "outputs": [
    {
     "name": "stderr",
     "output_type": "stream",
     "text": [
      "2020-05-14 16:38:53,170\tWARNING services.py:597 -- setpgrp failed, processes may not be cleaned up properly: [Errno 1] Operation not permitted.\n",
      "2020-05-14 16:38:53,172\tINFO resource_spec.py:216 -- Starting Ray with 3.86 GiB memory available for workers and up to 1.95 GiB for objects. You can adjust these settings with ray.init(memory=<bytes>, object_store_memory=<bytes>).\n",
      "2020-05-14 16:38:53,720\tINFO trainer.py:371 -- Tip: set 'eager': true or the --eager flag to enable TensorFlow eager execution\n",
      "2020-05-14 16:38:53,753\tINFO trainer.py:512 -- Current log_level is WARN. For more information, set 'log_level': 'INFO' / 'DEBUG' or use the -v and -vv flags.\n",
      "2020-05-14 16:39:11,317\tINFO trainable.py:102 -- _setup took 17.566 seconds. If your trainable is slow to initialize, consider setting reuse_actors=True to reduce actor creation overheads.\n",
      "2020-05-14 16:39:11,319\tWARNING util.py:45 -- Install gputil for GPU system monitoring.\n"
     ]
    },
    {
     "name": "stdout",
     "output_type": "stream",
     "text": [
      "{'cur_lr': 9.999999747378752e-05, 'policy_loss': -2532.4238, 'policy_entropy': 61.4198, 'var_gnorm': 22.89989, 'vf_loss': 11583.659, 'model': {}, 'grad_gnorm': 40.000004, 'vf_explained_var': 0.0014209747}\n",
      "{'cur_lr': 9.999999747378752e-05, 'policy_loss': 11308.355, 'policy_entropy': 125.76327, 'var_gnorm': 23.24792, 'vf_loss': 48570.707, 'model': {}, 'grad_gnorm': 40.0, 'vf_explained_var': 0.15370637}\n",
      "{'cur_lr': 9.999999747378752e-05, 'policy_loss': -6365.713, 'policy_entropy': 142.90929, 'var_gnorm': 23.725739, 'vf_loss': 15437.881, 'model': {}, 'grad_gnorm': 40.0, 'vf_explained_var': 0.028253198}\n",
      "{'cur_lr': 9.999999747378752e-05, 'policy_loss': -1973.1423, 'policy_entropy': 130.25423, 'var_gnorm': 25.048357, 'vf_loss': 4664.285, 'model': {}, 'grad_gnorm': 40.0, 'vf_explained_var': -0.5026797}\n",
      "{'cur_lr': 9.999999747378752e-05, 'policy_loss': 6079.6064, 'policy_entropy': 108.84271, 'var_gnorm': 26.74982, 'vf_loss': 25671.605, 'model': {}, 'grad_gnorm': 40.0, 'vf_explained_var': -0.3747059}\n",
      "{'cur_lr': 9.999999747378752e-05, 'policy_loss': 12983.283, 'policy_entropy': 110.18167, 'var_gnorm': 27.536797, 'vf_loss': 70764.3, 'model': {}, 'grad_gnorm': 40.0, 'vf_explained_var': 0.7901948}\n",
      "{'cur_lr': 9.999999747378752e-05, 'policy_loss': 8448.091, 'policy_entropy': 107.12296, 'var_gnorm': 28.447588, 'vf_loss': 34191.953, 'model': {}, 'grad_gnorm': 40.000008, 'vf_explained_var': 0.43932408}\n",
      "{'cur_lr': 9.999999747378752e-05, 'policy_loss': 1122.3054, 'policy_entropy': 80.91377, 'var_gnorm': 29.0475, 'vf_loss': 3342.6167, 'model': {}, 'grad_gnorm': 40.000004, 'vf_explained_var': 0.47429085}\n",
      "{'cur_lr': 9.999999747378752e-05, 'policy_loss': -1592.3674, 'policy_entropy': 79.163345, 'var_gnorm': 29.531557, 'vf_loss': 3081.5474, 'model': {}, 'grad_gnorm': 39.99999, 'vf_explained_var': 0.61763984}\n",
      "{'cur_lr': 9.999999747378752e-05, 'policy_loss': -1299.1951, 'policy_entropy': 67.43335, 'var_gnorm': 30.03128, 'vf_loss': 2666.5225, 'model': {}, 'grad_gnorm': 40.000004, 'vf_explained_var': 0.0012737513}\n",
      "Iter:\t10\tMean Rewards:\t-76.5\tEps per second:\t34.696\tTotal Time (s):\t55.9\n",
      "{'cur_lr': 9.999999747378752e-05, 'policy_loss': -3621.306, 'policy_entropy': 121.11343, 'var_gnorm': 30.394342, 'vf_loss': 16736.389, 'model': {}, 'grad_gnorm': 40.000004, 'vf_explained_var': -0.3345517}\n",
      "{'cur_lr': 9.999999747378752e-05, 'policy_loss': -19256.188, 'policy_entropy': 144.23221, 'var_gnorm': 30.680384, 'vf_loss': 108082.45, 'model': {}, 'grad_gnorm': 40.000004, 'vf_explained_var': -0.014636517}\n",
      "{'cur_lr': 9.999999747378752e-05, 'policy_loss': -19569.451, 'policy_entropy': 144.29843, 'var_gnorm': 31.046183, 'vf_loss': 133521.03, 'model': {}, 'grad_gnorm': 40.000008, 'vf_explained_var': 0.00046354532}\n",
      "{'cur_lr': 9.999999747378752e-05, 'policy_loss': -33212.156, 'policy_entropy': 173.61118, 'var_gnorm': 31.71427, 'vf_loss': 247526.86, 'model': {}, 'grad_gnorm': 40.0, 'vf_explained_var': 0.0}\n",
      "{'cur_lr': 9.999999747378752e-05, 'policy_loss': -11348.213, 'policy_entropy': 204.34726, 'var_gnorm': 32.26999, 'vf_loss': 20437.117, 'model': {}, 'grad_gnorm': 40.0, 'vf_explained_var': 0.0026219487}\n",
      "{'cur_lr': 9.999999747378752e-05, 'policy_loss': -4104.227, 'policy_entropy': 115.88866, 'var_gnorm': 32.768677, 'vf_loss': 13360.642, 'model': {}, 'grad_gnorm': 39.999996, 'vf_explained_var': 0.22247583}\n",
      "{'cur_lr': 9.999999747378752e-05, 'policy_loss': -18764.0, 'policy_entropy': 235.20453, 'var_gnorm': 33.127934, 'vf_loss': 70546.89, 'model': {}, 'grad_gnorm': 39.999996, 'vf_explained_var': -0.38909578}\n",
      "{'cur_lr': 9.999999747378752e-05, 'policy_loss': -42210.742, 'policy_entropy': 261.80655, 'var_gnorm': 33.455482, 'vf_loss': 193088.84, 'model': {}, 'grad_gnorm': 40.000004, 'vf_explained_var': 0.0008943081}\n",
      "{'cur_lr': 9.999999747378752e-05, 'policy_loss': -36533.99, 'policy_entropy': 267.51477, 'var_gnorm': 33.766876, 'vf_loss': 140141.95, 'model': {}, 'grad_gnorm': 40.000004, 'vf_explained_var': 9.36985e-05}\n",
      "{'cur_lr': 9.999999747378752e-05, 'policy_loss': 5806.506, 'policy_entropy': 278.8467, 'var_gnorm': 34.08414, 'vf_loss': 8296.594, 'model': {}, 'grad_gnorm': 39.999996, 'vf_explained_var': 0.05351758}\n",
      "Iter:\t20\tMean Rewards:\t-375.3\tEps per second:\t34.809\tTotal Time (s):\t111.8\n",
      "{'cur_lr': 9.999999747378752e-05, 'policy_loss': 2510.1736, 'policy_entropy': 140.38882, 'var_gnorm': 34.320442, 'vf_loss': 14087.071, 'model': {}, 'grad_gnorm': 39.999992, 'vf_explained_var': 0.3524791}\n",
      "{'cur_lr': 9.999999747378752e-05, 'policy_loss': 4024.6606, 'policy_entropy': 210.0935, 'var_gnorm': 34.551888, 'vf_loss': 9208.494, 'model': {}, 'grad_gnorm': 40.000004, 'vf_explained_var': 0.36242938}\n",
      "{'cur_lr': 9.999999747378752e-05, 'policy_loss': -76764.875, 'policy_entropy': 329.6223, 'var_gnorm': 34.81889, 'vf_loss': 416140.1, 'model': {}, 'grad_gnorm': 40.0, 'vf_explained_var': -0.00011861324}\n",
      "{'cur_lr': 9.999999747378752e-05, 'policy_loss': 8104.882, 'policy_entropy': 210.75984, 'var_gnorm': 35.008224, 'vf_loss': 9788.811, 'model': {}, 'grad_gnorm': 40.000004, 'vf_explained_var': -0.18848419}\n",
      "{'cur_lr': 9.999999747378752e-05, 'policy_loss': -12260.773, 'policy_entropy': 321.89493, 'var_gnorm': 35.241386, 'vf_loss': 28966.037, 'model': {}, 'grad_gnorm': 40.0, 'vf_explained_var': 0.13644773}\n",
      "{'cur_lr': 9.999999747378752e-05, 'policy_loss': -61397.92, 'policy_entropy': 365.32135, 'var_gnorm': 35.446575, 'vf_loss': 164097.8, 'model': {}, 'grad_gnorm': 39.999985, 'vf_explained_var': 0.0020368695}\n",
      "{'cur_lr': 9.999999747378752e-05, 'policy_loss': -82097.86, 'policy_entropy': 382.84143, 'var_gnorm': 35.698357, 'vf_loss': 277255.7, 'model': {}, 'grad_gnorm': 39.999996, 'vf_explained_var': 5.465746e-05}\n",
      "{'cur_lr': 9.999999747378752e-05, 'policy_loss': -38898.805, 'policy_entropy': 410.0177, 'var_gnorm': 35.936092, 'vf_loss': 46515.094, 'model': {}, 'grad_gnorm': 39.999996, 'vf_explained_var': 0.0030499697}\n",
      "{'cur_lr': 9.999999747378752e-05, 'policy_loss': -26864.086, 'policy_entropy': 425.3815, 'var_gnorm': 36.159687, 'vf_loss': 84699.445, 'model': {}, 'grad_gnorm': 40.000004, 'vf_explained_var': 0.00016832352}\n",
      "{'cur_lr': 9.999999747378752e-05, 'policy_loss': -24812.604, 'policy_entropy': 439.69867, 'var_gnorm': 36.384823, 'vf_loss': 96216.55, 'model': {}, 'grad_gnorm': 40.0, 'vf_explained_var': -0.00036644936}\n",
      "Iter:\t30\tMean Rewards:\t-698.9\tEps per second:\t32.026\tTotal Time (s):\t168.0\n",
      "{'cur_lr': 9.999999747378752e-05, 'policy_loss': 33925.344, 'policy_entropy': 443.15436, 'var_gnorm': 36.586536, 'vf_loss': 45141.555, 'model': {}, 'grad_gnorm': 40.0, 'vf_explained_var': -0.005770445}\n",
      "{'cur_lr': 9.999999747378752e-05, 'policy_loss': 8048.1064, 'policy_entropy': 456.55585, 'var_gnorm': 36.81072, 'vf_loss': 46367.93, 'model': {}, 'grad_gnorm': 40.000004, 'vf_explained_var': 3.9100647e-05}\n",
      "{'cur_lr': 9.999999747378752e-05, 'policy_loss': -65780.53, 'policy_entropy': 489.86795, 'var_gnorm': 37.059437, 'vf_loss': 117760.36, 'model': {}, 'grad_gnorm': 39.999992, 'vf_explained_var': -0.0016493797}\n",
      "{'cur_lr': 9.999999747378752e-05, 'policy_loss': -17044.164, 'policy_entropy': 487.4955, 'var_gnorm': 37.266216, 'vf_loss': 58766.887, 'model': {}, 'grad_gnorm': 39.999996, 'vf_explained_var': 0.038303792}\n",
      "{'cur_lr': 9.999999747378752e-05, 'policy_loss': -48029.63, 'policy_entropy': 506.95673, 'var_gnorm': 37.477978, 'vf_loss': 63444.164, 'model': {}, 'grad_gnorm': 40.00001, 'vf_explained_var': -0.0013926029}\n",
      "{'cur_lr': 9.999999747378752e-05, 'policy_loss': -46156.348, 'policy_entropy': 522.60065, 'var_gnorm': 37.705082, 'vf_loss': 47858.79, 'model': {}, 'grad_gnorm': 39.999996, 'vf_explained_var': -0.0010564327}\n",
      "{'cur_lr': 9.999999747378752e-05, 'policy_loss': 37214.36, 'policy_entropy': 545.2686, 'var_gnorm': 37.90203, 'vf_loss': 52934.805, 'model': {}, 'grad_gnorm': 40.0, 'vf_explained_var': 0.008045077}\n",
      "{'cur_lr': 9.999999747378752e-05, 'policy_loss': -73005.164, 'policy_entropy': 566.6897, 'var_gnorm': 38.046165, 'vf_loss': 108864.79, 'model': {}, 'grad_gnorm': 40.0, 'vf_explained_var': -0.001928091}\n",
      "{'cur_lr': 9.999999747378752e-05, 'policy_loss': -40805.8, 'policy_entropy': 584.8804, 'var_gnorm': 38.244854, 'vf_loss': 31650.15, 'model': {}, 'grad_gnorm': 39.999992, 'vf_explained_var': -0.009890199}\n",
      "{'cur_lr': 9.999999747378752e-05, 'policy_loss': 10448.287, 'policy_entropy': 600.94037, 'var_gnorm': 38.489853, 'vf_loss': 5608.548, 'model': {}, 'grad_gnorm': 40.000004, 'vf_explained_var': -0.048192978}\n",
      "Iter:\t40\tMean Rewards:\t-701.4\tEps per second:\t33.460\tTotal Time (s):\t223.4\n"
     ]
    },
    {
     "name": "stdout",
     "output_type": "stream",
     "text": [
      "{'cur_lr': 9.999999747378752e-05, 'policy_loss': -48195.29, 'policy_entropy': 609.17664, 'var_gnorm': 38.67057, 'vf_loss': 38165.703, 'model': {}, 'grad_gnorm': 39.999996, 'vf_explained_var': -0.046762347}\n",
      "{'cur_lr': 9.999999747378752e-05, 'policy_loss': -74302.21, 'policy_entropy': 594.2096, 'var_gnorm': 38.87959, 'vf_loss': 84174.98, 'model': {}, 'grad_gnorm': 40.0, 'vf_explained_var': 0.30596334}\n",
      "{'cur_lr': 9.999999747378752e-05, 'policy_loss': -135758.86, 'policy_entropy': 629.53235, 'var_gnorm': 39.079376, 'vf_loss': 288322.0, 'model': {}, 'grad_gnorm': 39.999996, 'vf_explained_var': -0.013166189}\n",
      "{'cur_lr': 9.999999747378752e-05, 'policy_loss': 95150.266, 'policy_entropy': 635.62787, 'var_gnorm': 39.263084, 'vf_loss': 130912.7, 'model': {}, 'grad_gnorm': 39.99999, 'vf_explained_var': 0.150922}\n",
      "{'cur_lr': 9.999999747378752e-05, 'policy_loss': -53723.773, 'policy_entropy': 638.98584, 'var_gnorm': 39.412823, 'vf_loss': 40932.254, 'model': {}, 'grad_gnorm': 40.0, 'vf_explained_var': -0.0014446974}\n",
      "{'cur_lr': 9.999999747378752e-05, 'policy_loss': -41575.953, 'policy_entropy': 622.9159, 'var_gnorm': 39.59356, 'vf_loss': 23581.99, 'model': {}, 'grad_gnorm': 40.000008, 'vf_explained_var': 0.050646424}\n",
      "{'cur_lr': 9.999999747378752e-05, 'policy_loss': 13772.543, 'policy_entropy': 650.24365, 'var_gnorm': 39.762028, 'vf_loss': 10325.929, 'model': {}, 'grad_gnorm': 40.0, 'vf_explained_var': 0.0101136565}\n",
      "{'cur_lr': 9.999999747378752e-05, 'policy_loss': 96445.766, 'policy_entropy': 647.9164, 'var_gnorm': 39.90621, 'vf_loss': 133789.69, 'model': {}, 'grad_gnorm': 39.999992, 'vf_explained_var': 0.001292944}\n",
      "{'cur_lr': 9.999999747378752e-05, 'policy_loss': -85411.414, 'policy_entropy': 650.4061, 'var_gnorm': 40.11553, 'vf_loss': 115720.41, 'model': {}, 'grad_gnorm': 39.999996, 'vf_explained_var': 0.07756907}\n",
      "{'cur_lr': 9.999999747378752e-05, 'policy_loss': 67439.016, 'policy_entropy': 624.0016, 'var_gnorm': 40.28152, 'vf_loss': 81850.68, 'model': {}, 'grad_gnorm': 40.0, 'vf_explained_var': 0.3244341}\n",
      "Iter:\t50\tMean Rewards:\t-701.1\tEps per second:\t30.899\tTotal Time (s):\t277.0\n"
     ]
    }
   ],
   "source": [
    "ray.init(ignore_reinit_error=True)\n",
    "trainer, results = train_agent()"
   ]
  },
  {
   "cell_type": "code",
   "execution_count": 9,
   "metadata": {},
   "outputs": [
    {
     "data": {
      "image/png": "[encoded data removed]",
      "text/plain": [
       "<Figure size 864x576 with 3 Axes>"
      ]
     },
     "metadata": {},
     "output_type": "display_data"
    }
   ],
   "source": [
    "mean_rewards = [i['episode_reward_mean'] for i in results]\n",
    "policy_loss = [i['info']['learner']['policy_loss'] for i in results]\n",
    "value_loss = [i['info']['learner']['vf_loss'] for i in results]\n",
    "\n",
    "fig, ax = plt.subplots(3, 1, figsize=(12,8))\n",
    "ax[0].plot(mean_rewards)\n",
    "ax[0].set_title('Rewards')\n",
    "ax[1].plot(policy_loss)\n",
    "ax[1].set_title('Policy Loss')\n",
    "ax[2].plot(value_loss)\n",
    "ax[2].set_title('Value Loss')\n",
    "plt.tight_layout()\n",
    "plt.show()"
   ]
  },
  {
   "cell_type": "markdown",
   "metadata": {},
   "source": [
    "# Compare to Hector's Environment"
   ]
  },
  {
   "cell_type": "code",
   "execution_count": 10,
   "metadata": {
    "scrolled": false
   },
   "outputs": [
    {
     "data": {
      "text/plain": [
       "{'num_workers': 2,\n",
       " 'num_envs_per_worker': 1,\n",
       " 'sample_batch_size': 10,\n",
       " 'batch_mode': 'truncate_episodes',\n",
       " 'num_gpus': 0,\n",
       " 'train_batch_size': 200,\n",
       " 'model': {'conv_filters': None,\n",
       "  'conv_activation': 'relu',\n",
       "  'fcnet_activation': 'tanh',\n",
       "  'fcnet_hiddens': [256, 256],\n",
       "  'free_log_std': False,\n",
       "  'no_final_linear': False,\n",
       "  'vf_share_layers': True,\n",
       "  'use_lstm': False,\n",
       "  'max_seq_len': 20,\n",
       "  'lstm_cell_size': 256,\n",
       "  'lstm_use_prev_action_reward': False,\n",
       "  'state_shape': None,\n",
       "  'framestack': True,\n",
       "  'dim': 84,\n",
       "  'grayscale': False,\n",
       "  'zero_mean': True,\n",
       "  'custom_preprocessor': None,\n",
       "  'custom_model': None,\n",
       "  'custom_action_dist': None,\n",
       "  'custom_options': {}},\n",
       " 'optimizer': {},\n",
       " 'gamma': 0.99,\n",
       " 'horizon': None,\n",
       " 'soft_horizon': False,\n",
       " 'no_done_at_end': False,\n",
       " 'env_config': {},\n",
       " 'env': 'InvManagementBacklogEnv',\n",
       " 'clip_rewards': None,\n",
       " 'clip_actions': True,\n",
       " 'preprocessor_pref': 'deepmind',\n",
       " 'lr': 0.0001,\n",
       " 'monitor': False,\n",
       " 'log_level': 'WARN',\n",
       " 'callbacks': {'on_episode_start': None,\n",
       "  'on_episode_step': None,\n",
       "  'on_episode_end': None,\n",
       "  'on_sample_end': None,\n",
       "  'on_train_result': None,\n",
       "  'on_postprocess_traj': None},\n",
       " 'ignore_worker_failures': False,\n",
       " 'log_sys_usage': True,\n",
       " 'eager': False,\n",
       " 'eager_tracing': False,\n",
       " 'no_eager_on_workers': False,\n",
       " 'evaluation_interval': None,\n",
       " 'evaluation_num_episodes': 10,\n",
       " 'evaluation_config': {},\n",
       " 'sample_async': True,\n",
       " 'observation_filter': 'NoFilter',\n",
       " 'synchronize_filters': True,\n",
       " 'tf_session_args': {'intra_op_parallelism_threads': 2,\n",
       "  'inter_op_parallelism_threads': 2,\n",
       "  'gpu_options': {'allow_growth': True},\n",
       "  'log_device_placement': False,\n",
       "  'device_count': {'CPU': 1},\n",
       "  'allow_soft_placement': True},\n",
       " 'local_tf_session_args': {'intra_op_parallelism_threads': 8,\n",
       "  'inter_op_parallelism_threads': 8},\n",
       " 'compress_observations': False,\n",
       " 'collect_metrics_timeout': 180,\n",
       " 'metrics_smoothing_episodes': 100,\n",
       " 'remote_worker_envs': False,\n",
       " 'remote_env_batch_wait_ms': 0,\n",
       " 'min_iter_time_s': 5,\n",
       " 'timesteps_per_iteration': 0,\n",
       " 'seed': None,\n",
       " 'num_cpus_per_worker': 1,\n",
       " 'num_gpus_per_worker': 0,\n",
       " 'custom_resources_per_worker': {},\n",
       " 'num_cpus_for_driver': 1,\n",
       " 'memory': 0,\n",
       " 'object_store_memory': 0,\n",
       " 'memory_per_worker': 0,\n",
       " 'object_store_memory_per_worker': 0,\n",
       " 'input': 'sampler',\n",
       " 'input_evaluation': ['is', 'wis'],\n",
       " 'postprocess_inputs': False,\n",
       " 'shuffle_buffer_size': 0,\n",
       " 'output': None,\n",
       " 'output_compress_columns': ['obs', 'new_obs'],\n",
       " 'output_max_file_size': 67108864,\n",
       " 'multiagent': {'policies': {},\n",
       "  'policy_mapping_fn': None,\n",
       "  'policies_to_train': None},\n",
       " 'use_pytorch': False,\n",
       " 'lambda': 1.0,\n",
       " 'grad_clip': 40.0,\n",
       " 'lr_schedule': None,\n",
       " 'vf_loss_coeff': 0.5,\n",
       " 'entropy_coeff': 0.01}"
      ]
     },
     "execution_count": 10,
     "metadata": {},
     "output_type": "execute_result"
    },
    {
     "name": "stderr",
     "output_type": "stream",
     "text": [
      "2020-05-14 16:54:14,491\tERROR worker.py:956 -- print_logs: Connection closed by server.\n",
      "2020-05-14 16:54:14,492\tERROR worker.py:1056 -- listen_error_messages_raylet: Connection closed by server.\n",
      "2020-05-14 16:54:14,493\tERROR import_thread.py:97 -- ImportThread: Connection closed by server.\n"
     ]
    },
    {
     "name": "stdout",
     "output_type": "stream",
     "text": [
      "\u001b[2m\u001b[33m(pid=raylet)\u001b[0m *** Aborted at 1589493254 (unix time) try \"date -d @1589493254\" if you are using GNU date ***\n",
      "\u001b[2m\u001b[33m(pid=raylet)\u001b[0m PC: @                0x0 (unknown)\n",
      "\u001b[2m\u001b[33m(pid=raylet)\u001b[0m *** SIGTERM (@0x3e800005e5a) received by PID 23399 (TID 0x7f0564787740) from PID 24154; stack trace: ***\n",
      "\u001b[2m\u001b[33m(pid=raylet)\u001b[0m     @     0x7f0563cfc390 (unknown)\n",
      "\u001b[2m\u001b[33m(pid=raylet)\u001b[0m     @     0x7f056360a9f3 epoll_wait\n",
      "\u001b[2m\u001b[33m(pid=raylet)\u001b[0m     @           0x418e1c boost::asio::detail::epoll_reactor::run()\n",
      "\u001b[2m\u001b[33m(pid=raylet)\u001b[0m     @           0x4194b9 boost::asio::detail::scheduler::run()\n",
      "\u001b[2m\u001b[33m(pid=raylet)\u001b[0m     @           0x409c5f main\n",
      "\u001b[2m\u001b[33m(pid=raylet)\u001b[0m     @     0x7f0563523830 __libc_start_main\n",
      "\u001b[2m\u001b[33m(pid=raylet)\u001b[0m     @           0x40ed81 (unknown)\n"
     ]
    }
   ],
   "source": [
    "trainer.config"
   ]
  },
  {
   "cell_type": "code",
   "execution_count": 3,
   "metadata": {},
   "outputs": [],
   "source": [
    "demand = np.ones(30)*2\n",
    "env1 = InvManagementMaster(demand=demand)\n",
    "env1.dist = 5\n",
    "env2 = or_gym.make('InvManagement-v0', env_config={'demand_dist': demand, 'dist': 5, 'user_D': demand})\n",
    "# env2.demand_dist = demand.copy()\n",
    "# env2.dist = 5\n",
    "# env2.reset()\n",
    "# env2.user_D = demand.copy()"
   ]
  },
  {
   "cell_type": "code",
   "execution_count": 4,
   "metadata": {
    "scrolled": true
   },
   "outputs": [],
   "source": [
    "# env1 = InvManagementMaster()\n",
    "# env2 = or_gym.make('InvManagement-v0')\n",
    "\n",
    "action = [1, 1, 1]\n",
    "\n",
    "ep_rewards1, ep_rewards2 = [], []\n",
    "for n in range(1):\n",
    "    s1, s2 = [], []\n",
    "    r1, r2 = [], []\n",
    "    env1.reset()\n",
    "    env2.reset()\n",
    "    for i in range(env1.step_limit):\n",
    "#         print(\"Env 1\")\n",
    "        s_1, r_1, done, _ = env1.step(action)\n",
    "#         print(\"Env 2\")\n",
    "        s_2, r_2, done, _ = env2.step(action)\n",
    "        s1.append(s_1)\n",
    "        r1.append(r_1)\n",
    "        s2.append(s_2)\n",
    "        r2.append(r_2)\n",
    "        \n",
    "    ep_rewards1.append(sum(r1))\n",
    "    ep_rewards2.append(sum(r2))"
   ]
  },
  {
   "cell_type": "code",
   "execution_count": 5,
   "metadata": {},
   "outputs": [
    {
     "data": {
      "text/plain": [
       "-880.4499999999999"
      ]
     },
     "execution_count": 5,
     "metadata": {},
     "output_type": "execute_result"
    }
   ],
   "source": [
    "np.mean(ep_rewards1)"
   ]
  },
  {
   "cell_type": "code",
   "execution_count": 6,
   "metadata": {},
   "outputs": [
    {
     "data": {
      "text/plain": [
       "-563.805223508766"
      ]
     },
     "execution_count": 6,
     "metadata": {},
     "output_type": "execute_result"
    }
   ],
   "source": [
    "np.mean(ep_rewards2)"
   ]
  },
  {
   "cell_type": "code",
   "execution_count": 7,
   "metadata": {},
   "outputs": [
    {
     "ename": "ValueError",
     "evalue": "x and y must be the same size",
     "output_type": "error",
     "traceback": [
      "\u001b[0;31m---------------------------------------------------------------------------\u001b[0m",
      "\u001b[0;31mValueError\u001b[0m                                Traceback (most recent call last)",
      "\u001b[0;32m<ipython-input-7-a331ebd72745>\u001b[0m in \u001b[0;36m<module>\u001b[0;34m\u001b[0m\n\u001b[1;32m      1\u001b[0m \u001b[0mplt\u001b[0m\u001b[0;34m.\u001b[0m\u001b[0mfigure\u001b[0m\u001b[0;34m(\u001b[0m\u001b[0mfigsize\u001b[0m\u001b[0;34m=\u001b[0m\u001b[0;34m(\u001b[0m\u001b[0;36m12\u001b[0m\u001b[0;34m,\u001b[0m\u001b[0;36m8\u001b[0m\u001b[0;34m)\u001b[0m\u001b[0;34m)\u001b[0m\u001b[0;34m\u001b[0m\u001b[0;34m\u001b[0m\u001b[0m\n\u001b[0;32m----> 2\u001b[0;31m \u001b[0mplt\u001b[0m\u001b[0;34m.\u001b[0m\u001b[0mscatter\u001b[0m\u001b[0;34m(\u001b[0m\u001b[0mnp\u001b[0m\u001b[0;34m.\u001b[0m\u001b[0marange\u001b[0m\u001b[0;34m(\u001b[0m\u001b[0;36m1000\u001b[0m\u001b[0;34m)\u001b[0m\u001b[0;34m,\u001b[0m \u001b[0mnp\u001b[0m\u001b[0;34m.\u001b[0m\u001b[0marray\u001b[0m\u001b[0;34m(\u001b[0m\u001b[0mep_rewards1\u001b[0m\u001b[0;34m)\u001b[0m\u001b[0;34m,\u001b[0m \u001b[0mlabel\u001b[0m\u001b[0;34m=\u001b[0m\u001b[0;34m'Env 1'\u001b[0m\u001b[0;34m)\u001b[0m\u001b[0;34m\u001b[0m\u001b[0;34m\u001b[0m\u001b[0m\n\u001b[0m\u001b[1;32m      3\u001b[0m \u001b[0mplt\u001b[0m\u001b[0;34m.\u001b[0m\u001b[0mscatter\u001b[0m\u001b[0;34m(\u001b[0m\u001b[0mnp\u001b[0m\u001b[0;34m.\u001b[0m\u001b[0marange\u001b[0m\u001b[0;34m(\u001b[0m\u001b[0;36m1000\u001b[0m\u001b[0;34m)\u001b[0m\u001b[0;34m,\u001b[0m \u001b[0mep_rewards2\u001b[0m\u001b[0;34m,\u001b[0m \u001b[0mlabel\u001b[0m\u001b[0;34m=\u001b[0m\u001b[0;34m'Env 2'\u001b[0m\u001b[0;34m)\u001b[0m\u001b[0;34m\u001b[0m\u001b[0;34m\u001b[0m\u001b[0m\n\u001b[1;32m      4\u001b[0m \u001b[0mplt\u001b[0m\u001b[0;34m.\u001b[0m\u001b[0mshow\u001b[0m\u001b[0;34m(\u001b[0m\u001b[0;34m)\u001b[0m\u001b[0;34m\u001b[0m\u001b[0;34m\u001b[0m\u001b[0m\n",
      "\u001b[0;32m~/anaconda3/lib/python3.6/site-packages/matplotlib/pyplot.py\u001b[0m in \u001b[0;36mscatter\u001b[0;34m(x, y, s, c, marker, cmap, norm, vmin, vmax, alpha, linewidths, verts, edgecolors, plotnonfinite, data, **kwargs)\u001b[0m\n\u001b[1;32m   2845\u001b[0m         \u001b[0mverts\u001b[0m\u001b[0;34m=\u001b[0m\u001b[0mverts\u001b[0m\u001b[0;34m,\u001b[0m \u001b[0medgecolors\u001b[0m\u001b[0;34m=\u001b[0m\u001b[0medgecolors\u001b[0m\u001b[0;34m,\u001b[0m\u001b[0;34m\u001b[0m\u001b[0;34m\u001b[0m\u001b[0m\n\u001b[1;32m   2846\u001b[0m         plotnonfinite=plotnonfinite, **({\"data\": data} if data is not\n\u001b[0;32m-> 2847\u001b[0;31m         None else {}), **kwargs)\n\u001b[0m\u001b[1;32m   2848\u001b[0m     \u001b[0msci\u001b[0m\u001b[0;34m(\u001b[0m\u001b[0m__ret\u001b[0m\u001b[0;34m)\u001b[0m\u001b[0;34m\u001b[0m\u001b[0;34m\u001b[0m\u001b[0m\n\u001b[1;32m   2849\u001b[0m     \u001b[0;32mreturn\u001b[0m \u001b[0m__ret\u001b[0m\u001b[0;34m\u001b[0m\u001b[0;34m\u001b[0m\u001b[0m\n",
      "\u001b[0;32m~/anaconda3/lib/python3.6/site-packages/matplotlib/__init__.py\u001b[0m in \u001b[0;36minner\u001b[0;34m(ax, data, *args, **kwargs)\u001b[0m\n\u001b[1;32m   1599\u001b[0m     \u001b[0;32mdef\u001b[0m \u001b[0minner\u001b[0m\u001b[0;34m(\u001b[0m\u001b[0max\u001b[0m\u001b[0;34m,\u001b[0m \u001b[0;34m*\u001b[0m\u001b[0margs\u001b[0m\u001b[0;34m,\u001b[0m \u001b[0mdata\u001b[0m\u001b[0;34m=\u001b[0m\u001b[0;32mNone\u001b[0m\u001b[0;34m,\u001b[0m \u001b[0;34m**\u001b[0m\u001b[0mkwargs\u001b[0m\u001b[0;34m)\u001b[0m\u001b[0;34m:\u001b[0m\u001b[0;34m\u001b[0m\u001b[0;34m\u001b[0m\u001b[0m\n\u001b[1;32m   1600\u001b[0m         \u001b[0;32mif\u001b[0m \u001b[0mdata\u001b[0m \u001b[0;32mis\u001b[0m \u001b[0;32mNone\u001b[0m\u001b[0;34m:\u001b[0m\u001b[0;34m\u001b[0m\u001b[0;34m\u001b[0m\u001b[0m\n\u001b[0;32m-> 1601\u001b[0;31m             \u001b[0;32mreturn\u001b[0m \u001b[0mfunc\u001b[0m\u001b[0;34m(\u001b[0m\u001b[0max\u001b[0m\u001b[0;34m,\u001b[0m \u001b[0;34m*\u001b[0m\u001b[0mmap\u001b[0m\u001b[0;34m(\u001b[0m\u001b[0msanitize_sequence\u001b[0m\u001b[0;34m,\u001b[0m \u001b[0margs\u001b[0m\u001b[0;34m)\u001b[0m\u001b[0;34m,\u001b[0m \u001b[0;34m**\u001b[0m\u001b[0mkwargs\u001b[0m\u001b[0;34m)\u001b[0m\u001b[0;34m\u001b[0m\u001b[0;34m\u001b[0m\u001b[0m\n\u001b[0m\u001b[1;32m   1602\u001b[0m \u001b[0;34m\u001b[0m\u001b[0m\n\u001b[1;32m   1603\u001b[0m         \u001b[0mbound\u001b[0m \u001b[0;34m=\u001b[0m \u001b[0mnew_sig\u001b[0m\u001b[0;34m.\u001b[0m\u001b[0mbind\u001b[0m\u001b[0;34m(\u001b[0m\u001b[0max\u001b[0m\u001b[0;34m,\u001b[0m \u001b[0;34m*\u001b[0m\u001b[0margs\u001b[0m\u001b[0;34m,\u001b[0m \u001b[0;34m**\u001b[0m\u001b[0mkwargs\u001b[0m\u001b[0;34m)\u001b[0m\u001b[0;34m\u001b[0m\u001b[0;34m\u001b[0m\u001b[0m\n",
      "\u001b[0;32m~/anaconda3/lib/python3.6/site-packages/matplotlib/axes/_axes.py\u001b[0m in \u001b[0;36mscatter\u001b[0;34m(self, x, y, s, c, marker, cmap, norm, vmin, vmax, alpha, linewidths, verts, edgecolors, plotnonfinite, **kwargs)\u001b[0m\n\u001b[1;32m   4442\u001b[0m         \u001b[0my\u001b[0m \u001b[0;34m=\u001b[0m \u001b[0mnp\u001b[0m\u001b[0;34m.\u001b[0m\u001b[0mma\u001b[0m\u001b[0;34m.\u001b[0m\u001b[0mravel\u001b[0m\u001b[0;34m(\u001b[0m\u001b[0my\u001b[0m\u001b[0;34m)\u001b[0m\u001b[0;34m\u001b[0m\u001b[0;34m\u001b[0m\u001b[0m\n\u001b[1;32m   4443\u001b[0m         \u001b[0;32mif\u001b[0m \u001b[0mx\u001b[0m\u001b[0;34m.\u001b[0m\u001b[0msize\u001b[0m \u001b[0;34m!=\u001b[0m \u001b[0my\u001b[0m\u001b[0;34m.\u001b[0m\u001b[0msize\u001b[0m\u001b[0;34m:\u001b[0m\u001b[0;34m\u001b[0m\u001b[0;34m\u001b[0m\u001b[0m\n\u001b[0;32m-> 4444\u001b[0;31m             \u001b[0;32mraise\u001b[0m \u001b[0mValueError\u001b[0m\u001b[0;34m(\u001b[0m\u001b[0;34m\"x and y must be the same size\"\u001b[0m\u001b[0;34m)\u001b[0m\u001b[0;34m\u001b[0m\u001b[0;34m\u001b[0m\u001b[0m\n\u001b[0m\u001b[1;32m   4445\u001b[0m \u001b[0;34m\u001b[0m\u001b[0m\n\u001b[1;32m   4446\u001b[0m         \u001b[0;32mif\u001b[0m \u001b[0ms\u001b[0m \u001b[0;32mis\u001b[0m \u001b[0;32mNone\u001b[0m\u001b[0;34m:\u001b[0m\u001b[0;34m\u001b[0m\u001b[0;34m\u001b[0m\u001b[0m\n",
      "\u001b[0;31mValueError\u001b[0m: x and y must be the same size"
     ]
    },
    {
     "data": {
      "image/png": "[encoded data removed]",
      "text/plain": [
       "<Figure size 864x576 with 1 Axes>"
      ]
     },
     "metadata": {},
     "output_type": "display_data"
    }
   ],
   "source": [
    "plt.figure(figsize=(12,8))\n",
    "plt.scatter(np.arange(1000), np.array(ep_rewards1), label='Env 1')\n",
    "plt.scatter(np.arange(1000), ep_rewards2, label='Env 2')\n",
    "plt.show()"
   ]
  },
  {
   "cell_type": "code",
   "execution_count": 8,
   "metadata": {},
   "outputs": [
    {
     "data": {
      "text/plain": [
       "[array([ 98,  99, 199], dtype=int16),\n",
       " array([ 96,  98, 198], dtype=int16),\n",
       " array([ 94,  97, 197], dtype=int16),\n",
       " array([ 93,  96, 196], dtype=int16),\n",
       " array([ 92,  95, 195], dtype=int16),\n",
       " array([ 91,  95, 194], dtype=int16),\n",
       " array([ 90,  95, 193], dtype=int16),\n",
       " array([ 89,  95, 192], dtype=int16),\n",
       " array([ 88,  95, 191], dtype=int16),\n",
       " array([ 87,  95, 190], dtype=int16),\n",
       " array([ 86,  95, 190], dtype=int16),\n",
       " array([ 85,  95, 190], dtype=int16),\n",
       " array([ 84,  95, 190], dtype=int16),\n",
       " array([ 83,  95, 190], dtype=int16),\n",
       " array([ 82,  95, 190], dtype=int16),\n",
       " array([ 81,  95, 190], dtype=int16),\n",
       " array([ 80,  95, 190], dtype=int16),\n",
       " array([ 79,  95, 190], dtype=int16),\n",
       " array([ 78,  95, 190], dtype=int16),\n",
       " array([ 77,  95, 190], dtype=int16),\n",
       " array([ 76,  95, 190], dtype=int16),\n",
       " array([ 75,  95, 190], dtype=int16),\n",
       " array([ 74,  95, 190], dtype=int16),\n",
       " array([ 73,  95, 190], dtype=int16),\n",
       " array([ 72,  95, 190], dtype=int16),\n",
       " array([ 71,  95, 190], dtype=int16),\n",
       " array([ 70,  95, 190], dtype=int16),\n",
       " array([ 69,  95, 190], dtype=int16),\n",
       " array([ 68,  95, 190], dtype=int16),\n",
       " array([ 67,  95, 190], dtype=int16)]"
      ]
     },
     "execution_count": 8,
     "metadata": {},
     "output_type": "execute_result"
    }
   ],
   "source": [
    "s1"
   ]
  },
  {
   "cell_type": "code",
   "execution_count": 9,
   "metadata": {},
   "outputs": [
    {
     "data": {
      "text/plain": [
       "True"
      ]
     },
     "execution_count": 9,
     "metadata": {},
     "output_type": "execute_result"
    }
   ],
   "source": [
    "np.allclose(np.vstack(s2)[:,:3], s1)"
   ]
  },
  {
   "cell_type": "code",
   "execution_count": 10,
   "metadata": {},
   "outputs": [
    {
     "data": {
      "text/plain": [
       "[array([ 98.,  99., 199.,   0.,   0.,   0.,   0.,   0.,   0.,   0.,   0.,\n",
       "          0.,   0.,   0.,   0.,   0.,   0.,   0.,   0.,   0.,   0.,   0.,\n",
       "          0.,   0.,   0.,   0.,   0.,   0.,   0.,   0.,   1.,   1.,   1.]),\n",
       " array([ 96.,  98., 198.,   0.,   0.,   0.,   0.,   0.,   0.,   0.,   0.,\n",
       "          0.,   0.,   0.,   0.,   0.,   0.,   0.,   0.,   0.,   0.,   0.,\n",
       "          0.,   0.,   0.,   0.,   0.,   1.,   1.,   1.,   1.,   1.,   1.]),\n",
       " array([ 94.,  97., 197.,   0.,   0.,   0.,   0.,   0.,   0.,   0.,   0.,\n",
       "          0.,   0.,   0.,   0.,   0.,   0.,   0.,   0.,   0.,   0.,   0.,\n",
       "          0.,   0.,   1.,   1.,   1.,   1.,   1.,   1.,   1.,   1.,   1.]),\n",
       " array([ 93.,  96., 196.,   0.,   0.,   0.,   0.,   0.,   0.,   0.,   0.,\n",
       "          0.,   0.,   0.,   0.,   0.,   0.,   0.,   0.,   0.,   0.,   1.,\n",
       "          1.,   1.,   1.,   1.,   1.,   1.,   1.,   1.,   1.,   1.,   1.]),\n",
       " array([ 92.,  95., 195.,   0.,   0.,   0.,   0.,   0.,   0.,   0.,   0.,\n",
       "          0.,   0.,   0.,   0.,   0.,   0.,   0.,   1.,   1.,   1.,   1.,\n",
       "          1.,   1.,   1.,   1.,   1.,   1.,   1.,   1.,   1.,   1.,   1.]),\n",
       " array([ 91.,  95., 194.,   0.,   0.,   0.,   0.,   0.,   0.,   0.,   0.,\n",
       "          0.,   0.,   0.,   0.,   1.,   1.,   1.,   1.,   1.,   1.,   1.,\n",
       "          1.,   1.,   1.,   1.,   1.,   1.,   1.,   1.,   1.,   1.,   1.]),\n",
       " array([ 90.,  95., 193.,   0.,   0.,   0.,   0.,   0.,   0.,   0.,   0.,\n",
       "          0.,   1.,   1.,   1.,   1.,   1.,   1.,   1.,   1.,   1.,   1.,\n",
       "          1.,   1.,   1.,   1.,   1.,   1.,   1.,   1.,   1.,   1.,   1.]),\n",
       " array([ 89.,  95., 192.,   0.,   0.,   0.,   0.,   0.,   0.,   1.,   1.,\n",
       "          1.,   1.,   1.,   1.,   1.,   1.,   1.,   1.,   1.,   1.,   1.,\n",
       "          1.,   1.,   1.,   1.,   1.,   1.,   1.,   1.,   1.,   1.,   1.]),\n",
       " array([ 88.,  95., 191.,   0.,   0.,   0.,   1.,   1.,   1.,   1.,   1.,\n",
       "          1.,   1.,   1.,   1.,   1.,   1.,   1.,   1.,   1.,   1.,   1.,\n",
       "          1.,   1.,   1.,   1.,   1.,   1.,   1.,   1.,   1.,   1.,   1.]),\n",
       " array([ 87.,  95., 190.,   1.,   1.,   1.,   1.,   1.,   1.,   1.,   1.,\n",
       "          1.,   1.,   1.,   1.,   1.,   1.,   1.,   1.,   1.,   1.,   1.,\n",
       "          1.,   1.,   1.,   1.,   1.,   1.,   1.,   1.,   1.,   1.,   1.]),\n",
       " array([ 86.,  95., 190.,   1.,   1.,   1.,   1.,   1.,   1.,   1.,   1.,\n",
       "          1.,   1.,   1.,   1.,   1.,   1.,   1.,   1.,   1.,   1.,   1.,\n",
       "          1.,   1.,   1.,   1.,   1.,   1.,   1.,   1.,   1.,   1.,   1.]),\n",
       " array([ 85.,  95., 190.,   1.,   1.,   1.,   1.,   1.,   1.,   1.,   1.,\n",
       "          1.,   1.,   1.,   1.,   1.,   1.,   1.,   1.,   1.,   1.,   1.,\n",
       "          1.,   1.,   1.,   1.,   1.,   1.,   1.,   1.,   1.,   1.,   1.]),\n",
       " array([ 84.,  95., 190.,   1.,   1.,   1.,   1.,   1.,   1.,   1.,   1.,\n",
       "          1.,   1.,   1.,   1.,   1.,   1.,   1.,   1.,   1.,   1.,   1.,\n",
       "          1.,   1.,   1.,   1.,   1.,   1.,   1.,   1.,   1.,   1.,   1.]),\n",
       " array([ 83.,  95., 190.,   1.,   1.,   1.,   1.,   1.,   1.,   1.,   1.,\n",
       "          1.,   1.,   1.,   1.,   1.,   1.,   1.,   1.,   1.,   1.,   1.,\n",
       "          1.,   1.,   1.,   1.,   1.,   1.,   1.,   1.,   1.,   1.,   1.]),\n",
       " array([ 82.,  95., 190.,   1.,   1.,   1.,   1.,   1.,   1.,   1.,   1.,\n",
       "          1.,   1.,   1.,   1.,   1.,   1.,   1.,   1.,   1.,   1.,   1.,\n",
       "          1.,   1.,   1.,   1.,   1.,   1.,   1.,   1.,   1.,   1.,   1.]),\n",
       " array([ 81.,  95., 190.,   1.,   1.,   1.,   1.,   1.,   1.,   1.,   1.,\n",
       "          1.,   1.,   1.,   1.,   1.,   1.,   1.,   1.,   1.,   1.,   1.,\n",
       "          1.,   1.,   1.,   1.,   1.,   1.,   1.,   1.,   1.,   1.,   1.]),\n",
       " array([ 80.,  95., 190.,   1.,   1.,   1.,   1.,   1.,   1.,   1.,   1.,\n",
       "          1.,   1.,   1.,   1.,   1.,   1.,   1.,   1.,   1.,   1.,   1.,\n",
       "          1.,   1.,   1.,   1.,   1.,   1.,   1.,   1.,   1.,   1.,   1.]),\n",
       " array([ 79.,  95., 190.,   1.,   1.,   1.,   1.,   1.,   1.,   1.,   1.,\n",
       "          1.,   1.,   1.,   1.,   1.,   1.,   1.,   1.,   1.,   1.,   1.,\n",
       "          1.,   1.,   1.,   1.,   1.,   1.,   1.,   1.,   1.,   1.,   1.]),\n",
       " array([ 78.,  95., 190.,   1.,   1.,   1.,   1.,   1.,   1.,   1.,   1.,\n",
       "          1.,   1.,   1.,   1.,   1.,   1.,   1.,   1.,   1.,   1.,   1.,\n",
       "          1.,   1.,   1.,   1.,   1.,   1.,   1.,   1.,   1.,   1.,   1.]),\n",
       " array([ 77.,  95., 190.,   1.,   1.,   1.,   1.,   1.,   1.,   1.,   1.,\n",
       "          1.,   1.,   1.,   1.,   1.,   1.,   1.,   1.,   1.,   1.,   1.,\n",
       "          1.,   1.,   1.,   1.,   1.,   1.,   1.,   1.,   1.,   1.,   1.]),\n",
       " array([ 76.,  95., 190.,   1.,   1.,   1.,   1.,   1.,   1.,   1.,   1.,\n",
       "          1.,   1.,   1.,   1.,   1.,   1.,   1.,   1.,   1.,   1.,   1.,\n",
       "          1.,   1.,   1.,   1.,   1.,   1.,   1.,   1.,   1.,   1.,   1.]),\n",
       " array([ 75.,  95., 190.,   1.,   1.,   1.,   1.,   1.,   1.,   1.,   1.,\n",
       "          1.,   1.,   1.,   1.,   1.,   1.,   1.,   1.,   1.,   1.,   1.,\n",
       "          1.,   1.,   1.,   1.,   1.,   1.,   1.,   1.,   1.,   1.,   1.]),\n",
       " array([ 74.,  95., 190.,   1.,   1.,   1.,   1.,   1.,   1.,   1.,   1.,\n",
       "          1.,   1.,   1.,   1.,   1.,   1.,   1.,   1.,   1.,   1.,   1.,\n",
       "          1.,   1.,   1.,   1.,   1.,   1.,   1.,   1.,   1.,   1.,   1.]),\n",
       " array([ 73.,  95., 190.,   1.,   1.,   1.,   1.,   1.,   1.,   1.,   1.,\n",
       "          1.,   1.,   1.,   1.,   1.,   1.,   1.,   1.,   1.,   1.,   1.,\n",
       "          1.,   1.,   1.,   1.,   1.,   1.,   1.,   1.,   1.,   1.,   1.]),\n",
       " array([ 72.,  95., 190.,   1.,   1.,   1.,   1.,   1.,   1.,   1.,   1.,\n",
       "          1.,   1.,   1.,   1.,   1.,   1.,   1.,   1.,   1.,   1.,   1.,\n",
       "          1.,   1.,   1.,   1.,   1.,   1.,   1.,   1.,   1.,   1.,   1.]),\n",
       " array([ 71.,  95., 190.,   1.,   1.,   1.,   1.,   1.,   1.,   1.,   1.,\n",
       "          1.,   1.,   1.,   1.,   1.,   1.,   1.,   1.,   1.,   1.,   1.,\n",
       "          1.,   1.,   1.,   1.,   1.,   1.,   1.,   1.,   1.,   1.,   1.]),\n",
       " array([ 70.,  95., 190.,   1.,   1.,   1.,   1.,   1.,   1.,   1.,   1.,\n",
       "          1.,   1.,   1.,   1.,   1.,   1.,   1.,   1.,   1.,   1.,   1.,\n",
       "          1.,   1.,   1.,   1.,   1.,   1.,   1.,   1.,   1.,   1.,   1.]),\n",
       " array([ 69.,  95., 190.,   1.,   1.,   1.,   1.,   1.,   1.,   1.,   1.,\n",
       "          1.,   1.,   1.,   1.,   1.,   1.,   1.,   1.,   1.,   1.,   1.,\n",
       "          1.,   1.,   1.,   1.,   1.,   1.,   1.,   1.,   1.,   1.,   1.]),\n",
       " array([ 68.,  95., 190.,   1.,   1.,   1.,   1.,   1.,   1.,   1.,   1.,\n",
       "          1.,   1.,   1.,   1.,   1.,   1.,   1.,   1.,   1.,   1.,   1.,\n",
       "          1.,   1.,   1.,   1.,   1.,   1.,   1.,   1.,   1.,   1.,   1.]),\n",
       " array([ 67.,  95., 190.,   1.,   1.,   1.,   1.,   1.,   1.,   1.,   1.,\n",
       "          1.,   1.,   1.,   1.,   1.,   1.,   1.,   1.,   1.,   1.,   1.,\n",
       "          1.,   1.,   1.,   1.,   1.,   1.,   1.,   1.,   1.,   1.,   1.])]"
      ]
     },
     "execution_count": 10,
     "metadata": {},
     "output_type": "execute_result"
    }
   ],
   "source": [
    "s2"
   ]
  },
  {
   "cell_type": "code",
   "execution_count": 22,
   "metadata": {},
   "outputs": [
    {
     "name": "stdout",
     "output_type": "stream",
     "text": [
      "0 [100. 100. 200.   0.   0.   0.   0.   0.   0.   0.   0.   0.   0.   0.\n",
      "   0.   0.   0.   0.   0.   0.   0.   0.   0.   0.   0.   0.   0.   0.\n",
      "   0.   0.   0.   0.   0.]\n",
      "1 [ 98.  99. 199.   0.   0.   0.   0.   0.   0.   0.   0.   0.   0.   0.\n",
      "   0.   0.   0.   0.   0.   0.   0.   0.   0.   0.   0.   0.   0.   0.\n",
      "   0.   0.   1.   1.   1.]\n",
      "2 [ 96.  98. 198.   0.   0.   0.   0.   0.   0.   0.   0.   0.   0.   0.\n",
      "   0.   0.   0.   0.   0.   0.   0.   0.   0.   0.   0.   0.   0.   1.\n",
      "   1.   1.   1.   1.   1.]\n",
      "3 [ 94.  97. 197.   0.   0.   0.   0.   0.   0.   0.   0.   0.   0.   0.\n",
      "   0.   0.   0.   0.   0.   0.   0.   0.   0.   0.   1.   1.   1.   1.\n",
      "   1.   1.   1.   1.   1.]\n",
      "4 [ 93.  96. 196.   0.   0.   0.   0.   0.   0.   0.   0.   0.   0.   0.\n",
      "   0.   0.   0.   0.   0.   0.   0.   1.   1.   1.   1.   1.   1.   1.\n",
      "   1.   1.   1.   1.   1.]\n",
      "5 [ 92.  95. 195.   0.   0.   0.   0.   0.   0.   0.   0.   0.   0.   0.\n",
      "   0.   0.   0.   0.   1.   1.   1.   1.   1.   1.   1.   1.   1.   1.\n",
      "   1.   1.   1.   1.   1.]\n",
      "6 [ 91.  95. 194.   0.   0.   0.   0.   0.   0.   0.   0.   0.   0.   0.\n",
      "   0.   1.   1.   1.   1.   1.   1.   1.   1.   1.   1.   1.   1.   1.\n",
      "   1.   1.   1.   1.   1.]\n",
      "7 [ 90.  95. 193.   0.   0.   0.   0.   0.   0.   0.   0.   0.   1.   1.\n",
      "   1.   1.   1.   1.   1.   1.   1.   1.   1.   1.   1.   1.   1.   1.\n",
      "   1.   1.   1.   1.   1.]\n",
      "8 [ 89.  95. 192.   0.   0.   0.   0.   0.   0.   1.   1.   1.   1.   1.\n",
      "   1.   1.   1.   1.   1.   1.   1.   1.   1.   1.   1.   1.   1.   1.\n",
      "   1.   1.   1.   1.   1.]\n",
      "9 [ 88.  95. 191.   0.   0.   0.   1.   1.   1.   1.   1.   1.   1.   1.\n",
      "   1.   1.   1.   1.   1.   1.   1.   1.   1.   1.   1.   1.   1.   1.\n",
      "   1.   1.   1.   1.   1.]\n"
     ]
    }
   ],
   "source": [
    "m = 3\n",
    "lt_max = 10\n",
    "for t in range(10):\n",
    "    state = np.zeros(m*(lt_max+1))\n",
    "    if t == 0:\n",
    "        state[:m] = env2.I0\n",
    "    else:\n",
    "        state[:m] = env2.I[t]\n",
    "    if t == 0:\n",
    "        pass\n",
    "    elif t >= lt_max:\n",
    "        state[-m*lt_max] += env2.action_log[t-lt_max:t].flatten()\n",
    "    else:\n",
    "        state[-m*(t):] += env2.action_log[:t].flatten()\n",
    "        \n",
    "    print(t, state)"
   ]
  },
  {
   "cell_type": "code",
   "execution_count": 11,
   "metadata": {},
   "outputs": [
    {
     "data": {
      "text/plain": [
       "array([[0., 0., 0., 0., 0., 0., 0., 0., 0., 0., 0., 0., 0., 0., 0., 0.,\n",
       "        0., 0., 0., 0., 0., 0., 0., 0., 1., 1., 1., 0., 0., 0.],\n",
       "       [0., 0., 0., 0., 0., 0., 0., 0., 0., 0., 0., 0., 0., 0., 0., 0.,\n",
       "        0., 0., 0., 0., 0., 1., 1., 1., 1., 1., 1., 0., 0., 0.],\n",
       "       [0., 0., 0., 0., 0., 0., 0., 0., 0., 0., 0., 0., 0., 0., 0., 0.,\n",
       "        0., 0., 1., 1., 1., 1., 1., 1., 1., 1., 1., 0., 0., 0.],\n",
       "       [0., 0., 0., 0., 0., 0., 0., 0., 0., 0., 0., 0., 0., 0., 0., 1.,\n",
       "        1., 1., 1., 1., 1., 1., 1., 1., 1., 1., 1., 0., 0., 0.],\n",
       "       [0., 0., 0., 0., 0., 0., 0., 0., 0., 0., 0., 0., 1., 1., 1., 1.,\n",
       "        1., 1., 1., 1., 1., 1., 1., 1., 1., 1., 1., 0., 0., 0.],\n",
       "       [0., 0., 0., 0., 0., 0., 0., 0., 0., 1., 1., 1., 1., 1., 1., 1.,\n",
       "        1., 1., 1., 1., 1., 1., 1., 1., 1., 1., 1., 0., 0., 0.],\n",
       "       [0., 0., 0., 0., 0., 0., 1., 1., 1., 1., 1., 1., 1., 1., 1., 1.,\n",
       "        1., 1., 1., 1., 1., 1., 1., 1., 1., 1., 1., 0., 0., 0.],\n",
       "       [0., 0., 0., 1., 1., 1., 1., 1., 1., 1., 1., 1., 1., 1., 1., 1.,\n",
       "        1., 1., 1., 1., 1., 1., 1., 1., 1., 1., 1., 0., 0., 0.],\n",
       "       [1., 1., 1., 1., 1., 1., 1., 1., 1., 1., 1., 1., 1., 1., 1., 1.,\n",
       "        1., 1., 1., 1., 1., 1., 1., 1., 1., 1., 1., 0., 0., 0.],\n",
       "       [1., 1., 1., 1., 1., 1., 1., 1., 1., 1., 1., 1., 1., 1., 1., 1.,\n",
       "        1., 1., 1., 1., 1., 1., 1., 1., 1., 1., 1., 1., 1., 1.],\n",
       "       [1., 1., 1., 1., 1., 1., 1., 1., 1., 1., 1., 1., 1., 1., 1., 1.,\n",
       "        1., 1., 1., 1., 1., 1., 1., 1., 1., 1., 1., 1., 1., 1.],\n",
       "       [1., 1., 1., 1., 1., 1., 1., 1., 1., 1., 1., 1., 1., 1., 1., 1.,\n",
       "        1., 1., 1., 1., 1., 1., 1., 1., 1., 1., 1., 1., 1., 1.],\n",
       "       [1., 1., 1., 1., 1., 1., 1., 1., 1., 1., 1., 1., 1., 1., 1., 1.,\n",
       "        1., 1., 1., 1., 1., 1., 1., 1., 1., 1., 1., 1., 1., 1.],\n",
       "       [1., 1., 1., 1., 1., 1., 1., 1., 1., 1., 1., 1., 1., 1., 1., 1.,\n",
       "        1., 1., 1., 1., 1., 1., 1., 1., 1., 1., 1., 1., 1., 1.],\n",
       "       [1., 1., 1., 1., 1., 1., 1., 1., 1., 1., 1., 1., 1., 1., 1., 1.,\n",
       "        1., 1., 1., 1., 1., 1., 1., 1., 1., 1., 1., 1., 1., 1.],\n",
       "       [1., 1., 1., 1., 1., 1., 1., 1., 1., 1., 1., 1., 1., 1., 1., 1.,\n",
       "        1., 1., 1., 1., 1., 1., 1., 1., 1., 1., 1., 1., 1., 1.],\n",
       "       [1., 1., 1., 1., 1., 1., 1., 1., 1., 1., 1., 1., 1., 1., 1., 1.,\n",
       "        1., 1., 1., 1., 1., 1., 1., 1., 1., 1., 1., 1., 1., 1.],\n",
       "       [1., 1., 1., 1., 1., 1., 1., 1., 1., 1., 1., 1., 1., 1., 1., 1.,\n",
       "        1., 1., 1., 1., 1., 1., 1., 1., 1., 1., 1., 1., 1., 1.],\n",
       "       [1., 1., 1., 1., 1., 1., 1., 1., 1., 1., 1., 1., 1., 1., 1., 1.,\n",
       "        1., 1., 1., 1., 1., 1., 1., 1., 1., 1., 1., 1., 1., 1.],\n",
       "       [1., 1., 1., 1., 1., 1., 1., 1., 1., 1., 1., 1., 1., 1., 1., 1.,\n",
       "        1., 1., 1., 1., 1., 1., 1., 1., 1., 1., 1., 1., 1., 1.],\n",
       "       [1., 1., 1., 1., 1., 1., 1., 1., 1., 1., 1., 1., 1., 1., 1., 1.,\n",
       "        1., 1., 1., 1., 1., 1., 1., 1., 1., 1., 1., 1., 1., 1.],\n",
       "       [1., 1., 1., 1., 1., 1., 1., 1., 1., 1., 1., 1., 1., 1., 1., 1.,\n",
       "        1., 1., 1., 1., 1., 1., 1., 1., 1., 1., 1., 1., 1., 1.],\n",
       "       [1., 1., 1., 1., 1., 1., 1., 1., 1., 1., 1., 1., 1., 1., 1., 1.,\n",
       "        1., 1., 1., 1., 1., 1., 1., 1., 1., 1., 1., 1., 1., 1.],\n",
       "       [1., 1., 1., 1., 1., 1., 1., 1., 1., 1., 1., 1., 1., 1., 1., 1.,\n",
       "        1., 1., 1., 1., 1., 1., 1., 1., 1., 1., 1., 1., 1., 1.],\n",
       "       [1., 1., 1., 1., 1., 1., 1., 1., 1., 1., 1., 1., 1., 1., 1., 1.,\n",
       "        1., 1., 1., 1., 1., 1., 1., 1., 1., 1., 1., 1., 1., 1.],\n",
       "       [1., 1., 1., 1., 1., 1., 1., 1., 1., 1., 1., 1., 1., 1., 1., 1.,\n",
       "        1., 1., 1., 1., 1., 1., 1., 1., 1., 1., 1., 1., 1., 1.],\n",
       "       [1., 1., 1., 1., 1., 1., 1., 1., 1., 1., 1., 1., 1., 1., 1., 1.,\n",
       "        1., 1., 1., 1., 1., 1., 1., 1., 1., 1., 1., 1., 1., 1.],\n",
       "       [1., 1., 1., 1., 1., 1., 1., 1., 1., 1., 1., 1., 1., 1., 1., 1.,\n",
       "        1., 1., 1., 1., 1., 1., 1., 1., 1., 1., 1., 1., 1., 1.],\n",
       "       [1., 1., 1., 1., 1., 1., 1., 1., 1., 1., 1., 1., 1., 1., 1., 1.,\n",
       "        1., 1., 1., 1., 1., 1., 1., 1., 1., 1., 1., 1., 1., 1.],\n",
       "       [1., 1., 1., 1., 1., 1., 1., 1., 1., 1., 1., 1., 1., 1., 1., 1.,\n",
       "        1., 1., 1., 1., 1., 1., 1., 1., 1., 1., 1., 1., 1., 1.]])"
      ]
     },
     "execution_count": 11,
     "metadata": {},
     "output_type": "execute_result"
    }
   ],
   "source": [
    "x = np.vstack(s2)[:,3:]\n",
    "x"
   ]
  },
  {
   "cell_type": "code",
   "execution_count": 37,
   "metadata": {},
   "outputs": [
    {
     "name": "stdout",
     "output_type": "stream",
     "text": [
      "-32.550000000000004 -32.550000000000004\n"
     ]
    }
   ],
   "source": [
    "sales = np.array([2, 1, 1, 1])\n",
    "repl = np.array([1, 1, 1, 1])\n",
    "unfulfilled = np.zeros(4)\n",
    "inv1 = np.array([98, 99, 199])\n",
    "inv2 = np.array([98, 99, 199, 0])\n",
    "\n",
    "r1 = np.sum(env1.unit_price*sales) - np.sum(\n",
    "    np.sum(env1.unit_cost*sales + env1.backlog_cost*unfulfilled)\n",
    "            + np.sum(env1.holding_cost*inv1))\n",
    "r2 = np.sum(env1.unit_price*sales) - np.sum(env1.unit_cost*sales + env1.backlog_cost*unfulfilled + \n",
    "        env2.holding_cost*inv2)\n",
    "print(r1, r2)"
   ]
  },
  {
   "cell_type": "code",
   "execution_count": 34,
   "metadata": {},
   "outputs": [
    {
     "name": "stdout",
     "output_type": "stream",
     "text": [
      "[3.   1.   0.75 0.5 ] [0. 0. 0. 0.] [14.7   9.9   9.95  0.  ] [14.7   9.9   9.95]\n"
     ]
    }
   ],
   "source": [
    "a = env1.unit_cost*sales\n",
    "b = env1.backlog_cost*unfulfilled\n",
    "c = env2.holding_cost*inv2\n",
    "d = env1.holding_cost*inv1\n",
    "print(a, b, c, d)"
   ]
  },
  {
   "cell_type": "code",
   "execution_count": 35,
   "metadata": {},
   "outputs": [
    {
     "data": {
      "text/plain": [
       "39.800000000000004"
      ]
     },
     "execution_count": 35,
     "metadata": {},
     "output_type": "execute_result"
    }
   ],
   "source": [
    "np.sum(a) + np.sum(d)"
   ]
  },
  {
   "cell_type": "code",
   "execution_count": 36,
   "metadata": {},
   "outputs": [
    {
     "data": {
      "text/plain": [
       "143.45000000000002"
      ]
     },
     "execution_count": 36,
     "metadata": {},
     "output_type": "execute_result"
    }
   ],
   "source": [
    "np.sum(a + np.sum(c))"
   ]
  },
  {
   "cell_type": "code",
   "execution_count": 28,
   "metadata": {},
   "outputs": [
    {
     "data": {
      "text/plain": [
       "39.800000000000004"
      ]
     },
     "execution_count": 28,
     "metadata": {},
     "output_type": "execute_result"
    }
   ],
   "source": [
    "np.sum(a + b + c)"
   ]
  },
  {
   "cell_type": "code",
   "execution_count": 18,
   "metadata": {},
   "outputs": [
    {
     "data": {
      "text/plain": [
       "[array([100., 100., 200.,   0.,   0.,   0.,   0.,   0.,   0.,   0.,   0.,\n",
       "          0.,   0.,   0.,   0.,   0.,   0.,   0.,   0.,   0.,   0.,   0.,\n",
       "          0.,   0.,   0.,   0.,   0.,   0.,   0.,   0.,   1.,   1.,   1.]),\n",
       " array([100., 100., 200.,   0.,   0.,   0.,   0.,   0.,   0.,   0.,   0.,\n",
       "          0.,   0.,   0.,   0.,   0.,   0.,   0.,   0.,   0.,   0.,   0.,\n",
       "          0.,   0.,   0.,   0.,   0.,   1.,   1.,   1.,   2.,   2.,   2.]),\n",
       " array([100., 100., 200.,   0.,   0.,   0.,   0.,   0.,   0.,   0.,   0.,\n",
       "          0.,   0.,   0.,   0.,   0.,   0.,   0.,   0.,   0.,   0.,   0.,\n",
       "          0.,   0.,   1.,   1.,   1.,   2.,   2.,   2.,   3.,   3.,   3.]),\n",
       " array([100., 100., 200.,   0.,   0.,   0.,   0.,   0.,   0.,   0.,   0.,\n",
       "          0.,   0.,   0.,   0.,   0.,   0.,   0.,   0.,   0.,   0.,   1.,\n",
       "          1.,   1.,   2.,   2.,   2.,   3.,   3.,   3.,   3.,   4.,   4.]),\n",
       " array([100., 100., 200.,   0.,   0.,   0.,   0.,   0.,   0.,   0.,   0.,\n",
       "          0.,   0.,   0.,   0.,   0.,   0.,   0.,   1.,   1.,   1.,   2.,\n",
       "          2.,   2.,   3.,   3.,   3.,   3.,   4.,   4.,   3.,   5.,   5.]),\n",
       " array([100., 100., 200.,   0.,   0.,   0.,   0.,   0.,   0.,   0.,   0.,\n",
       "          0.,   0.,   0.,   0.,   1.,   1.,   1.,   2.,   2.,   2.,   3.,\n",
       "          3.,   3.,   3.,   4.,   4.,   3.,   5.,   5.,   3.,   5.,   6.]),\n",
       " array([100., 100., 200.,   0.,   0.,   0.,   0.,   0.,   0.,   0.,   0.,\n",
       "          0.,   1.,   1.,   1.,   2.,   2.,   2.,   3.,   3.,   3.,   3.,\n",
       "          4.,   4.,   3.,   5.,   5.,   3.,   5.,   6.,   3.,   5.,   7.]),\n",
       " array([100., 100., 200.,   0.,   0.,   0.,   0.,   0.,   0.,   1.,   1.,\n",
       "          1.,   2.,   2.,   2.,   3.,   3.,   3.,   3.,   4.,   4.,   3.,\n",
       "          5.,   5.,   3.,   5.,   6.,   3.,   5.,   7.,   3.,   5.,   8.]),\n",
       " array([100., 100., 200.,   0.,   0.,   0.,   1.,   1.,   1.,   2.,   2.,\n",
       "          2.,   3.,   3.,   3.,   3.,   4.,   4.,   3.,   5.,   5.,   3.,\n",
       "          5.,   6.,   3.,   5.,   7.,   3.,   5.,   8.,   3.,   5.,   9.]),\n",
       " array([100., 100., 200.,   0.,   0.,   0.,   1.,   1.,   1.,   2.,   2.,\n",
       "          2.,   3.,   3.,   3.,   3.,   4.,   4.,   3.,   5.,   5.,   3.,\n",
       "          5.,   6.,   3.,   5.,   7.,   3.,   5.,   8.,   3.,   5.,   9.]),\n",
       " array([100., 100., 200.,   1.,   1.,   1.,   2.,   2.,   2.,   3.,   3.,\n",
       "          3.,   3.,   4.,   4.,   3.,   5.,   5.,   3.,   5.,   6.,   3.,\n",
       "          5.,   7.,   3.,   5.,   8.,   3.,   5.,   9.,   3.,   5.,  10.]),\n",
       " array([100., 100., 200.,   2.,   2.,   2.,   3.,   3.,   3.,   3.,   4.,\n",
       "          4.,   3.,   5.,   5.,   3.,   5.,   6.,   3.,   5.,   7.,   3.,\n",
       "          5.,   8.,   3.,   5.,   9.,   3.,   5.,  10.,   3.,   5.,  10.]),\n",
       " array([100., 100., 200.,   3.,   3.,   3.,   3.,   4.,   4.,   3.,   5.,\n",
       "          5.,   3.,   5.,   6.,   3.,   5.,   7.,   3.,   5.,   8.,   3.,\n",
       "          5.,   9.,   3.,   5.,  10.,   3.,   5.,  10.,   3.,   5.,  10.]),\n",
       " array([100., 100., 200.,   3.,   4.,   4.,   3.,   5.,   5.,   3.,   5.,\n",
       "          6.,   3.,   5.,   7.,   3.,   5.,   8.,   3.,   5.,   9.,   3.,\n",
       "          5.,  10.,   3.,   5.,  10.,   3.,   5.,  10.,   3.,   5.,  10.]),\n",
       " array([100., 100., 200.,   3.,   5.,   5.,   3.,   5.,   6.,   3.,   5.,\n",
       "          7.,   3.,   5.,   8.,   3.,   5.,   9.,   3.,   5.,  10.,   3.,\n",
       "          5.,  10.,   3.,   5.,  10.,   3.,   5.,  10.,   3.,   5.,  10.]),\n",
       " array([100., 100., 200.,   3.,   5.,   6.,   3.,   5.,   7.,   3.,   5.,\n",
       "          8.,   3.,   5.,   9.,   3.,   5.,  10.,   3.,   5.,  10.,   3.,\n",
       "          5.,  10.,   3.,   5.,  10.,   3.,   5.,  10.,   3.,   5.,  10.]),\n",
       " array([100., 100., 200.,   3.,   5.,   7.,   3.,   5.,   8.,   3.,   5.,\n",
       "          9.,   3.,   5.,  10.,   3.,   5.,  10.,   3.,   5.,  10.,   3.,\n",
       "          5.,  10.,   3.,   5.,  10.,   3.,   5.,  10.,   3.,   5.,  10.]),\n",
       " array([100., 100., 200.,   3.,   5.,   8.,   3.,   5.,   9.,   3.,   5.,\n",
       "         10.,   3.,   5.,  10.,   3.,   5.,  10.,   3.,   5.,  10.,   3.,\n",
       "          5.,  10.,   3.,   5.,  10.,   3.,   5.,  10.,   3.,   5.,  10.]),\n",
       " array([100., 100., 200.,   3.,   5.,   9.,   3.,   5.,  10.,   3.,   5.,\n",
       "         10.,   3.,   5.,  10.,   3.,   5.,  10.,   3.,   5.,  10.,   3.,\n",
       "          5.,  10.,   3.,   5.,  10.,   3.,   5.,  10.,   3.,   5.,  10.]),\n",
       " array([100., 100., 200.,   3.,   5.,  10.,   3.,   5.,  10.,   3.,   5.,\n",
       "         10.,   3.,   5.,  10.,   3.,   5.,  10.,   3.,   5.,  10.,   3.,\n",
       "          5.,  10.,   3.,   5.,  10.,   3.,   5.,  10.,   3.,   5.,  10.]),\n",
       " array([100., 100., 200.,   3.,   5.,  10.,   3.,   5.,  10.,   3.,   5.,\n",
       "         10.,   3.,   5.,  10.,   3.,   5.,  10.,   3.,   5.,  10.,   3.,\n",
       "          5.,  10.,   3.,   5.,  10.,   3.,   5.,  10.,   3.,   5.,  10.]),\n",
       " array([100., 100., 200.,   3.,   5.,  10.,   3.,   5.,  10.,   3.,   5.,\n",
       "         10.,   3.,   5.,  10.,   3.,   5.,  10.,   3.,   5.,  10.,   3.,\n",
       "          5.,  10.,   3.,   5.,  10.,   3.,   5.,  10.,   3.,   5.,  10.]),\n",
       " array([100., 100., 200.,   3.,   5.,  10.,   3.,   5.,  10.,   3.,   5.,\n",
       "         10.,   3.,   5.,  10.,   3.,   5.,  10.,   3.,   5.,  10.,   3.,\n",
       "          5.,  10.,   3.,   5.,  10.,   3.,   5.,  10.,   3.,   5.,  10.]),\n",
       " array([100., 100., 200.,   3.,   5.,  10.,   3.,   5.,  10.,   3.,   5.,\n",
       "         10.,   3.,   5.,  10.,   3.,   5.,  10.,   3.,   5.,  10.,   3.,\n",
       "          5.,  10.,   3.,   5.,  10.,   3.,   5.,  10.,   3.,   5.,  10.]),\n",
       " array([100., 100., 200.,   3.,   5.,  10.,   3.,   5.,  10.,   3.,   5.,\n",
       "         10.,   3.,   5.,  10.,   3.,   5.,  10.,   3.,   5.,  10.,   3.,\n",
       "          5.,  10.,   3.,   5.,  10.,   3.,   5.,  10.,   3.,   5.,  10.]),\n",
       " array([100., 100., 200.,   3.,   5.,  10.,   3.,   5.,  10.,   3.,   5.,\n",
       "         10.,   3.,   5.,  10.,   3.,   5.,  10.,   3.,   5.,  10.,   3.,\n",
       "          5.,  10.,   3.,   5.,  10.,   3.,   5.,  10.,   3.,   5.,  10.]),\n",
       " array([100., 100., 200.,   3.,   5.,  10.,   3.,   5.,  10.,   3.,   5.,\n",
       "         10.,   3.,   5.,  10.,   3.,   5.,  10.,   3.,   5.,  10.,   3.,\n",
       "          5.,  10.,   3.,   5.,  10.,   3.,   5.,  10.,   3.,   5.,  10.]),\n",
       " array([100., 100., 200.,   3.,   5.,  10.,   3.,   5.,  10.,   3.,   5.,\n",
       "         10.,   3.,   5.,  10.,   3.,   5.,  10.,   3.,   5.,  10.,   3.,\n",
       "          5.,  10.,   3.,   5.,  10.,   3.,   5.,  10.,   3.,   5.,  10.]),\n",
       " array([100., 100., 200.,   3.,   5.,  10.,   3.,   5.,  10.,   3.,   5.,\n",
       "         10.,   3.,   5.,  10.,   3.,   5.,  10.,   3.,   5.,  10.,   3.,\n",
       "          5.,  10.,   3.,   5.,  10.,   3.,   5.,  10.,   3.,   5.,  10.]),\n",
       " array([100., 100., 200.,   3.,   5.,  10.,   3.,   5.,  10.,   3.,   5.,\n",
       "         10.,   3.,   5.,  10.,   3.,   5.,  10.,   3.,   5.,  10.,   3.,\n",
       "          5.,  10.,   3.,   5.,  10.,   3.,   5.,  10.,   3.,   5.,  10.])]"
      ]
     },
     "execution_count": 18,
     "metadata": {},
     "output_type": "execute_result"
    }
   ],
   "source": [
    "Env 1\n",
    "Unit Price:\t[2.   1.5  1.   0.75]\n",
    "Sales:\t[2. 1. 1. 1.]\n",
    "Unit Cost:\t[1.5  1.   0.75 0.5 ]\n",
    "Replenishment Orders:\t[2. 1. 1. 1.]\n",
    "Demand Cost:\t[0.1   0.075 0.05  0.025]\n",
    "Unfulfilled Orders:\t[0 0 0 0]\n",
    "Holding Cost:\t[0.15 0.1  0.05]\n",
    "Inventory:\t[ 98  99 199]\n",
    "Total Reward:\t140.20000000000002\n",
    "Env 2\n",
    "Unit Price:\t[2.   1.5  1.   0.75]\n",
    "Sales:\t[2. 1. 1. 1.]\n",
    "Unit Cost:\t[1.5  1.   0.75 0.5 ]\n",
    "Replenishment Orders:\t[1. 1. 1. 1.]\n",
    "Demand Cost:\t[0.1   0.075 0.05  0.025]\n",
    "Unfulfilled Orders:\t[0. 0. 0. 0.]\n",
    "Holding Cost:\t[0.15 0.1  0.05 0.  ]\n",
    "Inventory:\t[ 98.  99. 199.   0.]\n",
    "Total Reward:\t-31.050000000000004"
   ]
  },
  {
   "cell_type": "code",
   "execution_count": 95,
   "metadata": {},
   "outputs": [],
   "source": [
    "lt_max = 5\n",
    "t_max = 30\n",
    "x = np.ones((t_max, 3)) * np.arange(t_max).reshape(-1, 1)"
   ]
  },
  {
   "cell_type": "code",
   "execution_count": 108,
   "metadata": {},
   "outputs": [
    {
     "name": "stdout",
     "output_type": "stream",
     "text": [
      "0 [0. 0. 0. 0. 0. 0. 0. 0. 0. 0. 0. 0. 0. 0. 0. 0. 0. 0. 0. 0.]\n",
      "1 [0. 0. 0. 0. 0. 0. 0. 0. 0. 0. 0. 0. 0. 0. 0. 0. 0. 1. 1. 1.]\n",
      "2 [0. 0. 0. 0. 0. 0. 0. 0. 0. 0. 0. 0. 0. 0. 1. 1. 1. 2. 2. 2.]\n",
      "3 [0. 0. 0. 0. 0. 0. 0. 0. 0. 0. 0. 1. 1. 1. 2. 2. 2. 3. 3. 3.]\n",
      "4 [0. 0. 0. 0. 0. 0. 0. 0. 1. 1. 1. 2. 2. 2. 3. 3. 3. 4. 4. 4.]\n",
      "5 [0. 0. 0. 0. 0. 0. 0. 0. 1. 1. 1. 2. 2. 2. 3. 3. 3. 4. 4. 4.]\n",
      "6 [0. 0. 0. 0. 0. 1. 1. 1. 2. 2. 2. 3. 3. 3. 4. 4. 4. 5. 5. 5.]\n",
      "7 [0. 0. 0. 0. 0. 2. 2. 2. 3. 3. 3. 4. 4. 4. 5. 5. 5. 6. 6. 6.]\n",
      "8 [0. 0. 0. 0. 0. 3. 3. 3. 4. 4. 4. 5. 5. 5. 6. 6. 6. 7. 7. 7.]\n",
      "9 [0. 0. 0. 0. 0. 4. 4. 4. 5. 5. 5. 6. 6. 6. 7. 7. 7. 8. 8. 8.]\n"
     ]
    }
   ],
   "source": [
    "for t in range(10):\n",
    "    state = np.zeros(4*lt_max)\n",
    "    if t >= lt_max:\n",
    "        state[-3*lt_max:] += x[t-lt_max:t].flatten()\n",
    "    else:\n",
    "        state[-3*(t+1):] += x[:t+1].flatten()\n",
    "    print(t, state)"
   ]
  },
  {
   "cell_type": "code",
   "execution_count": 105,
   "metadata": {},
   "outputs": [
    {
     "data": {
      "text/plain": [
       "array([31., 31., 31., 40., 40., 40.])"
      ]
     },
     "execution_count": 105,
     "metadata": {},
     "output_type": "execute_result"
    }
   ],
   "source": [
    "state[-3*(2):]"
   ]
  },
  {
   "cell_type": "code",
   "execution_count": 44,
   "metadata": {},
   "outputs": [],
   "source": [
    "env2 = or_gym.make('InvManagement-v0')"
   ]
  },
  {
   "cell_type": "code",
   "execution_count": 54,
   "metadata": {},
   "outputs": [
    {
     "data": {
      "text/plain": [
       "(array([ 85., 185., 385.]), -19.613961313287778, False, {})"
      ]
     },
     "execution_count": 54,
     "metadata": {},
     "output_type": "execute_result"
    }
   ],
   "source": [
    "env2.step(action)"
   ]
  },
  {
   "cell_type": "code",
   "execution_count": 55,
   "metadata": {},
   "outputs": [
    {
     "data": {
      "text/plain": [
       "array([100., 200., 400.])"
      ]
     },
     "execution_count": 55,
     "metadata": {},
     "output_type": "execute_result"
    }
   ],
   "source": [
    "env2.reset()"
   ]
  },
  {
   "cell_type": "code",
   "execution_count": null,
   "metadata": {},
   "outputs": [],
   "source": []
  }
 ],
 "metadata": {
  "kernelspec": {
   "display_name": "Python 3",
   "language": "python",
   "name": "python3"
  },
  "language_info": {
   "codemirror_mode": {
    "name": "ipython",
    "version": 3
   },
   "file_extension": ".py",
   "mimetype": "text/x-python",
   "name": "python",
   "nbconvert_exporter": "python",
   "pygments_lexer": "ipython3",
   "version": "3.6.10"
  }
 },
 "nbformat": 4,
 "nbformat_minor": 4
}
