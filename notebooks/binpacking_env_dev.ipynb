{
 "cells": [
  {
   "cell_type": "code",
   "execution_count": 1,
   "metadata": {},
   "outputs": [],
   "source": [
    "import numpy as np\n",
    "import gym\n",
    "from gym import spaces, logger\n",
    "from gym.utils import seeding\n",
    "import copy"
   ]
  },
  {
   "cell_type": "code",
   "execution_count": 155,
   "metadata": {},
   "outputs": [],
   "source": [
    "# Matches the AWS model as first pass\n",
    "\n",
    "class OnlineBinPackingEnv(gym.Env):\n",
    "    '''\n",
    "    Online Bin Packing Problem\n",
    "\n",
    "    The Bin Packing Problem (BPP) is a combinatorial optimization problem which\n",
    "    requires the user to select from a range of goods of different values and\n",
    "    weights in order to maximize the value of the selected items within a \n",
    "    given weight limit. This version is online meaning each item is randonly\n",
    "    presented to the algorithm one at a time, at which point the algorithm \n",
    "    can either accept or reject the item. After seeing a fixed number of \n",
    "    items are shown, the episode terminates. If the weight limit is reached\n",
    "    before the episode ends, then it terminates early.\n",
    "\n",
    "    Observation:\n",
    "        Type: Tuple, Discrete\n",
    "        0 - bin_capacity: Count of bins at a given level h\n",
    "        -1: Current item size\n",
    "\n",
    "\n",
    "    Actions:\n",
    "        Type: Discrete\n",
    "        0: Open a new bin and place item into bin\n",
    "        1+: Attempt to place item into bin at the given level\n",
    "\n",
    "    Reward:\n",
    "        Negative of the waste, which is the difference between the current\n",
    "        size and excess space of the bin.\n",
    "\n",
    "    Starting State:\n",
    "        No available bins and random starting item\n",
    "        \n",
    "    Episode Termination:\n",
    "        When invalid action is selected (e.g. attempt to place item in non-existent\n",
    "        bin), bin limits are exceeded, or step limit is reached.\n",
    "    '''\n",
    "    def __init__(self):\n",
    "        self.bin_capacity = 9\n",
    "        self.item_sizes = [2, 3]\n",
    "        self.item_probs = [0.8, 0.2]\n",
    "        self.step_counter = 0\n",
    "        self.step_limit = 1000\n",
    "        \n",
    "        self.observation_space = spaces.Box(\n",
    "            low=np.array([0] * (1 + self.bin_capacity)),\n",
    "            high=np.array([self.step_limit] * self.bin_capacity + [max(self.item_sizes)]),\n",
    "            dtype=np.uint32)\n",
    "        \n",
    "        self.action_space = spaces.Discrete(self.bin_capacity)\n",
    "        \n",
    "        self.seed()\n",
    "        self.state = self.reset()\n",
    "        \n",
    "    def step(self, action):\n",
    "        done = False\n",
    "        if action >= self.bin_capacity:\n",
    "            raise ValueError('{} is an invalid action. Must be between {} and {}'.format(\n",
    "                action, 0, self.bin_capacity))\n",
    "        elif action > (self.bin_capacity - self.item_size):\n",
    "            # Bin overflows\n",
    "            reward = BIG_NEG_REWARD - self.waste\n",
    "            done = True\n",
    "        elif action == 0:\n",
    "            # Create new bin\n",
    "            self.bin_levels[self.item_size] += 1\n",
    "            # This waste penalty seems very strange, it only occurs\n",
    "            # when a new bin is opened.\n",
    "            self.waste = self.bin_capacity - self.item_size\n",
    "            reward = -1 * self.waste\n",
    "        elif self.bin_levels[action] == 0:\n",
    "            # Can't insert item into non-existent bin\n",
    "            reward = BIG_NEG_REWARD - self.waste\n",
    "            done = True\n",
    "        else:\n",
    "            if action + self.item_size == self.bin_capacity:\n",
    "                self.num_full_bins += 1\n",
    "            else:\n",
    "                self.bin_levels[action + self.item_size] += 1\n",
    "            self.waste = -self.item_size\n",
    "            reward = -1 * self.waste\n",
    "            \n",
    "            self.bin_levels[action] -= 1\n",
    "        \n",
    "        self.total_reward += reward\n",
    "        \n",
    "        if self.step_counter >= self.step_limit:\n",
    "            done = True\n",
    "            \n",
    "        if self.step_counter == self.step_limit:\n",
    "            done = True\n",
    "            \n",
    "        self.item_size = self.get_item()\n",
    "        state = self.bin_levels + [self.item_size]\n",
    "        \n",
    "        return self.state, reward, done, {}\n",
    "    \n",
    "    def get_item(self):\n",
    "        return np.random.choice(self.item_sizes, p=self.item_probs)\n",
    "        \n",
    "    def sample_action(self):\n",
    "        return self.action_space.sample()\n",
    "    \n",
    "    def reset(self):\n",
    "        self.current_weight = 0\n",
    "        self.step_counter = 0        \n",
    "        self.num_full_bins = 0\n",
    "        self.total_reward = 0\n",
    "        self.waste = 0\n",
    "        self.step_counter = 0\n",
    "        \n",
    "        self.bin_levels = [0] * self.bin_capacity\n",
    "        self.item_size = self.get_item()\n",
    "        initial_state = self.bin_levels + [self.item_size]\n",
    "        return initial_state"
   ]
  },
  {
   "cell_type": "code",
   "execution_count": 156,
   "metadata": {},
   "outputs": [],
   "source": [
    "env = OnlineBinPackingEnv()"
   ]
  },
  {
   "cell_type": "code",
   "execution_count": 157,
   "metadata": {},
   "outputs": [
    {
     "data": {
      "text/plain": [
       "[0, 0, 0, 0, 0, 0, 0, 0, 0, 2]"
      ]
     },
     "execution_count": 157,
     "metadata": {},
     "output_type": "execute_result"
    }
   ],
   "source": [
    "env.state"
   ]
  },
  {
   "cell_type": "code",
   "execution_count": 158,
   "metadata": {},
   "outputs": [],
   "source": [
    "for i in range(1000):\n",
    "    done = False\n",
    "    env.reset()\n",
    "    while done == False:\n",
    "        action = env.action_space.sample()\n",
    "        state, reward, done, _ = env.step(action)"
   ]
  },
  {
   "cell_type": "code",
   "execution_count": 159,
   "metadata": {},
   "outputs": [
    {
     "data": {
      "text/plain": [
       "5"
      ]
     },
     "execution_count": 159,
     "metadata": {},
     "output_type": "execute_result"
    }
   ],
   "source": [
    "action"
   ]
  },
  {
   "cell_type": "code",
   "execution_count": 160,
   "metadata": {},
   "outputs": [
    {
     "data": {
      "text/plain": [
       "2"
      ]
     },
     "execution_count": 160,
     "metadata": {},
     "output_type": "execute_result"
    }
   ],
   "source": [
    "env.item_size"
   ]
  },
  {
   "cell_type": "markdown",
   "metadata": {},
   "source": [
    "# Online Bin Packing\n",
    "\n",
    "A random sequence of items $i$ with size $w_i \\in W_i$, is provided to an algorithm to be packed into various bins $B$ denoted by $j \\in J$, where the capacity of each bin is given by $\\textrm{max}(W_i) \\leq B_j^{max} < \\infty \\; \\forall j \\in J$. Each item $i$ arrives at a given time $t \\in T$, and is sampled according to a fixed probability $p_i$. Following Gupta and Radovanovic, we assume all bin and item sizes are integer values.\n",
    "\n",
    "## Amazon Implementation\n",
    "\n",
    "Unlimited bins, each with identical capacity. Assign to group of bins based on level $h$, whereby $N_h(t)$ is the number of bins at that level. The action, $a_t$ is to select the level to assign the item to, or, in the case of $a_t=0$, to open a new, empty bin. $R_t$ is the negative of the incremental waste as $i$ is assigned to $B_j$. They use an action mask to prevent infeasible actions."
   ]
  },
  {
   "cell_type": "code",
   "execution_count": null,
   "metadata": {},
   "outputs": [],
   "source": []
  },
  {
   "cell_type": "code",
   "execution_count": 2,
   "metadata": {},
   "outputs": [],
   "source": [
    "BIG_NEG_REWARD = -100\n",
    "BIG_POS_REWARD = 10\n",
    "\n",
    "\n",
    "class BinPackingGymEnvironment(gym.Env):\n",
    "\n",
    "    def __init__(self, env_config={}):\n",
    "\n",
    "        config_defaults = {\n",
    "            'bag_capacity': 9,\n",
    "            'item_sizes': [2, 3],\n",
    "            'item_probabilities': [0.8, 0.2],  # linear waste -> SS: -150 to -340\n",
    "            # 'item_probabilities': [0.75, 0.25], # perfect pack -> SS: -20 to -100\n",
    "            # 'item_probabilities': [0.5, 0.5], #bounded waste ->  SS: -11 to -20\n",
    "            'time_horizon': 1000,\n",
    "        }\n",
    "\n",
    "        for key, val in config_defaults.items():\n",
    "            val = env_config.get(key, val)  # Override defaults with constructor parameters\n",
    "            self.__dict__[key] = val  # Creates variables like self.plot_boxes, self.save_files, etc\n",
    "            if key not in env_config:\n",
    "                env_config[key] = val\n",
    "        print('Using bin size: ', self.bag_capacity)\n",
    "        print('Using items sizes {} \\nWith item probabilities {}'.format(self.item_sizes,self.item_probabilities))\n",
    "        self.csv_file = '/opt/ml/output/intermediate/binpacking.csv'\n",
    "\n",
    "        self.episode_count = 0\n",
    "\n",
    "        # state: number of bags at each level, item size,\n",
    "        self.observation_space = spaces.Box(low=np.array([0] * self.bag_capacity + [0]), high=np.array(\n",
    "            [self.time_horizon] * self.bag_capacity + [max(self.item_sizes)]), dtype=np.uint32)\n",
    "\n",
    "        # actions: select a bag from the different levels possible\n",
    "        self.action_space = spaces.Discrete(self.bag_capacity)\n",
    "\n",
    "    def reset(self):\n",
    "        self.time_remaining = self.time_horizon\n",
    "        self.item_size = self.__get_item()\n",
    "        self.num_full_bags = 0\n",
    "\n",
    "        # an array of size bag capacity that keeps track of\n",
    "        # number of bags at each level\n",
    "        self.num_bins_levels = [0] * self.bag_capacity\n",
    "\n",
    "        initial_state = self.num_bins_levels + [self.item_size]\n",
    "        self.total_reward = 0\n",
    "        self.waste = 0\n",
    "        self.episode_count += 1\n",
    "        self.bin_type_distribution_map = {}  # level to bin types, to the # of bins for each bin type.\n",
    "        self.step_count = 0\n",
    "        return initial_state\n",
    "\n",
    "    def step(self, action):\n",
    "        done = False\n",
    "        self.step_count += 1\n",
    "        if action >= self.bag_capacity:\n",
    "            print(\"Error: Invalid Action\")\n",
    "            raise\n",
    "        elif action > (self.bag_capacity - self.item_size):\n",
    "            # can't insert item because bin overflow\n",
    "            reward = BIG_NEG_REWARD - self.waste\n",
    "            done = True\n",
    "        elif action == 0:  # new bag\n",
    "            self.num_bins_levels[self.item_size] += 1\n",
    "            # waste = sum of empty spaces in all bags\n",
    "            self.waste = self.bag_capacity - self.item_size\n",
    "            # reward is negative waste\n",
    "            reward = -1 * self.waste\n",
    "            self.__update_bin_type_distribution_map(0)\n",
    "        elif self.num_bins_levels[action] == 0:\n",
    "            # can't insert item because bin of this level doesn't exist\n",
    "            print('cannot insert item because bin of this level does not exist')\n",
    "            reward = BIG_NEG_REWARD - self.waste\n",
    "            done = True\n",
    "        else:\n",
    "            if action + self.item_size == self.bag_capacity:\n",
    "                self.num_full_bags += 1\n",
    "            else:\n",
    "                self.num_bins_levels[action + self.item_size] += 1\n",
    "            # waste = empty space in the bag\n",
    "            self.waste = -self.item_size\n",
    "            # reward is negative waste\n",
    "            reward = -1 * self.waste\n",
    "            self.__update_bin_type_distribution_map(action)\n",
    "            if self.num_bins_levels[action] < 0:\n",
    "                print(self.num_bins_levels[action])\n",
    "            self.num_bins_levels[action] -= 1\n",
    "\n",
    "        self.total_reward += reward\n",
    "\n",
    "        self.time_remaining -= 1\n",
    "        if self.time_remaining == 0:\n",
    "            done = True\n",
    "\n",
    "        # get the next item\n",
    "        self.item_size = self.__get_item()\n",
    "        # state is the number of bins at each level and the item size\n",
    "        state = self.num_bins_levels + [self.item_size]\n",
    "        info = self.bin_type_distribution_map\n",
    "\n",
    "        return state, reward, done, info\n",
    "\n",
    "    def __get_item(self):\n",
    "        num_items = len(self.item_sizes)\n",
    "        item_index = np.random.choice(num_items, p=self.item_probabilities)\n",
    "        return self.item_sizes[item_index]\n",
    "\n",
    "    def __update_bin_type_distribution_map(self, target_bin_util):\n",
    "        if target_bin_util < 0 or target_bin_util + self.item_size > self.bag_capacity:\n",
    "            print(\"Error: Invalid Bin Utilization/Item Size\")\n",
    "            return\n",
    "        elif target_bin_util > 0 and target_bin_util not in self.bin_type_distribution_map:\n",
    "            print(\"Error: bin_type_distribution_map does not contain \" + str(target_bin_util) + \" as key!\")\n",
    "            return\n",
    "        elif target_bin_util > 0 and target_bin_util in self.bin_type_distribution_map and len(\n",
    "                self.bin_type_distribution_map[target_bin_util]) == 0:\n",
    "            print(\"Error: bin_type_distribution_map has no element at level \" + str(target_bin_util) + \" !\")\n",
    "            return\n",
    "        elif target_bin_util == 0:  # opening a new bin\n",
    "            if self.item_size not in self.bin_type_distribution_map:\n",
    "                self.bin_type_distribution_map[self.item_size] = {str(self.item_size): 1}\n",
    "            elif str(self.item_size) not in self.bin_type_distribution_map[self.item_size]:\n",
    "                self.bin_type_distribution_map[self.item_size][str(self.item_size)] = 1\n",
    "            else:\n",
    "                self.bin_type_distribution_map[self.item_size][str(self.item_size)] += 1\n",
    "        else:\n",
    "            key = np.random.choice(list(self.bin_type_distribution_map[target_bin_util].keys()))\n",
    "            if self.bin_type_distribution_map[target_bin_util][key] <= 0:\n",
    "                print(\"Error: Invalid bin count!\")\n",
    "                return\n",
    "            elif self.bin_type_distribution_map[target_bin_util][key] == 1:\n",
    "                del self.bin_type_distribution_map[target_bin_util][key]\n",
    "            else:\n",
    "                self.bin_type_distribution_map[target_bin_util][key] -= 1\n",
    "\n",
    "            new_key = self.__update_key_for_bin_type_distribution_map(key, self.item_size)\n",
    "            if (target_bin_util + self.item_size) not in self.bin_type_distribution_map:\n",
    "                self.bin_type_distribution_map[target_bin_util + self.item_size] = {new_key: 1}\n",
    "            elif new_key not in self.bin_type_distribution_map[target_bin_util + self.item_size]:\n",
    "                self.bin_type_distribution_map[target_bin_util + self.item_size][new_key] = 1\n",
    "            else:\n",
    "                self.bin_type_distribution_map[target_bin_util + self.item_size][new_key] += 1\n",
    "\n",
    "    @staticmethod\n",
    "    def __update_key_for_bin_type_distribution_map(key, item_size):\n",
    "        parts = key.split(' ')\n",
    "        parts.append(str(item_size))\n",
    "        parts.sort()\n",
    "        return \" \".join(parts)"
   ]
  },
  {
   "cell_type": "code",
   "execution_count": 3,
   "metadata": {},
   "outputs": [
    {
     "name": "stdout",
     "output_type": "stream",
     "text": [
      "Using bin size:  9\n",
      "Using items sizes [2, 3] \n",
      "With item probabilities [0.8, 0.2]\n"
     ]
    }
   ],
   "source": [
    "env = BinPackingGymEnvironment()"
   ]
  },
  {
   "cell_type": "code",
   "execution_count": 86,
   "metadata": {},
   "outputs": [
    {
     "data": {
      "text/plain": [
       "[0, 0, 0, 0, 0, 0, 0, 0, 0, 2]"
      ]
     },
     "execution_count": 86,
     "metadata": {},
     "output_type": "execute_result"
    }
   ],
   "source": [
    "env.reset()"
   ]
  },
  {
   "cell_type": "code",
   "execution_count": 98,
   "metadata": {},
   "outputs": [
    {
     "data": {
      "text/plain": [
       "(([0, 0, 0, 0, 0, 0, 1, 0, 2, 2],\n",
       "  2,\n",
       "  False,\n",
       "  {2: {}, 4: {}, 6: {'2 2 2': 1}, 8: {'2 2 2 2': 2}}),\n",
       " -103)"
      ]
     },
     "execution_count": 98,
     "metadata": {},
     "output_type": "execute_result"
    }
   ],
   "source": [
    "env.step(4), env.total_reward"
   ]
  },
  {
   "cell_type": "code",
   "execution_count": 10,
   "metadata": {},
   "outputs": [
    {
     "data": {
      "text/plain": [
       "{2: {'2': 1}}"
      ]
     },
     "execution_count": 10,
     "metadata": {},
     "output_type": "execute_result"
    }
   ],
   "source": [
    "env.bin_type_distribution_map"
   ]
  },
  {
   "cell_type": "code",
   "execution_count": 29,
   "metadata": {},
   "outputs": [
    {
     "name": "stdout",
     "output_type": "stream",
     "text": [
      "cannot insert item because bin of this level does not exist\n"
     ]
    },
    {
     "data": {
      "text/plain": [
       "([0, 0, 0, 0, 1, 0, 0, 0, 0, 2], -98, True, {2: {}, 4: {'2 2': 1}})"
      ]
     },
     "execution_count": 29,
     "metadata": {},
     "output_type": "execute_result"
    }
   ],
   "source": [
    "env.step(2)"
   ]
  },
  {
   "cell_type": "code",
   "execution_count": 34,
   "metadata": {},
   "outputs": [
    {
     "data": {
      "text/plain": [
       "([0, 0, 3, 2, 1, 0, 0, 0, 0, 2],\n",
       " -6,\n",
       " False,\n",
       " {2: {'2': 3}, 4: {'2 2': 1}, 3: {'3': 2}})"
      ]
     },
     "execution_count": 34,
     "metadata": {},
     "output_type": "execute_result"
    }
   ],
   "source": [
    "env.step(0)"
   ]
  },
  {
   "cell_type": "code",
   "execution_count": null,
   "metadata": {},
   "outputs": [],
   "source": []
  }
 ],
 "metadata": {
  "kernelspec": {
   "display_name": "Python 3",
   "language": "python",
   "name": "python3"
  },
  "language_info": {
   "codemirror_mode": {
    "name": "ipython",
    "version": 3
   },
   "file_extension": ".py",
   "mimetype": "text/x-python",
   "name": "python",
   "nbconvert_exporter": "python",
   "pygments_lexer": "ipython3",
   "version": "3.6.10"
  }
 },
 "nbformat": 4,
 "nbformat_minor": 4
}
