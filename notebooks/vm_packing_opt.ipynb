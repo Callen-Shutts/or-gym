{
 "cells": [
  {
   "cell_type": "markdown",
   "metadata": {},
   "source": [
    "# 2-D Bin Packing\n",
    "\n",
    "The algorithm we'll be implementing is from [Bansal et al. (2014)](https://pdfs.semanticscholar.org/8e28/d9f9b90825660c57bab99a6ad7ec1d22d755.pdf). This algorithm is given in section 4 of the paper and yields a 1.5-approximation using rounding. I'll see if it's applicable to this set up.\n",
    "\n",
    "## Algorithm\n",
    "\n",
    "Input: set of items $i \\in I$, where each item $i$ has two dimensions defined by $j$ and $k$ (compute and memory). \n",
    "\n",
    "1. Guess the optimum by trying all values between $1$ and $n$.\n",
    "2. For each guessed value of Opt, do:\n",
    "\n",
    "    a. Compute $\\delta$ to classify values and pack medium VM's using Next Fit Decreasing Height (NFDH).\n",
    "    \n",
    "    b. Enumerate over all sizes that are rounded to and for each size the number of items that are rounded to that size, of the set of big, long, wide rectangles and the set of wide and long containers. **Map width to compute and height to memory.**\n",
    "    \n",
    "    c. For each guess, do Packing:\n",
    "        - Assign big rectangles by solving flow network with the algorithm of Dinic.\n",
    "        - Do greedy assignment of long and wide rectangles into $O(1)$ groups.\n",
    "        - Pack $0(1)$ number of groups of long and wide rectangles into containers by brute force.\n",
    "        - Pack the small rectangels using NFDH.\n",
    "        - Pack $O(1)$ types of containers and $O(1)$ types of big rectangles using brute force.\n",
    "        \n",
    "3. Return a feasible packing."
   ]
  },
  {
   "cell_type": "code",
   "execution_count": 1,
   "metadata": {},
   "outputs": [],
   "source": [
    "import gym\n",
    "import or_gym\n",
    "import numpy as np"
   ]
  },
  {
   "cell_type": "code",
   "execution_count": 2,
   "metadata": {},
   "outputs": [],
   "source": [
    "env = gym.make('VMPacking-v0')"
   ]
  },
  {
   "cell_type": "code",
   "execution_count": 3,
   "metadata": {},
   "outputs": [],
   "source": [
    "# Next fit -> Pack item into current bin if it fits, else open a new one\n",
    "s_bins, s_item = env.reset()"
   ]
  },
  {
   "cell_type": "code",
   "execution_count": 6,
   "metadata": {},
   "outputs": [],
   "source": [
    "def next_fit(state):\n",
    "    s_bins, s_item = state\n",
    "    action = None\n",
    "    open_bins = np.where(s_bins[:,0]==1)[0]\n",
    "    if len(open_bins) < 1:\n",
    "        # Open first bin for item\n",
    "        action = 0\n",
    "    else:\n",
    "        # Check each bin until one is found to fit the item\n",
    "        for b in open_bins:\n",
    "            if all(s_bins[b, [1, 2]] + s_item <= 1):\n",
    "                action = b\n",
    "        if action is None:\n",
    "            action = np.max(open_bins) + 1\n",
    "    return action"
   ]
  },
  {
   "cell_type": "code",
   "execution_count": 7,
   "metadata": {},
   "outputs": [],
   "source": [
    "state = env.reset()\n",
    "done = False\n",
    "rewards, actions, items = [], [], []\n",
    "while done == False:\n",
    "    items.append(state[1])\n",
    "    action = next_fit(state)\n",
    "    state, reward, done, _ = env.step(action)\n",
    "    actions.append(action)\n",
    "    rewards.append(reward)"
   ]
  },
  {
   "cell_type": "code",
   "execution_count": 9,
   "metadata": {},
   "outputs": [
    {
     "data": {
      "text/plain": [
       "-3227.6979100745084"
      ]
     },
     "execution_count": 9,
     "metadata": {},
     "output_type": "execute_result"
    }
   ],
   "source": [
    "sum(rewards)"
   ]
  },
  {
   "cell_type": "code",
   "execution_count": null,
   "metadata": {},
   "outputs": [],
   "source": []
  }
 ],
 "metadata": {
  "kernelspec": {
   "display_name": "Python 3",
   "language": "python",
   "name": "python3"
  },
  "language_info": {
   "codemirror_mode": {
    "name": "ipython",
    "version": 3
   },
   "file_extension": ".py",
   "mimetype": "text/x-python",
   "name": "python",
   "nbconvert_exporter": "python",
   "pygments_lexer": "ipython3",
   "version": "3.6.10"
  }
 },
 "nbformat": 4,
 "nbformat_minor": 4
}
