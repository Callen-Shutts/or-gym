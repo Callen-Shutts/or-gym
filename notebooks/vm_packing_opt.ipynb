{
 "cells": [
  {
   "cell_type": "markdown",
   "metadata": {},
   "source": [
    "# 2-D Bin Packing\n",
    "\n",
    "The algorithm we'll be implementing is from [Bansal et al. (2014)](https://pdfs.semanticscholar.org/8e28/d9f9b90825660c57bab99a6ad7ec1d22d755.pdf). This algorithm is given in section 4 of the paper and yields a 1.5-approximation using rounding. I'll see if it's applicable to this set up.\n",
    "\n",
    "## Algorithm\n",
    "\n",
    "Input: set of items $i \\in I$, where each item $i$ has two dimensions defined by $j$ and $k$ (compute and memory). \n",
    "\n",
    "1. Guess the optimum by trying all values between $1$ and $n$.\n",
    "2. For each guessed value of Opt, do:\n",
    "\n",
    "    a. Compute $\\delta$ to classify values and pack medium VM's using Next Fit Decreasing Height (NFDH).\n",
    "    \n",
    "    b. Enumerate over all sizes that are rounded to and for each size the number of items that are rounded to that size, of the set of big, long, wide rectangles and the set of wide and long containers. **Map width to compute and height to memory.**\n",
    "    \n",
    "    c. For each guess, do Packing:\n",
    "        - Assign big rectangles by solving flow network with the algorithm of Dinic.\n",
    "        - Do greedy assignment of long and wide rectangles into $O(1)$ groups.\n",
    "        - Pack $0(1)$ number of groups of long and wide rectangles into containers by brute force.\n",
    "        - Pack the small rectangels using NFDH.\n",
    "        - Pack $O(1)$ types of containers and $O(1)$ types of big rectangles using brute force.\n",
    "        \n",
    "3. Return a feasible packing."
   ]
  },
  {
   "cell_type": "code",
   "execution_count": 1,
   "metadata": {},
   "outputs": [],
   "source": [
    "import gym\n",
    "import or_gym\n",
    "import numpy as np\n",
    "import matplotlib.pyplot as plt\n",
    "import copy\n",
    "%matplotlib inline"
   ]
  },
  {
   "cell_type": "code",
   "execution_count": 2,
   "metadata": {},
   "outputs": [],
   "source": [
    "env = gym.make('VMPacking-v0')"
   ]
  },
  {
   "cell_type": "code",
   "execution_count": 3,
   "metadata": {},
   "outputs": [],
   "source": [
    "s_bins, s_item = env.reset()"
   ]
  },
  {
   "cell_type": "code",
   "execution_count": 12,
   "metadata": {},
   "outputs": [],
   "source": [
    "# First fit: Pack item into lowest current bin where it fits, else into a new bin\n",
    "def first_fit(state):\n",
    "    s_bins, s_item = state\n",
    "    action = None\n",
    "    open_bins = np.where(s_bins[:,0]==1)[0]\n",
    "    if len(open_bins) < 1:\n",
    "        # Open first bin for item\n",
    "        action = 0\n",
    "    else:\n",
    "        # Check each bin until one is found to fit the item\n",
    "        for b in open_bins:\n",
    "            if all(s_bins[b, [1, 2]] + s_item <= 1):\n",
    "                action = b\n",
    "        if action is None:\n",
    "            action = np.max(open_bins) + 1\n",
    "    return action\n",
    "\n",
    "# Next fit: Pack item into current bin, else into a new bin\n",
    "def next_fit(state):\n",
    "    s_bins, s_items = state\n",
    "    action = None\n",
    "    current_bin = np.where(s_bins[:,0]==1)[0]\n",
    "    if len(current_bin) < 1:\n",
    "        # Open first bin\n",
    "        action = 0\n",
    "    else:\n",
    "        # Check if it fits into current bin\n",
    "        b = current_bin[-1]\n",
    "        if all(s_bins[b, [1, 2]] + s_item <= 1):\n",
    "            action = b\n",
    "        else:\n",
    "            action = b + 1\n",
    "    return action    "
   ]
  },
  {
   "cell_type": "code",
   "execution_count": 13,
   "metadata": {},
   "outputs": [],
   "source": [
    "state = env.reset()\n",
    "done = False\n",
    "rewards, actions, items = [], [], []\n",
    "while done == False:\n",
    "    items.append(state[1])\n",
    "    action = next_fit(state)\n",
    "    state, reward, done, _ = env.step(action)\n",
    "    actions.append(action)\n",
    "    rewards.append(reward)"
   ]
  },
  {
   "cell_type": "code",
   "execution_count": 14,
   "metadata": {},
   "outputs": [
    {
     "data": {
      "text/plain": [
       "-5870.657109427103"
      ]
     },
     "execution_count": 14,
     "metadata": {},
     "output_type": "execute_result"
    }
   ],
   "source": [
    "sum(rewards)"
   ]
  },
  {
   "cell_type": "code",
   "execution_count": 18,
   "metadata": {},
   "outputs": [],
   "source": [
    "# Average FF and NF\n",
    "algos = ['NF', 'FF']\n",
    "algo_rewards = {}\n",
    "N = 100\n",
    "for a in algos:\n",
    "    algo_rewards[a] = []\n",
    "    for i in range(N):\n",
    "        state = env.reset()\n",
    "        done = False\n",
    "        rewards = []\n",
    "        while done == False:\n",
    "            if a == 'NF':\n",
    "                action = next_fit(state)\n",
    "            elif a == 'FF':\n",
    "                action = first_fit(state)\n",
    "            state, reward, done, _ = env.step(action)\n",
    "            rewards.append(reward)\n",
    "        algo_rewards[a].append(sum(rewards))\n",
    "    algo_rewards[a] = np.array(algo_rewards[a])"
   ]
  },
  {
   "cell_type": "code",
   "execution_count": 21,
   "metadata": {},
   "outputs": [
    {
     "data": {
      "image/png": "[encoded data removed]",
      "text/plain": [
       "<Figure size 864x576 with 1 Axes>"
      ]
     },
     "metadata": {
      "needs_background": "light"
     },
     "output_type": "display_data"
    }
   ],
   "source": [
    "plt.figure(figsize=(12,8))\n",
    "plt.hist(algo_rewards['NF'], label='Next Fit')\n",
    "plt.axvline(algo_rewards['NF'].mean(), label='NF Mean')\n",
    "plt.hist(algo_rewards['FF'], label='First Fit')\n",
    "plt.axvline(algo_rewards['FF'].mean(), label='FF Mean')\n",
    "plt.legend()\n",
    "plt.show()"
   ]
  },
  {
   "cell_type": "markdown",
   "metadata": {},
   "source": [
    "## MIP for VM Packing"
   ]
  },
  {
   "cell_type": "code",
   "execution_count": 3,
   "metadata": {},
   "outputs": [],
   "source": [
    "from pyomo.environ import *\n",
    "from pyomo.opt import SolverFactory"
   ]
  },
  {
   "cell_type": "code",
   "execution_count": 31,
   "metadata": {},
   "outputs": [],
   "source": [
    "env.step_limit = 5\n",
    "env.n_pms = 10\n",
    "# env = or_gym.make('VMPacking-v0')\n",
    "env.reset()\n",
    "\n",
    "fixed_demand = env.demand.copy()"
   ]
  },
  {
   "cell_type": "code",
   "execution_count": null,
   "metadata": {},
   "outputs": [],
   "source": [
    "# env.step_limit = 5\n",
    "# env.n_pms = 10\n",
    "%timeit\n",
    "env = or_gym.make('VMPacking-v0')\n",
    "# env.reset()\n",
    "# env.demand = fixed_demand.copy()\n",
    "m = ConcreteModel()\n",
    "\n",
    "m.n = Set(initialize=[i for i in range(env.n_pms)]) # Num Physical Machines\n",
    "m.v = Set(initialize=[i for i in range(env.step_limit)]) # Num Virtual Machines\n",
    "m.t = Set(initialize=[i for i in range(env.step_limit)])\n",
    "m.cpu_demand = Param(m.t,\n",
    "    initialize={i: j[0] for i, j in enumerate(env.demand)})\n",
    "m.mem_demand = Param(m.t,\n",
    "    initialize={i: j[1] for i, j in enumerate(env.demand)})\n",
    "m.durations = Param(m.v,\n",
    "    initialize={i: env.step_limit - i for i in range(env.step_limit)})\n",
    "min_demand = min(m.mem_demand[t] for t in m.t)\n",
    "m.cpu_limit = env.cpu_capacity\n",
    "m.mem_limit = env.mem_capacity\n",
    "\n",
    "m.x = Var(m.n, m.v, m.t, within=Binary) # Assign VM's to machines\n",
    "m.y = Var(m.n, m.v, within=Binary)\n",
    "m.z = Var(m.n, m.t, within=Binary) # Number of Machine\n",
    "\n",
    "@m.Constraint(m.n, m.t)\n",
    "def cpu_constraint(m, n, t):\n",
    "    return sum(m.x[n, v, t] * m.cpu_demand[v] \n",
    "               for v in m.v) - m.cpu_limit <= 0\n",
    "\n",
    "@m.Constraint(m.n, m.t)\n",
    "def mem_constraint(m, n, t):\n",
    "    return sum(m.x[n, v, t] * m.mem_demand[v]\n",
    "               for v in m.v) - m.mem_limit <= 0\n",
    "\n",
    "@m.Constraint(m.n, m.v)\n",
    "def duration_constraint(m, n, v):\n",
    "    return sum(m.x[n, v, t] \n",
    "            for t in m.t)- m.y[n, v] * m.durations[v] == 0\n",
    "\n",
    "@m.Constraint(m.v)\n",
    "def vm_machine_assignment(m, v):\n",
    "    return sum(m.y[n, v] for n in m.n) == 1\n",
    "\n",
    "@m.Constraint(m.v, m.t)\n",
    "def assignment_constraint(m, v, t):\n",
    "    if t >= v:\n",
    "        return sum(m.x[n, v, t] for n in m.n) <= 1\n",
    "    else:\n",
    "        return sum(m.x[n, v, t] for n in m.n) == 0\n",
    "    \n",
    "@m.Constraint(m.n, m.v, m.t)\n",
    "def time_constraint(m, n, v, t):\n",
    "    return (m.z[n, t] - m.x[n, v, t]) >= 0\n",
    "    \n",
    "# Maximize PM Packing\n",
    "# m.obj = Objective(expr=(\n",
    "#     sum(m.y[n, v] for v in m.v for n in m.n)),\n",
    "#     sense=minimize)\n",
    "# m.obj = Objective(expr=(\n",
    "#     sum(m.x[n, v, t]\n",
    "#         for n in m.n\n",
    "#         for v in m.v\n",
    "#         for t in m.t)),\n",
    "#     sense=minimize)\n",
    "m.obj = Objective(expr=(\n",
    "    sum(sum(m.x[n, v, t] * (m.cpu_demand[v] + m.mem_demand[v])\n",
    "        for v in m.v) - 2 * m.z[n, t]\n",
    "        for n in m.n\n",
    "        for t in m.t)),\n",
    "    sense=maximize)\n",
    "\n",
    "solver = SolverFactory('gurobi')\n",
    "results = solver.solve(m)\n",
    "\n",
    "plan = []\n",
    "for v in m.v:\n",
    "    for t in m.t:\n",
    "        if v == t:\n",
    "            for n in m.n:\n",
    "                if m.x[n, v, t].value is None:\n",
    "                    continue\n",
    "                if m.x[n, v, t].value > 0:\n",
    "                    plan.append([n, v, t])\n",
    "\n",
    "plan = np.vstack(plan)\n",
    "print(plan)\n",
    "rewards = []\n",
    "actions = []\n",
    "states = []\n",
    "done = False\n",
    "for a in plan:\n",
    "    t = a[1]\n",
    "    action = a[0]\n",
    "    state, r, done, _ = env.step(action)\n",
    "    states.append(copy.deepcopy(state))\n",
    "    actions.append(action)\n",
    "    rewards.append(r)\n",
    "    if done:\n",
    "        print(sum(rewards), len(rewards), t)\n",
    "        break\n",
    "        \n",
    "print(m.obj.expr())"
   ]
  },
  {
   "cell_type": "code",
   "execution_count": 92,
   "metadata": {},
   "outputs": [
    {
     "data": {
      "text/plain": [
       "5"
      ]
     },
     "execution_count": 92,
     "metadata": {},
     "output_type": "execute_result"
    }
   ],
   "source": [
    "env.step_count"
   ]
  },
  {
   "cell_type": "code",
   "execution_count": 68,
   "metadata": {},
   "outputs": [
    {
     "data": {
      "text/plain": [
       "0.3719019580994112"
      ]
     },
     "execution_count": 68,
     "metadata": {},
     "output_type": "execute_result"
    }
   ],
   "source": [
    "601.14/438.18-1"
   ]
  },
  {
   "cell_type": "code",
   "execution_count": 69,
   "metadata": {},
   "outputs": [
    {
     "data": {
      "text/plain": [
       "162.95999999999998"
      ]
     },
     "execution_count": 69,
     "metadata": {},
     "output_type": "execute_result"
    }
   ],
   "source": [
    "601.14-438.18"
   ]
  },
  {
   "cell_type": "code",
   "execution_count": 65,
   "metadata": {},
   "outputs": [
    {
     "data": {
      "text/plain": [
       "-3.858837177502922"
      ]
     },
     "execution_count": 65,
     "metadata": {},
     "output_type": "execute_result"
    }
   ],
   "source": [
    "sum(rewards)"
   ]
  },
  {
   "cell_type": "code",
   "execution_count": 52,
   "metadata": {},
   "outputs": [
    {
     "data": {
      "image/png": "[encoded data removed]",
      "text/plain": [
       "<Figure size 864x864 with 2 Axes>"
      ]
     },
     "metadata": {
      "needs_background": "light"
     },
     "output_type": "display_data"
    }
   ],
   "source": [
    "colors = plt.rcParams['axes.prop_cycle'].by_key()['color']\n",
    "fig, ax = plt.subplots(2, 1, sharex=True, figsize=(12,12))\n",
    "for idx in m.x:\n",
    "    if m.x[idx].value > 0:\n",
    "        start = idx[-1]\n",
    "        ax[1].barh(idx[0], 1, left=start, color=colors[idx[1]])\n",
    "        \n",
    "ax[1].set_ylabel('Machine')\n",
    "ax[1].set_xlabel('Time Period')\n",
    "ax[1].set_title('MIP Schedule')\n",
    "ax[1].set_ylim([-1, 10])\n",
    "\n",
    "for i, a in enumerate(actions):\n",
    "    ax[0].barh(a, env.step_limit - i, left=i, color=colors[i], label='VM {}'.format(i))\n",
    "    \n",
    "ax[0].set_title('Environment')\n",
    "ax[0].legend()\n",
    "ax[0].set_ylim([-1, 10])\n",
    "plt.show()"
   ]
  },
  {
   "cell_type": "code",
   "execution_count": 398,
   "metadata": {},
   "outputs": [
    {
     "data": {
      "text/plain": [
       "4.0"
      ]
     },
     "execution_count": 398,
     "metadata": {},
     "output_type": "execute_result"
    }
   ],
   "source": [
    "env.state[0][:, 0].sum()"
   ]
  },
  {
   "cell_type": "code",
   "execution_count": 36,
   "metadata": {},
   "outputs": [
    {
     "name": "stdout",
     "output_type": "stream",
     "text": [
      "[1]\n",
      "Order 0 appears 5 times\n",
      "[0 1]\n",
      "Order 1 appears 4 times\n",
      "[0 1 1]\n",
      "Order 2 appears 3 times\n",
      "[0 1 1 1]\n",
      "Order 3 appears 2 times\n",
      "[0 1 1 1 1]\n",
      "Order 4 appears 1 times\n"
     ]
    }
   ],
   "source": [
    "assignments = np.array([i for i in m.x if m.x[i].value > 0])\n",
    "for i in range(env.step_limit):\n",
    "    machines = assignments[np.where(assignments[:, 2]==i)[0], 0]\n",
    "    print(machines)\n",
    "    print(\"Order {} appears {} times\".format(i, len(np.where(assignments[:, 1]==i)[0])))"
   ]
  },
  {
   "cell_type": "code",
   "execution_count": 37,
   "metadata": {},
   "outputs": [
    {
     "data": {
      "text/plain": [
       "array([[0, 1, 1],\n",
       "       [1, 0, 0],\n",
       "       [1, 2, 2],\n",
       "       [1, 3, 3],\n",
       "       [1, 4, 4]])"
      ]
     },
     "execution_count": 37,
     "metadata": {},
     "output_type": "execute_result"
    }
   ],
   "source": [
    "assignments[np.where(assignments[:, 1]==assignments[:, 2])[0]]"
   ]
  },
  {
   "cell_type": "code",
   "execution_count": 38,
   "metadata": {},
   "outputs": [
    {
     "name": "stdout",
     "output_type": "stream",
     "text": [
      "True\n"
     ]
    },
    {
     "data": {
      "text/plain": [
       "-13.314997412319817"
      ]
     },
     "execution_count": 38,
     "metadata": {},
     "output_type": "execute_result"
    }
   ],
   "source": [
    "# Calc rewards from env states\n",
    "_rewards = []\n",
    "for s in states:\n",
    "    pm_state = s[0].copy()\n",
    "    _r = np.sum(pm_state[:, 0] * (pm_state[:, 1] - 1 + pm_state[:, 2] - 1))\n",
    "    _rewards.append(_r)\n",
    "    \n",
    "print(sum(rewards) == sum(_rewards))\n",
    "sum(_rewards)"
   ]
  },
  {
   "cell_type": "code",
   "execution_count": 39,
   "metadata": {},
   "outputs": [
    {
     "data": {
      "text/plain": [
       "-2.354107317715701"
      ]
     },
     "execution_count": 39,
     "metadata": {},
     "output_type": "execute_result"
    }
   ],
   "source": [
    "sum(pm_state[:, 0] * (pm_state[:, 1:].sum(axis=1) - 2))"
   ]
  },
  {
   "cell_type": "code",
   "execution_count": 40,
   "metadata": {},
   "outputs": [
    {
     "data": {
      "text/plain": [
       "array([0.24194459, 1.40394809, 0.        , 0.        , 0.        ,\n",
       "       0.        , 0.        , 0.        , 0.        , 0.        ])"
      ]
     },
     "execution_count": 40,
     "metadata": {},
     "output_type": "execute_result"
    }
   ],
   "source": [
    "pm_state[:, 1] + pm_state[:, 2]"
   ]
  },
  {
   "cell_type": "code",
   "execution_count": 41,
   "metadata": {},
   "outputs": [
    {
     "data": {
      "text/plain": [
       "[-1.7178341169347118,\n",
       " -3.4758895265631686,\n",
       " -3.206147101794529,\n",
       " -2.561019349311707,\n",
       " -2.3541073177157013]"
      ]
     },
     "execution_count": 41,
     "metadata": {},
     "output_type": "execute_result"
    }
   ],
   "source": [
    "rewards"
   ]
  },
  {
   "cell_type": "code",
   "execution_count": 42,
   "metadata": {},
   "outputs": [
    {
     "data": {
      "text/plain": [
       "[-1.7178341169347118,\n",
       " -3.4758895265631686,\n",
       " -3.206147101794529,\n",
       " -2.561019349311707,\n",
       " -2.3541073177157013]"
      ]
     },
     "execution_count": 42,
     "metadata": {},
     "output_type": "execute_result"
    }
   ],
   "source": [
    "_rewards"
   ]
  },
  {
   "cell_type": "code",
   "execution_count": 45,
   "metadata": {},
   "outputs": [
    {
     "data": {
      "text/plain": [
       "array([-1.75805541, -1.44809169, -2.        , -2.        , -2.        ,\n",
       "       -2.        , -2.        , -2.        , -2.        , -2.        ])"
      ]
     },
     "execution_count": 45,
     "metadata": {},
     "output_type": "execute_result"
    }
   ],
   "source": [
    "t = 2\n",
    "rew = np.array([sum(m.x[n, v, t].value * (m.cpu_demand[v] + m.mem_demand[v])\n",
    "                for v in m.v) - 2\n",
    "                for n in m.n])\n",
    "rew"
   ]
  },
  {
   "cell_type": "code",
   "execution_count": 375,
   "metadata": {},
   "outputs": [
    {
     "name": "stdout",
     "output_type": "stream",
     "text": [
      "-0.9515527922119307 2 1 2\n",
      "-1.8136776514843778 5 2 2\n",
      "-1.7295896982947734 8 0 2\n"
     ]
    }
   ],
   "source": [
    "for n in m.n:\n",
    "    for v in m.v:\n",
    "        if m.x[n, v, t].value > 0:\n",
    "            val = m.x[n, v, t].value * (m.cpu_demand[v] + m.mem_demand[v] - 2)\n",
    "            print(val, n, v, t)"
   ]
  },
  {
   "cell_type": "code",
   "execution_count": 376,
   "metadata": {},
   "outputs": [
    {
     "name": "stdout",
     "output_type": "stream",
     "text": [
      "False\n"
     ]
    },
    {
     "data": {
      "text/plain": [
       "-43.06453278147045"
      ]
     },
     "execution_count": 376,
     "metadata": {},
     "output_type": "execute_result"
    }
   ],
   "source": [
    "o_rews = []\n",
    "for t in m.t:\n",
    "    for n in m.n:\n",
    "        o_rew = sum(m.x[n, v, t].value * (m.cpu_demand[v] + m.mem_demand[v])\n",
    "                    for v in m.v) - sum(2 * m.y[n, v].value for v in m.v)\n",
    "        o_rews.append(o_rew)\n",
    "\n",
    "opt_rewards = sum(o_rews)\n",
    "\n",
    "print(sum(rewards) == opt_rewards)\n",
    "opt_rewards"
   ]
  },
  {
   "cell_type": "code",
   "execution_count": 345,
   "metadata": {},
   "outputs": [
    {
     "data": {
      "text/plain": [
       "-25.028200824223646"
      ]
     },
     "execution_count": 345,
     "metadata": {},
     "output_type": "execute_result"
    }
   ],
   "source": [
    "opt_rewards"
   ]
  },
  {
   "cell_type": "code",
   "execution_count": 377,
   "metadata": {},
   "outputs": [
    {
     "data": {
      "text/plain": [
       "-23.06453278147045"
      ]
     },
     "execution_count": 377,
     "metadata": {},
     "output_type": "execute_result"
    }
   ],
   "source": [
    "rew = np.array(sum([sum(m.x[n, v, t].value * (m.cpu_demand[v] - 1 + m.mem_demand[v] - 1) \n",
    "                for v in m.v \n",
    "                for n in m.n) \n",
    "                for t in m.t]))\n",
    "rew[rew!=0].sum()"
   ]
  },
  {
   "cell_type": "code",
   "execution_count": 324,
   "metadata": {},
   "outputs": [],
   "source": [
    "x_n = np.array([m.x[n, v, t].value for v in m.v for n in m.n for t in m.t]).reshape(max(m.n)+1, -1)"
   ]
  },
  {
   "cell_type": "code",
   "execution_count": 326,
   "metadata": {},
   "outputs": [
    {
     "data": {
      "text/plain": [
       "(25,)"
      ]
     },
     "execution_count": 326,
     "metadata": {},
     "output_type": "execute_result"
    }
   ],
   "source": [
    "x_n[0].shape"
   ]
  },
  {
   "cell_type": "code",
   "execution_count": null,
   "metadata": {},
   "outputs": [],
   "source": []
  },
  {
   "cell_type": "code",
   "execution_count": null,
   "metadata": {},
   "outputs": [],
   "source": []
  },
  {
   "cell_type": "code",
   "execution_count": 99,
   "metadata": {},
   "outputs": [
    {
     "data": {
      "text/plain": [
       "[[3, 0, 0],\n",
       " [6, 1, 0],\n",
       " [5, 1, 1],\n",
       " [4, 2, 0],\n",
       " [3, 2, 1],\n",
       " [1, 2, 2],\n",
       " [4, 3, 0],\n",
       " [1, 3, 1],\n",
       " [1, 3, 2],\n",
       " [0, 3, 3],\n",
       " [8, 4, 0],\n",
       " [0, 4, 1],\n",
       " [1, 4, 2],\n",
       " [0, 4, 3],\n",
       " [8, 4, 4]]"
      ]
     },
     "execution_count": 99,
     "metadata": {},
     "output_type": "execute_result"
    }
   ],
   "source": [
    "plan"
   ]
  },
  {
   "cell_type": "code",
   "execution_count": 103,
   "metadata": {},
   "outputs": [
    {
     "data": {
      "text/plain": [
       "3"
      ]
     },
     "execution_count": 103,
     "metadata": {},
     "output_type": "execute_result"
    }
   ],
   "source": [
    "actions[0]"
   ]
  },
  {
   "cell_type": "code",
   "execution_count": 314,
   "metadata": {},
   "outputs": [
    {
     "data": {
      "text/plain": [
       "-25.028200824223642"
      ]
     },
     "execution_count": 314,
     "metadata": {},
     "output_type": "execute_result"
    }
   ],
   "source": [
    "rew = np.array([m.x[n, v, t].value * (m.cpu_demand[v] - 1 + m.mem_demand[v] - 1) \n",
    "                for v in m.v \n",
    "                for n in m.n \n",
    "                for t in m.t])\n",
    "rew[rew!=0].sum()"
   ]
  },
  {
   "cell_type": "code",
   "execution_count": 210,
   "metadata": {},
   "outputs": [
    {
     "data": {
      "text/plain": [
       "'VMPacking-v0'"
      ]
     },
     "execution_count": 210,
     "metadata": {},
     "output_type": "execute_result"
    }
   ],
   "source": [
    "env.spec.id"
   ]
  },
  {
   "cell_type": "code",
   "execution_count": 94,
   "metadata": {},
   "outputs": [
    {
     "data": {
      "text/plain": [
       "[-1.7806397024632699,\n",
       " -3.1575812919159496,\n",
       " -4.524839913032137,\n",
       " -5.902852423667337,\n",
       " -7.719032509277843]"
      ]
     },
     "execution_count": 94,
     "metadata": {},
     "output_type": "execute_result"
    }
   ],
   "source": [
    "rewards"
   ]
  },
  {
   "cell_type": "markdown",
   "metadata": {},
   "source": [
    "$$\\textrm{max}\\; \\sum_n \\sum_v \\sum_t x_{nvt} (D^C_v + D^M_v - 2)$$\n",
    "\n",
    "$$\\textrm{s.t.}\\; \\sum_v x_{nvt} D_v^C \\leq 1 \\quad \\forall n \\in N, \\forall t \\in T$$\n",
    "\n",
    "$$\\sum_v x_{nvt} D_v^M \\leq 1 \\quad \\forall n \\in N, \\forall t \\in T$$\n",
    "\n",
    "$$\\sum_t x_{nvt} - y_{nv} \\tau_v = 0 \\quad \\forall n \\in N, \\forall v \\in V$$\n",
    "\n",
    "$$\\sum_n y_{nv} = 1 \\quad \\forall v \\in V$$\n",
    "\n",
    "$$\\sum_n x_{nvt} \\leq 1 \\quad \\forall t \\geq v \\in T, V$$\n",
    "\n",
    "$$\\sum_n x_{nvt} = 0 \\quad \\forall t \\leq v \\in T, V$$\n",
    "\n",
    "$$x, y \\in \\{0, 1\\}$$\n",
    "\n",
    "$$D_v^C, D_v^M, \\tau_v > 0$$"
   ]
  },
  {
   "cell_type": "code",
   "execution_count": 232,
   "metadata": {},
   "outputs": [
    {
     "data": {
      "text/plain": [
       "1.2"
      ]
     },
     "execution_count": 232,
     "metadata": {},
     "output_type": "execute_result"
    }
   ],
   "source": [
    "bin_vms2 = 288**2*120 + 120*288\n",
    "bin_vms2 / bin_vms"
   ]
  },
  {
   "cell_type": "code",
   "execution_count": 233,
   "metadata": {},
   "outputs": [
    {
     "data": {
      "text/plain": [
       "9987840"
      ]
     },
     "execution_count": 233,
     "metadata": {},
     "output_type": "execute_result"
    }
   ],
   "source": [
    "bin_vms2"
   ]
  },
  {
   "cell_type": "code",
   "execution_count": 215,
   "metadata": {},
   "outputs": [],
   "source": [
    "env = or_gym.make('VMPacking-v0')"
   ]
  },
  {
   "cell_type": "code",
   "execution_count": 220,
   "metadata": {},
   "outputs": [
    {
     "data": {
      "text/plain": [
       "array([46.5755355 , 87.74285704])"
      ]
     },
     "execution_count": 220,
     "metadata": {},
     "output_type": "execute_result"
    }
   ],
   "source": [
    "env.demand.sum(axis=0)"
   ]
  },
  {
   "cell_type": "code",
   "execution_count": 221,
   "metadata": {},
   "outputs": [],
   "source": [
    "d = []\n",
    "for i in range(1000):\n",
    "    env.reset()\n",
    "    d.append(env.demand.sum(axis=0))"
   ]
  },
  {
   "cell_type": "code",
   "execution_count": 222,
   "metadata": {},
   "outputs": [],
   "source": [
    "d = np.vstack(d)"
   ]
  },
  {
   "cell_type": "code",
   "execution_count": 225,
   "metadata": {},
   "outputs": [
    {
     "data": {
      "text/plain": [
       "array([46.31824729, 79.69059994])"
      ]
     },
     "execution_count": 225,
     "metadata": {},
     "output_type": "execute_result"
    }
   ],
   "source": [
    "d.mean(axis=0)"
   ]
  },
  {
   "cell_type": "code",
   "execution_count": 227,
   "metadata": {},
   "outputs": [
    {
     "data": {
      "text/plain": [
       "(array([ 13.,  48., 110., 190., 249., 189., 125.,  46.,  23.,   7.]),\n",
       " array([66.59999992, 69.4514285 , 72.30285707, 75.15428565, 78.00571422,\n",
       "        80.8571428 , 83.70857138, 86.55999995, 89.41142853, 92.2628571 ,\n",
       "        95.11428568]),\n",
       " <a list of 10 Patch objects>)"
      ]
     },
     "execution_count": 227,
     "metadata": {},
     "output_type": "execute_result"
    },
    {
     "data": {
      "image/png": "[encoded data removed]",
      "text/plain": [
       "<Figure size 432x288 with 1 Axes>"
      ]
     },
     "metadata": {
      "needs_background": "light"
     },
     "output_type": "display_data"
    }
   ],
   "source": [
    "plt.hist(d[:,1])"
   ]
  },
  {
   "cell_type": "code",
   "execution_count": null,
   "metadata": {},
   "outputs": [],
   "source": []
  }
 ],
 "metadata": {
  "kernelspec": {
   "display_name": "Python 3",
   "language": "python",
   "name": "python3"
  },
  "language_info": {
   "codemirror_mode": {
    "name": "ipython",
    "version": 3
   },
   "file_extension": ".py",
   "mimetype": "text/x-python",
   "name": "python",
   "nbconvert_exporter": "python",
   "pygments_lexer": "ipython3",
   "version": "3.6.10"
  }
 },
 "nbformat": 4,
 "nbformat_minor": 4
}
