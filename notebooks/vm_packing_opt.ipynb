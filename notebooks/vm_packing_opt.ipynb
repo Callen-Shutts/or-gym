{
 "cells": [
  {
   "cell_type": "markdown",
   "metadata": {},
   "source": [
    "# 2-D Bin Packing\n",
    "\n",
    "The algorithm we'll be implementing is from [Bansal et al. (2014)](https://pdfs.semanticscholar.org/8e28/d9f9b90825660c57bab99a6ad7ec1d22d755.pdf). This algorithm is given in section 4 of the paper and yields a 1.5-approximation using rounding. I'll see if it's applicable to this set up.\n",
    "\n",
    "## Algorithm\n",
    "\n",
    "Input: set of items $i \\in I$, where each item $i$ has two dimensions defined by $j$ and $k$ (compute and memory). \n",
    "\n",
    "1. Guess the optimum by trying all values between $1$ and $n$.\n",
    "2. For each guessed value of Opt, do:\n",
    "\n",
    "    a. Compute $\\delta$ to classify values and pack medium VM's using Next Fit Decreasing Height (NFDH).\n",
    "    \n",
    "    b. Enumerate over all sizes that are rounded to and for each size the number of items that are rounded to that size, of the set of big, long, wide rectangles and the set of wide and long containers. **Map width to compute and height to memory.**\n",
    "    \n",
    "    c. For each guess, do Packing:\n",
    "        - Assign big rectangles by solving flow network with the algorithm of Dinic.\n",
    "        - Do greedy assignment of long and wide rectangles into $O(1)$ groups.\n",
    "        - Pack $0(1)$ number of groups of long and wide rectangles into containers by brute force.\n",
    "        - Pack the small rectangels using NFDH.\n",
    "        - Pack $O(1)$ types of containers and $O(1)$ types of big rectangles using brute force.\n",
    "        \n",
    "3. Return a feasible packing."
   ]
  },
  {
   "cell_type": "code",
   "execution_count": 1,
   "metadata": {},
   "outputs": [],
   "source": [
    "import gym\n",
    "import or_gym\n",
    "import numpy as np\n",
    "import matplotlib.pyplot as plt\n",
    "%matplotlib inline"
   ]
  },
  {
   "cell_type": "code",
   "execution_count": 2,
   "metadata": {},
   "outputs": [],
   "source": [
    "env = gym.make('VMPacking-v0')"
   ]
  },
  {
   "cell_type": "code",
   "execution_count": 3,
   "metadata": {},
   "outputs": [],
   "source": [
    "s_bins, s_item = env.reset()"
   ]
  },
  {
   "cell_type": "code",
   "execution_count": 12,
   "metadata": {},
   "outputs": [],
   "source": [
    "# First fit: Pack item into lowest current bin where it fits, else into a new bin\n",
    "def first_fit(state):\n",
    "    s_bins, s_item = state\n",
    "    action = None\n",
    "    open_bins = np.where(s_bins[:,0]==1)[0]\n",
    "    if len(open_bins) < 1:\n",
    "        # Open first bin for item\n",
    "        action = 0\n",
    "    else:\n",
    "        # Check each bin until one is found to fit the item\n",
    "        for b in open_bins:\n",
    "            if all(s_bins[b, [1, 2]] + s_item <= 1):\n",
    "                action = b\n",
    "        if action is None:\n",
    "            action = np.max(open_bins) + 1\n",
    "    return action\n",
    "\n",
    "# Next fit: Pack item into current bin, else into a new bin\n",
    "def next_fit(state):\n",
    "    s_bins, s_items = state\n",
    "    action = None\n",
    "    current_bin = np.where(s_bins[:,0]==1)[0]\n",
    "    if len(current_bin) < 1:\n",
    "        # Open first bin\n",
    "        action = 0\n",
    "    else:\n",
    "        # Check if it fits into current bin\n",
    "        b = current_bin[-1]\n",
    "        if all(s_bins[b, [1, 2]] + s_item <= 1):\n",
    "            action = b\n",
    "        else:\n",
    "            action = b + 1\n",
    "    return action    "
   ]
  },
  {
   "cell_type": "code",
   "execution_count": 13,
   "metadata": {},
   "outputs": [],
   "source": [
    "state = env.reset()\n",
    "done = False\n",
    "rewards, actions, items = [], [], []\n",
    "while done == False:\n",
    "    items.append(state[1])\n",
    "    action = next_fit(state)\n",
    "    state, reward, done, _ = env.step(action)\n",
    "    actions.append(action)\n",
    "    rewards.append(reward)"
   ]
  },
  {
   "cell_type": "code",
   "execution_count": 14,
   "metadata": {},
   "outputs": [
    {
     "data": {
      "text/plain": [
       "-5870.657109427103"
      ]
     },
     "execution_count": 14,
     "metadata": {},
     "output_type": "execute_result"
    }
   ],
   "source": [
    "sum(rewards)"
   ]
  },
  {
   "cell_type": "code",
   "execution_count": 18,
   "metadata": {},
   "outputs": [],
   "source": [
    "# Average FF and NF\n",
    "algos = ['NF', 'FF']\n",
    "algo_rewards = {}\n",
    "N = 100\n",
    "for a in algos:\n",
    "    algo_rewards[a] = []\n",
    "    for i in range(N):\n",
    "        state = env.reset()\n",
    "        done = False\n",
    "        rewards = []\n",
    "        while done == False:\n",
    "            if a == 'NF':\n",
    "                action = next_fit(state)\n",
    "            elif a == 'FF':\n",
    "                action = first_fit(state)\n",
    "            state, reward, done, _ = env.step(action)\n",
    "            rewards.append(reward)\n",
    "        algo_rewards[a].append(sum(rewards))\n",
    "    algo_rewards[a] = np.array(algo_rewards[a])"
   ]
  },
  {
   "cell_type": "code",
   "execution_count": 21,
   "metadata": {},
   "outputs": [
    {
     "data": {
      "image/png": "[encoded data removed]",
      "text/plain": [
       "<Figure size 864x576 with 1 Axes>"
      ]
     },
     "metadata": {
      "needs_background": "light"
     },
     "output_type": "display_data"
    }
   ],
   "source": [
    "plt.figure(figsize=(12,8))\n",
    "plt.hist(algo_rewards['NF'], label='Next Fit')\n",
    "plt.axvline(algo_rewards['NF'].mean(), label='NF Mean')\n",
    "plt.hist(algo_rewards['FF'], label='First Fit')\n",
    "plt.axvline(algo_rewards['FF'].mean(), label='FF Mean')\n",
    "plt.legend()\n",
    "plt.show()"
   ]
  },
  {
   "cell_type": "markdown",
   "metadata": {},
   "source": [
    "## MIP for VM Packing"
   ]
  },
  {
   "cell_type": "code",
   "execution_count": 3,
   "metadata": {},
   "outputs": [],
   "source": [
    "from pyomo.environ import *\n",
    "from pyomo.opt import SolverFactory"
   ]
  },
  {
   "cell_type": "code",
   "execution_count": 167,
   "metadata": {},
   "outputs": [
    {
     "name": "stdout",
     "output_type": "stream",
     "text": [
      "[[3 0 0]\n",
      " [5 1 1]\n",
      " [4 2 2]\n",
      " [4 3 3]\n",
      " [0 4 4]]\n",
      "Step Count Reached\n",
      "-19.197556659524352 5 4\n",
      "-23.197556659524352\n"
     ]
    }
   ],
   "source": [
    "env.step_limit = 5\n",
    "env.n_pms = 10\n",
    "env.reset()\n",
    "m = ConcreteModel()\n",
    "\n",
    "m.n = Set(initialize=[i for i in range(env.n_pms)]) # Num Physical Machines\n",
    "m.v = Set(initialize=[i for i in range(env.step_limit)]) # Num Virtual Machines\n",
    "m.t = Set(initialize=[i for i in range(env.step_limit)])\n",
    "m.cpu_demand = Param(m.t,\n",
    "    initialize={i: j[0] for i, j in enumerate(env.demand)})\n",
    "m.mem_demand = Param(m.t,\n",
    "    initialize={i: j[1] for i, j in enumerate(env.demand)})\n",
    "m.durations = Param(m.v,\n",
    "    initialize={i: env.step_limit - i for i in range(env.step_limit)})\n",
    "min_demand = min(m.mem_demand[t] for t in m.t)\n",
    "m.cpu_limit = env.cpu_capacity\n",
    "m.mem_limit = env.mem_capacity\n",
    "m.x = Var(m.n, m.v, m.t, within=Binary) # Assign VM's to machines\n",
    "\n",
    "@m.Constraint(m.n, m.t)\n",
    "def cpu_constraint(m, n, t):\n",
    "    return sum(m.x[n, v, t] * m.cpu_demand[v] \n",
    "               for v in m.v) - m.cpu_limit <= 0\n",
    "\n",
    "@m.Constraint(m.n, m.t)\n",
    "def mem_constraint(m, n, t):\n",
    "    return sum(m.x[n, v, t] * m.mem_demand[v]\n",
    "               for v in m.v) - m.mem_limit <= 0\n",
    "\n",
    "@m.Constraint(m.v)\n",
    "def duration_constraint(m, v):\n",
    "    return sum(m.x[n, v, t] for n in m.n for t in m.t) == m.durations[v]\n",
    "\n",
    "@m.Constraint(m.v, m.t)\n",
    "def assignment_constraint(m, v, t):\n",
    "    if t >= v:\n",
    "        return sum(m.x[n, v, t] for n in m.n) <= 1\n",
    "    else:\n",
    "        return sum(m.x[n, v, t] for n in m.n) == 0\n",
    "\n",
    "# @m.Constraint(m.v, m.t)\n",
    "# def assignment_constraint(m, v, t):\n",
    "#     if v >= t:\n",
    "#         return sum(m.x[n, v, t] * m.cpu_demand[v]\n",
    "#                    for n in m.n) >= min_demand\n",
    "#     else:\n",
    "#         return Constraint.NoConstraint\n",
    "\n",
    "# Maximize PM Packing\n",
    "m.obj = Objective(expr=(\n",
    "    sum(m.x[n, v, t] * (m.cpu_demand[v] - 1 + m.mem_demand[v] - 1)\n",
    "        for v in m.v\n",
    "        for n in m.n \n",
    "        for t in m.t)),\n",
    "    sense=maximize)\n",
    "\n",
    "solver = SolverFactory('gurobi')\n",
    "results = solver.solve(m)\n",
    "\n",
    "plan = []\n",
    "for v in m.v:\n",
    "    for t in m.t:\n",
    "        if v == t:\n",
    "            for n in m.n:\n",
    "                if m.x[n, v, t].value is None:\n",
    "                    continue\n",
    "                if m.x[n, v, t].value > 0:\n",
    "                    plan.append([n, v, t])\n",
    "\n",
    "plan = np.vstack(plan)\n",
    "print(plan)\n",
    "rewards = []\n",
    "actions = []\n",
    "done = False\n",
    "for a in plan:\n",
    "    t = a[1]\n",
    "    action = a[0]\n",
    "    state, r, done, _ = env.step(action)\n",
    "    actions.append(action)\n",
    "    rewards.append(r)\n",
    "    if done:\n",
    "        print(sum(rewards), len(rewards), t)\n",
    "        \n",
    "print(m.obj.expr())"
   ]
  },
  {
   "cell_type": "code",
   "execution_count": 168,
   "metadata": {},
   "outputs": [
    {
     "data": {
      "text/plain": [
       "[((0, 4, 4), 1.0),\n",
       " ((2, 2, 4), 1.0),\n",
       " ((3, 0, 0), 1.0),\n",
       " ((3, 0, 3), 1.0),\n",
       " ((3, 0, 4), 1.0),\n",
       " ((3, 3, 4), 1.0),\n",
       " ((4, 0, 1), 1.0),\n",
       " ((4, 0, 2), 1.0),\n",
       " ((4, 2, 2), 1.0),\n",
       " ((4, 3, 3), 1.0),\n",
       " ((5, 1, 1), 1.0),\n",
       " ((6, 1, 2), 1.0),\n",
       " ((6, 1, 3), 1.0),\n",
       " ((6, 1, 4), 1.0),\n",
       " ((7, 2, 3), 1.0)]"
      ]
     },
     "execution_count": 168,
     "metadata": {},
     "output_type": "execute_result"
    }
   ],
   "source": [
    "[(i, m.x[i].value) for i in m.x if m.x[i].value > 0]"
   ]
  },
  {
   "cell_type": "code",
   "execution_count": 169,
   "metadata": {},
   "outputs": [
    {
     "name": "stdout",
     "output_type": "stream",
     "text": [
      "[3]\n",
      "Order 0 appears 5 times\n",
      "[4 5]\n",
      "Order 1 appears 4 times\n",
      "[4 4 6]\n",
      "Order 2 appears 3 times\n",
      "[3 4 6 7]\n",
      "Order 3 appears 2 times\n",
      "[0 2 3 3 6]\n",
      "Order 4 appears 1 times\n"
     ]
    }
   ],
   "source": [
    "assignments = np.array([i for i in m.x if m.x[i].value > 0])\n",
    "for i in range(env.step_limit):\n",
    "    machines = assignments[np.where(assignments[:, 2]==i)[0], 0]\n",
    "    print(machines)\n",
    "    print(\"Order {} appears {} times\".format(i, len(np.where(assignments[:, 1]==i)[0])))"
   ]
  },
  {
   "cell_type": "code",
   "execution_count": 139,
   "metadata": {},
   "outputs": [
    {
     "data": {
      "image/png": "[encoded data removed]",
      "text/plain": [
       "<Figure size 432x288 with 1 Axes>"
      ]
     },
     "metadata": {
      "needs_background": "light"
     },
     "output_type": "display_data"
    }
   ],
   "source": [
    "colors = plt.rcParams['axes.prop_cycle'].by_key()['color']\n",
    "plt.figure()\n",
    "for idx in m.x:\n",
    "    if m.x[idx].value > 0:\n",
    "        start = idx[-1] - 1\n",
    "        plt.barh(idx[-1], idx[0], color=colors[idx[0]])\n",
    "        \n",
    "plt.show()"
   ]
  },
  {
   "cell_type": "code",
   "execution_count": null,
   "metadata": {},
   "outputs": [],
   "source": []
  },
  {
   "cell_type": "code",
   "execution_count": null,
   "metadata": {},
   "outputs": [],
   "source": []
  },
  {
   "cell_type": "code",
   "execution_count": null,
   "metadata": {},
   "outputs": [],
   "source": []
  },
  {
   "cell_type": "code",
   "execution_count": 98,
   "metadata": {},
   "outputs": [],
   "source": [
    "plan = []\n",
    "for v in m.v:\n",
    "    for t in m.t:     \n",
    "        for n in m.n:\n",
    "            if m.x[n, v, t].value is None:\n",
    "                continue\n",
    "            if m.x[n, v, t].value > 0:\n",
    "                plan.append([n, v, t])"
   ]
  },
  {
   "cell_type": "code",
   "execution_count": 99,
   "metadata": {},
   "outputs": [
    {
     "data": {
      "text/plain": [
       "[[3, 0, 0],\n",
       " [6, 1, 0],\n",
       " [5, 1, 1],\n",
       " [4, 2, 0],\n",
       " [3, 2, 1],\n",
       " [1, 2, 2],\n",
       " [4, 3, 0],\n",
       " [1, 3, 1],\n",
       " [1, 3, 2],\n",
       " [0, 3, 3],\n",
       " [8, 4, 0],\n",
       " [0, 4, 1],\n",
       " [1, 4, 2],\n",
       " [0, 4, 3],\n",
       " [8, 4, 4]]"
      ]
     },
     "execution_count": 99,
     "metadata": {},
     "output_type": "execute_result"
    }
   ],
   "source": [
    "plan"
   ]
  },
  {
   "cell_type": "code",
   "execution_count": 103,
   "metadata": {},
   "outputs": [
    {
     "data": {
      "text/plain": [
       "3"
      ]
     },
     "execution_count": 103,
     "metadata": {},
     "output_type": "execute_result"
    }
   ],
   "source": [
    "actions[0]"
   ]
  },
  {
   "cell_type": "code",
   "execution_count": 163,
   "metadata": {},
   "outputs": [
    {
     "data": {
      "text/plain": [
       "-26.36948236701787"
      ]
     },
     "execution_count": 163,
     "metadata": {},
     "output_type": "execute_result"
    }
   ],
   "source": [
    "rew = np.array([m.x[n, v, t].value * (m.cpu_demand[v] - 1 + m.mem_demand[v] - 1) \n",
    "                for v in m.v \n",
    "                for n in m.n \n",
    "                for t in m.t])\n",
    "rew[rew!=0].sum()"
   ]
  },
  {
   "cell_type": "code",
   "execution_count": 164,
   "metadata": {},
   "outputs": [
    {
     "data": {
      "text/plain": [
       "array([[-1.7336037 , -1.7336037 , -1.7336037 ],\n",
       "       [-1.7336037 , -1.7336037 , -1.78565987],\n",
       "       [-1.78565987, -1.78565987, -1.78565987],\n",
       "       [-1.80829644, -1.80829644, -1.80829644],\n",
       "       [-1.71697862, -1.71697862, -1.69997781]])"
      ]
     },
     "execution_count": 164,
     "metadata": {},
     "output_type": "execute_result"
    }
   ],
   "source": [
    "x = rew[rew!=0].reshape(5, -1)\n",
    "x"
   ]
  },
  {
   "cell_type": "code",
   "execution_count": 94,
   "metadata": {},
   "outputs": [
    {
     "data": {
      "text/plain": [
       "[-1.7806397024632699,\n",
       " -3.1575812919159496,\n",
       " -4.524839913032137,\n",
       " -5.902852423667337,\n",
       " -7.719032509277843]"
      ]
     },
     "execution_count": 94,
     "metadata": {},
     "output_type": "execute_result"
    }
   ],
   "source": [
    "rewards"
   ]
  },
  {
   "cell_type": "code",
   "execution_count": null,
   "metadata": {},
   "outputs": [],
   "source": [
    "env.step_limit = 5\n",
    "env.n_pms = 10\n",
    "env.reset()\n",
    "m = ConcreteModel()\n",
    "\n",
    "m.n = Set(initialize=[i for i in range(env.n_pms)]) # Num Physical Machines\n",
    "m.v = Set(initialize=[i for i in range(env.step_limit)]) # Num Virtual Machines\n",
    "m.t = Set(initialize=[i for i in range(env.step_limit)])\n",
    "m.cpu_demand = Param(m.t,\n",
    "    initialize={i: j[0] for i, j in enumerate(env.demand)})\n",
    "m.mem_demand = Param(m.t,\n",
    "    initialize={i: j[1] for i, j in enumerate(env.demand)})\n",
    "m.durations = Param(m.v,\n",
    "    initialize={i: env.step_limit - i for i in range(env.step_limit)})\n",
    "min_demand = min(m.mem_demand[t] for t in m.t)\n",
    "m.cpu_limit = env.cpu_capacity\n",
    "m.mem_limit = env.mem_capacity\n",
    "m.x = Var(m.n, m.v, within=Binary) # Assign VM's to machines\n",
    "m.y = Var(m.n, m.t, within=Binary) # Assign times to machines\n",
    "\n",
    "@m.Constraint(m.n)\n",
    "def cpu_constraint(m, n):\n",
    "    return sum(m.x[n, v] * m.cpu_demand[v] \n",
    "               for v in m.v) - m.cpu_limit <= 0\n",
    "\n",
    "@m.Constraint(m.n)\n",
    "def mem_constraint(m, n):\n",
    "    return sum(m.x[n, v] * m.mem_demand[v]\n",
    "               for v in m.v for t in m.t) - m.mem_limit <= 0\n",
    "\n",
    "@m.Constraint(m.n, m.v)\n",
    "def duration_constraint(m, n, v):\n",
    "    return sum(m.x[n, v, t] for t in m.t) == m.durations[v]\n",
    "\n",
    "@m.Constraint()\n",
    "def time_constraint(m):\n",
    "    return sum(m.x[n, v, t])\n",
    "# @m.Constraint(m.v, m.t)\n",
    "# def assignment_constraint(m, v, t):\n",
    "#     if v >= t:\n",
    "#         return sum(m.x[n, v, t] * m.cpu_demand[v]\n",
    "#                    for n in m.n) >= min_demand\n",
    "#     else:\n",
    "#         return Constraint.NoConstraint\n",
    "\n",
    "# Maximize PM Packing\n",
    "m.obj = Objective(expr=(\n",
    "    sum(m.x[n, v, t] * (m.cpu_demand[v] - 1 + m.mem_demand[v] - 1)\n",
    "        for v in m.v\n",
    "        for n in m.n \n",
    "        for t in m.t)),\n",
    "    sense=maximize)\n",
    "\n",
    "solver = SolverFactory('gurobi')\n",
    "results = solver.solve(m)\n",
    "\n",
    "plan = []\n",
    "for v in m.v:\n",
    "    for t in m.t:\n",
    "        if v == t:\n",
    "            for n in m.n:\n",
    "                if m.x[n, v, t].value is None:\n",
    "                    continue\n",
    "                if m.x[n, v, t].value > 0:\n",
    "                    plan.append([n, v, t])\n",
    "\n",
    "plan = np.vstack(plan)\n",
    "rewards = []\n",
    "actions = []\n",
    "done = False\n",
    "for a in plan:\n",
    "    t = a[1]\n",
    "    action = a[0]\n",
    "    state, r, done, _ = env.step(action)\n",
    "    actions.append(action)\n",
    "    rewards.append(r)\n",
    "    if done:\n",
    "        print(sum(rewards), len(rewards), t)\n",
    "        break"
   ]
  },
  {
   "cell_type": "markdown",
   "metadata": {},
   "source": [
    "$$\\textrm{max}\\; \\sum_n \\sum_v \\sum_t x_{nvt} (D^c_v + D^m_v - 2)$$\n",
    "\n",
    "$$\\textrm{s.t.} \\;$$"
   ]
  },
  {
   "cell_type": "code",
   "execution_count": null,
   "metadata": {},
   "outputs": [],
   "source": []
  }
 ],
 "metadata": {
  "kernelspec": {
   "display_name": "Python 3",
   "language": "python",
   "name": "python3"
  },
  "language_info": {
   "codemirror_mode": {
    "name": "ipython",
    "version": 3
   },
   "file_extension": ".py",
   "mimetype": "text/x-python",
   "name": "python",
   "nbconvert_exporter": "python",
   "pygments_lexer": "ipython3",
   "version": "3.6.10"
  }
 },
 "nbformat": 4,
 "nbformat_minor": 4
}
