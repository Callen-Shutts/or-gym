{
 "cells": [
  {
   "cell_type": "code",
   "execution_count": 7,
   "metadata": {},
   "outputs": [],
   "source": [
    "import numpy as np\n",
    "import or_gym\n",
    "from or_gym.algos.knapsack.heuristics import *\n",
    "from or_gym.algos.knapsack.math_prog import *\n",
    "from or_gym.algos.math_prog_utils import *\n",
    "import matplotlib.pyplot as plt\n",
    "import pandas as pd\n",
    "import time\n",
    "%matplotlib inline"
   ]
  },
  {
   "cell_type": "markdown",
   "metadata": {},
   "source": [
    "# Instantiate Unbounded Knapsack Model\n",
    "\n",
    "Baseline model generates weights as random integers from $[1, 20]$ and values from $[0, 30]$."
   ]
  },
  {
   "cell_type": "code",
   "execution_count": 2,
   "metadata": {},
   "outputs": [],
   "source": [
    "env = or_gym.make('Knapsack-v0')"
   ]
  },
  {
   "cell_type": "markdown",
   "metadata": {},
   "source": [
    "#### IP Model"
   ]
  },
  {
   "cell_type": "code",
   "execution_count": 3,
   "metadata": {},
   "outputs": [
    {
     "name": "stdout",
     "output_type": "stream",
     "text": [
      "IP Objective: 1151.00\n",
      "x_i = 1_3\n",
      "x_i = 1_6\n",
      "x_i = 1_7\n",
      "x_i = 1_10\n",
      "x_i = 1_18\n",
      "x_i = 1_19\n",
      "x_i = 1_20\n",
      "x_i = 1_21\n",
      "x_i = 1_22\n",
      "x_i = 1_23\n",
      "x_i = 1_24\n",
      "x_i = 1_26\n",
      "x_i = 1_32\n",
      "x_i = 1_34\n",
      "x_i = 1_35\n",
      "x_i = 1_38\n",
      "x_i = 1_40\n",
      "x_i = 1_43\n",
      "x_i = 1_48\n",
      "x_i = 1_50\n",
      "x_i = 1_56\n",
      "x_i = 1_60\n",
      "x_i = 1_62\n",
      "x_i = 1_63\n",
      "x_i = 1_64\n",
      "x_i = 1_66\n",
      "x_i = 1_70\n",
      "x_i = 1_73\n",
      "x_i = 1_89\n",
      "x_i = 1_90\n",
      "x_i = 1_95\n",
      "x_i = 1_97\n",
      "x_i = 1_98\n",
      "x_i = 1_102\n",
      "x_i = 1_111\n",
      "x_i = 1_118\n",
      "x_i = 1_121\n",
      "x_i = 1_122\n",
      "x_i = 1_125\n",
      "x_i = 1_128\n",
      "x_i = 1_129\n",
      "x_i = 1_130\n",
      "x_i = 1_131\n",
      "x_i = 1_132\n",
      "x_i = 1_136\n",
      "x_i = 1_139\n",
      "x_i = 1_143\n",
      "x_i = 1_147\n",
      "x_i = 1_157\n",
      "x_i = 1_164\n",
      "x_i = 1_174\n",
      "x_i = 1_176\n",
      "x_i = 1_177\n",
      "x_i = 1_180\n",
      "x_i = 1_185\n",
      "x_i = 1_187\n",
      "x_i = 1_188\n",
      "x_i = 1_189\n"
     ]
    }
   ],
   "source": [
    "model = build_ukp_ip_model(env)\n",
    "model, results = solve_math_program(model)\n",
    "\n",
    "print(\"IP Objective: {:.2f}\".format(model.obj.expr()))\n",
    "_ = [print(\"x_i = {:.0f}_{}\".format(model.x[x].value, i)) \n",
    "     for i, x in enumerate(model.x) if model.x[x].value != 0]"
   ]
  },
  {
   "cell_type": "code",
   "execution_count": 4,
   "metadata": {},
   "outputs": [
    {
     "name": "stdout",
     "output_type": "stream",
     "text": [
      "Heuristic Objective: 5600.00\n",
      "x_i = 200_188\n"
     ]
    }
   ],
   "source": [
    "heur_actions, heur_rewards = ukp_heuristic(env)\n",
    "x_h = np.unique(heur_actions)\n",
    "i_h = len(heur_actions)\n",
    "print(\"Heuristic Objective: {:.2f}\".format(sum(heur_rewards)))\n",
    "print(\"x_i = {}_{}\".format(i_h, x_h[0]))"
   ]
  },
  {
   "cell_type": "code",
   "execution_count": 5,
   "metadata": {},
   "outputs": [],
   "source": [
    "# Get data from Beasley\n",
    "url = 'http://people.brunel.ac.uk/~mastjjb/jeb/orlib/files/mdmkp_ct9.txt'\n",
    "data = pd.read_csv(url)"
   ]
  },
  {
   "cell_type": "code",
   "execution_count": 6,
   "metadata": {},
   "outputs": [
    {
     "data": {
      "text/html": [
       "<div>\n",
       "<style scoped>\n",
       "    .dataframe tbody tr th:only-of-type {\n",
       "        vertical-align: middle;\n",
       "    }\n",
       "\n",
       "    .dataframe tbody tr th {\n",
       "        vertical-align: top;\n",
       "    }\n",
       "\n",
       "    .dataframe thead th {\n",
       "        text-align: right;\n",
       "    }\n",
       "</style>\n",
       "<table border=\"1\" class=\"dataframe\">\n",
       "  <thead>\n",
       "    <tr style=\"text-align: right;\">\n",
       "      <th></th>\n",
       "      <th>15</th>\n",
       "    </tr>\n",
       "  </thead>\n",
       "  <tbody>\n",
       "    <tr>\n",
       "      <th>0</th>\n",
       "      <td>500 30</td>\n",
       "    </tr>\n",
       "    <tr>\n",
       "      <th>1</th>\n",
       "      <td>462 691 941 638 63 1000 39 84 520 425 982 642 ...</td>\n",
       "    </tr>\n",
       "    <tr>\n",
       "      <th>2</th>\n",
       "      <td>531 845 506 64 211 464 387 76 451 913 651 503 ...</td>\n",
       "    </tr>\n",
       "    <tr>\n",
       "      <th>3</th>\n",
       "      <td>729 702 263 408 480 453 392 737 75 557 818 858...</td>\n",
       "    </tr>\n",
       "    <tr>\n",
       "      <th>4</th>\n",
       "      <td>170 367 460 355 250 401 323 643 375 26 882 368...</td>\n",
       "    </tr>\n",
       "    <tr>\n",
       "      <th>...</th>\n",
       "      <td>...</td>\n",
       "    </tr>\n",
       "    <tr>\n",
       "      <th>1030</th>\n",
       "      <td>720 567 853 253 578 595 465 711 558 459 787 34...</td>\n",
       "    </tr>\n",
       "    <tr>\n",
       "      <th>1031</th>\n",
       "      <td>366 646 444 603 514 169 521 345 458 370 672 57...</td>\n",
       "    </tr>\n",
       "    <tr>\n",
       "      <th>1032</th>\n",
       "      <td>357 718 657 173 284 681 -426 494 315 282 82 12...</td>\n",
       "    </tr>\n",
       "    <tr>\n",
       "      <th>1033</th>\n",
       "      <td>-83 417 620 -59 -143 -67 -100 481 223 -115 374...</td>\n",
       "    </tr>\n",
       "    <tr>\n",
       "      <th>1034</th>\n",
       "      <td>283 -225 -9 -256 514 -213 502 -106 -97 -251 30...</td>\n",
       "    </tr>\n",
       "  </tbody>\n",
       "</table>\n",
       "<p>1035 rows × 1 columns</p>\n",
       "</div>"
      ],
      "text/plain": [
       "                                                     15\n",
       "0                                               500 30 \n",
       "1     462 691 941 638 63 1000 39 84 520 425 982 642 ...\n",
       "2     531 845 506 64 211 464 387 76 451 913 651 503 ...\n",
       "3     729 702 263 408 480 453 392 737 75 557 818 858...\n",
       "4     170 367 460 355 250 401 323 643 375 26 882 368...\n",
       "...                                                 ...\n",
       "1030  720 567 853 253 578 595 465 711 558 459 787 34...\n",
       "1031  366 646 444 603 514 169 521 345 458 370 672 57...\n",
       "1032  357 718 657 173 284 681 -426 494 315 282 82 12...\n",
       "1033  -83 417 620 -59 -143 -67 -100 481 223 -115 374...\n",
       "1034  283 -225 -9 -256 514 -213 502 -106 -97 -251 30...\n",
       "\n",
       "[1035 rows x 1 columns]"
      ]
     },
     "execution_count": 6,
     "metadata": {},
     "output_type": "execute_result"
    }
   ],
   "source": [
    "data"
   ]
  },
  {
   "cell_type": "code",
   "execution_count": 9,
   "metadata": {},
   "outputs": [
    {
     "data": {
      "text/plain": [
       "array([  0,   1,   2,   3,   4,   5,   6,   7,   8,   9,  10,  11,  12,\n",
       "        13,  14,  15,  16,  17,  18,  19,  20,  21,  22,  23,  24,  25,\n",
       "        26,  27,  28,  29,  30,  31,  32,  33,  34,  35,  36,  37,  38,\n",
       "        39,  40,  41,  42,  43,  44,  45,  46,  47,  48,  49,  50,  51,\n",
       "        52,  53,  54,  55,  56,  57,  58,  59,  60,  61,  62,  63,  64,\n",
       "        65,  66,  67,  68,  69,  70,  71,  72,  73,  74,  75,  76,  77,\n",
       "        78,  79,  80,  81,  82,  83,  84,  85,  86,  87,  88,  89,  90,\n",
       "        91,  92,  93,  94,  95,  96,  97,  98,  99, 100, 101, 102, 103,\n",
       "       104, 105, 106, 107, 108, 109, 110, 111, 112, 113, 114, 115, 116,\n",
       "       117, 118, 119, 120, 121, 122, 123, 124, 125, 126, 127, 128, 129,\n",
       "       130, 131, 132, 133, 134, 135, 136, 137, 138, 139, 140, 141, 142,\n",
       "       143, 144, 145, 146, 147, 148, 149, 150, 151, 152, 153, 154, 155,\n",
       "       156, 157, 158, 159, 160, 161, 162, 163, 164, 165, 166, 167, 168,\n",
       "       169, 170, 171, 172, 173, 174, 175, 176, 177, 178, 179, 180, 181,\n",
       "       182, 183, 184, 185, 186, 187, 188, 189, 190, 191, 192, 193, 194,\n",
       "       195, 196, 197, 198, 199])"
      ]
     },
     "execution_count": 9,
     "metadata": {},
     "output_type": "execute_result"
    }
   ],
   "source": [
    "env.item_numbers"
   ]
  },
  {
   "cell_type": "code",
   "execution_count": 43,
   "metadata": {},
   "outputs": [
    {
     "name": "stdout",
     "output_type": "stream",
     "text": [
      "100 parameters found in 4.3 seconds.\n",
      "200 parameters found in 8.9 seconds.\n",
      "300 parameters found in 13.8 seconds.\n",
      "400 parameters found in 18.6 seconds.\n",
      "500 parameters found in 23.6 seconds.\n",
      "600 parameters found in 28.2 seconds.\n",
      "700 parameters found in 32.6 seconds.\n",
      "800 parameters found in 36.9 seconds.\n",
      "900 parameters found in 41.5 seconds.\n",
      "1000 parameters found in 45.7 seconds.\n",
      "1100 parameters found in 50.8 seconds.\n",
      "1200 parameters found in 55.4 seconds.\n",
      "1300 parameters found in 60.0 seconds.\n",
      "1400 parameters found in 65.0 seconds.\n",
      "1500 parameters found in 69.3 seconds.\n",
      "1600 parameters found in 74.2 seconds.\n",
      "1700 parameters found in 79.5 seconds.\n",
      "1800 parameters found in 85.3 seconds.\n",
      "1900 parameters found in 90.2 seconds.\n",
      "2000 parameters found in 95.1 seconds.\n",
      "2100 parameters found in 99.8 seconds.\n",
      "2200 parameters found in 104.7 seconds.\n",
      "2300 parameters found in 110.6 seconds.\n",
      "2400 parameters found in 115.1 seconds.\n",
      "2500 parameters found in 120.2 seconds.\n",
      "2600 parameters found in 125.4 seconds.\n",
      "2700 parameters found in 130.5 seconds.\n",
      "2800 parameters found in 135.4 seconds.\n",
      "2900 parameters found in 140.6 seconds.\n",
      "3000 parameters found in 146.8 seconds.\n",
      "3100 parameters found in 151.9 seconds.\n",
      "3200 parameters found in 156.8 seconds.\n",
      "3300 parameters found in 161.6 seconds.\n",
      "3400 parameters found in 166.6 seconds.\n",
      "3500 parameters found in 172.6 seconds.\n",
      "3600 parameters found in 177.2 seconds.\n",
      "3700 parameters found in 182.3 seconds.\n",
      "3800 parameters found in 187.4 seconds.\n",
      "3900 parameters found in 192.3 seconds.\n",
      "4000 parameters found in 197.6 seconds.\n",
      "4100 parameters found in 202.8 seconds.\n",
      "4200 parameters found in 207.6 seconds.\n",
      "4300 parameters found in 212.6 seconds.\n",
      "4400 parameters found in 217.8 seconds.\n",
      "4500 parameters found in 222.5 seconds.\n",
      "4600 parameters found in 227.2 seconds.\n",
      "4700 parameters found in 231.8 seconds.\n",
      "4800 parameters found in 236.2 seconds.\n",
      "4900 parameters found in 240.8 seconds.\n",
      "5000 parameters found in 245.5 seconds.\n"
     ]
    }
   ],
   "source": [
    "weights, values, total_rewards = [], [], []\n",
    "env = or_gym.make('Knapsack-v1')\n",
    "count = 0\n",
    "samples = 0\n",
    "t0 = time.time()\n",
    "while len(weights) < 5000:\n",
    "    env.item_values = np.random.randint(0, 100, env.N)\n",
    "    env.item_weights = np.random.randint(1, 100, env.N)\n",
    "    env.item_limits_init = np.ones(env.N)\n",
    "    env.reset()\n",
    "    # Solve IP\n",
    "    model = build_ukp_ip_model(env)\n",
    "    model, results = solve_math_program(model)\n",
    "    # Solve with Heuristic\n",
    "    heur_actions, heur_rewards = bkp_heuristic(env)\n",
    "    \n",
    "    tot_h_rewards = sum(heur_rewards)\n",
    "    samples += 1\n",
    "    if tot_h_rewards != model.obj.expr():\n",
    "        weights.append(env.item_weights.copy())\n",
    "        values.append(env.item_values.copy())\n",
    "        total_rewards.append((model.obj.expr(), tot_h_rewards))\n",
    "        count += 1\n",
    "        if count % 100 == 0 and count > 0:\n",
    "            print(\"{} parameters found in {:.1f} seconds.\".format(count, time.time() - t0))"
   ]
  },
  {
   "cell_type": "code",
   "execution_count": 44,
   "metadata": {},
   "outputs": [
    {
     "name": "stdout",
     "output_type": "stream",
     "text": [
      "Max diff = 3.59%, sample_n = 4166\n",
      "Non-optimal rate: 64.33%\n"
     ]
    }
   ],
   "source": [
    "r = np.vstack(total_rewards).T\n",
    "assert sum(r[0]>r[1]) == count\n",
    "m = (r[0] - r[1]).argmax()\n",
    "print(\"Max diff = {:.2f}%, sample_n = {}\".format((1 - r[1, m]/r[0, m])*100, m))\n",
    "print(\"Non-optimal rate: {:.2f}%\".format(count/samples*100))"
   ]
  },
  {
   "cell_type": "code",
   "execution_count": 46,
   "metadata": {},
   "outputs": [
    {
     "data": {
      "text/plain": [
       "array([18, 64, 79, 30, 79, 33, 69, 87, 17, 56, 95,  5, 88, 39, 18, 80, 59,\n",
       "        9, 71, 80, 85, 44, 78, 88,  2, 40, 96, 99, 18, 99, 56, 64, 49, 90,\n",
       "       18, 52, 44, 57, 60, 33,  3, 22, 14, 74, 11,  2, 23,  8, 90, 17, 44,\n",
       "        0, 29, 80, 50,  9, 28, 19, 15, 32, 82, 98, 91, 41, 73, 35, 69,  3,\n",
       "       80,  0, 35, 97, 26, 66, 47,  0, 21, 27, 66, 91, 54, 73, 79, 86, 63,\n",
       "        3, 35, 60, 68, 33, 84, 40, 84, 46, 39, 15, 21, 98, 93, 92, 46, 49,\n",
       "       26, 90, 44, 89, 34, 13, 52, 56, 24, 18, 77, 46, 98, 67, 66, 74, 40,\n",
       "        5, 44, 49, 61, 54, 89, 87, 75, 58, 51, 22, 41, 54, 50, 93,  1, 17,\n",
       "       93, 21, 52, 99, 94, 57, 90, 49, 58, 41, 16, 54, 60, 70, 71, 34, 37,\n",
       "       43, 77, 89, 20, 40, 82, 17, 26, 92, 72, 44, 37,  2, 14, 45, 46, 31,\n",
       "       18, 73, 28, 62, 33, 40, 18, 72, 13, 26, 44, 69, 47, 71, 65, 54, 71,\n",
       "       92, 29, 96, 71, 72, 51, 82, 95, 87, 73, 79, 37, 51])"
      ]
     },
     "execution_count": 46,
     "metadata": {},
     "output_type": "execute_result"
    }
   ],
   "source": [
    "values[m]"
   ]
  },
  {
   "cell_type": "code",
   "execution_count": null,
   "metadata": {},
   "outputs": [
    {
     "name": "stdout",
     "output_type": "stream",
     "text": [
      "100 parameters found in 6.9 seconds.\n",
      "200 parameters found in 13.5 seconds.\n",
      "300 parameters found in 20.4 seconds.\n",
      "400 parameters found in 27.4 seconds.\n",
      "500 parameters found in 34.5 seconds.\n",
      "600 parameters found in 42.2 seconds.\n",
      "700 parameters found in 49.0 seconds.\n",
      "800 parameters found in 55.3 seconds.\n",
      "900 parameters found in 62.5 seconds.\n",
      "1000 parameters found in 70.9 seconds.\n",
      "1100 parameters found in 78.6 seconds.\n",
      "1200 parameters found in 86.3 seconds.\n",
      "1300 parameters found in 92.8 seconds.\n",
      "1400 parameters found in 100.1 seconds.\n",
      "1500 parameters found in 106.9 seconds.\n",
      "1600 parameters found in 114.5 seconds.\n",
      "1700 parameters found in 121.8 seconds.\n",
      "1800 parameters found in 128.9 seconds.\n",
      "1900 parameters found in 136.0 seconds.\n",
      "2000 parameters found in 144.5 seconds.\n",
      "2100 parameters found in 151.2 seconds.\n",
      "2200 parameters found in 159.1 seconds.\n",
      "2300 parameters found in 166.6 seconds.\n",
      "2400 parameters found in 174.0 seconds.\n",
      "2500 parameters found in 181.4 seconds.\n",
      "2600 parameters found in 189.6 seconds.\n",
      "2700 parameters found in 198.0 seconds.\n",
      "2800 parameters found in 205.8 seconds.\n",
      "2900 parameters found in 213.3 seconds.\n",
      "3000 parameters found in 221.4 seconds.\n",
      "3100 parameters found in 228.5 seconds.\n",
      "3200 parameters found in 236.7 seconds.\n",
      "3300 parameters found in 244.3 seconds.\n",
      "3400 parameters found in 251.7 seconds.\n",
      "3500 parameters found in 258.8 seconds.\n",
      "3600 parameters found in 266.7 seconds.\n",
      "3700 parameters found in 275.2 seconds.\n",
      "3800 parameters found in 283.5 seconds.\n",
      "3900 parameters found in 292.2 seconds.\n",
      "4000 parameters found in 299.2 seconds.\n",
      "4100 parameters found in 308.3 seconds.\n",
      "4200 parameters found in 315.6 seconds.\n",
      "4300 parameters found in 322.4 seconds.\n"
     ]
    }
   ],
   "source": [
    "# BKP\n",
    "weights, values, limits, total_rewards = [], [], [], []\n",
    "env = or_gym.make('Knapsack-v1')\n",
    "count = 0\n",
    "samples = 0\n",
    "t0 = time.time()\n",
    "while len(weights) < 5000:\n",
    "    env.item_values = np.random.randint(0, 100, env.N)\n",
    "    env.item_weights = np.random.randint(1, 100, env.N)\n",
    "    env.item_limits_init = np.random.randint(0, 10, env.N)\n",
    "    env.reset()\n",
    "    # Solve IP\n",
    "    model = build_bkp_ip_model(env)\n",
    "    model, results = solve_math_program(model)\n",
    "    # Solve with Heuristic\n",
    "    heur_actions, heur_rewards = bkp_heuristic(env)\n",
    "    \n",
    "    tot_h_rewards = sum(heur_rewards)\n",
    "    samples += 1\n",
    "    if tot_h_rewards != model.obj.expr():\n",
    "        weights.append(env.item_weights.copy())\n",
    "        values.append(env.item_values.copy())\n",
    "        limits.append(env.item_limits_init.copy())\n",
    "        total_rewards.append((model.obj.expr(), tot_h_rewards))\n",
    "        count += 1\n",
    "        if count % 100 == 0 and count > 0:\n",
    "            print(\"{} parameters found in {:.1f} seconds.\".format(count, time.time() - t0))\n",
    "            \n",
    "r = np.vstack(total_rewards).T\n",
    "assert sum(r[0]>r[1]) == count\n",
    "m = (r[0] - r[1]).argmax()\n",
    "print(\"Max diff = {:.2f}%, sample_n = {}\".format((1 - r[1, m]/r[0, m])*100, m))\n",
    "print(\"Non-optimal rate: {:.2f}%\".format(count/samples*100))"
   ]
  },
  {
   "cell_type": "code",
   "execution_count": null,
   "metadata": {},
   "outputs": [],
   "source": [
    "weights[m]"
   ]
  },
  {
   "cell_type": "code",
   "execution_count": null,
   "metadata": {},
   "outputs": [],
   "source": [
    "values[m]"
   ]
  },
  {
   "cell_type": "code",
   "execution_count": null,
   "metadata": {},
   "outputs": [],
   "source": [
    "limits[m]"
   ]
  },
  {
   "cell_type": "code",
   "execution_count": null,
   "metadata": {},
   "outputs": [],
   "source": [
    "# UKP\n",
    "weights, values, total_rewards = [], [], []\n",
    "env = or_gym.make('Knapsack-v1')\n",
    "count = 0\n",
    "samples = 0\n",
    "t0 = time.time()\n",
    "while len(weights) < 5000:\n",
    "    env.item_values = np.random.randint(0, 100, env.N)\n",
    "    env.item_weights = np.random.randint(1, 100, env.N)\n",
    "    env.item_limits_init = np.random.randint(0, 10, env.N)\n",
    "    env.reset()\n",
    "    # Solve IP\n",
    "    model = build_bkp_ip_model(env)\n",
    "    model, results = solve_math_program(model)\n",
    "    # Solve with Heuristic\n",
    "    heur_actions, heur_rewards = bkp_heuristic(env)\n",
    "    \n",
    "    tot_h_rewards = sum(heur_rewards)\n",
    "    samples += 1\n",
    "    if tot_h_rewards != model.obj.expr():\n",
    "        weights.append(env.item_weights.copy())\n",
    "        values.append(env.item_values.copy())\n",
    "        total_rewards.append((model.obj.expr(), tot_h_rewards))\n",
    "        count += 1\n",
    "        if count % 100 == 0 and count > 0:\n",
    "            print(\"{} parameters found in {:.1f} seconds.\".format(count, time.time() - t0))\n",
    "            \n",
    "r = np.vstack(total_rewards).T\n",
    "assert sum(r[0]>r[1]) == count\n",
    "m = (r[0] - r[1]).argmax()\n",
    "print(\"Max diff = {:.2f}%, sample_n = {}\".format((1 - r[1, m]/r[0, m])*100, m))\n",
    "print(\"Non-optimal rate: {:.2f}%\".format(count/samples*100))"
   ]
  },
  {
   "cell_type": "code",
   "execution_count": 6,
   "metadata": {},
   "outputs": [
    {
     "name": "stdout",
     "output_type": "stream",
     "text": [
      "IP Objective: 1700.00\n",
      "x_i = 1_1\n",
      "x_i = 1_9\n",
      "x_i = 1_13\n",
      "x_i = 1_17\n",
      "x_i = 1_25\n",
      "x_i = 1_32\n",
      "x_i = 1_45\n",
      "x_i = 1_54\n",
      "x_i = 1_57\n",
      "x_i = 1_79\n",
      "x_i = 1_83\n",
      "x_i = 1_88\n",
      "x_i = 1_120\n",
      "x_i = 1_127\n",
      "x_i = 1_129\n",
      "x_i = 1_146\n",
      "x_i = 1_161\n",
      "x_i = 1_165\n",
      "x_i = 1_171\n",
      "x_i = 1_177\n",
      "x_i = 1_178\n",
      "x_i = 1_190\n",
      "x_i = 1_195\n",
      "x_i = 1_197\n",
      "\t\n",
      "Heuristic Objective: 1696.00\n",
      "x_i = 1_1\n",
      "x_i = 1_13\n",
      "x_i = 1_17\n",
      "x_i = 1_25\n",
      "x_i = 1_32\n",
      "x_i = 1_45\n",
      "x_i = 1_54\n",
      "x_i = 1_57\n",
      "x_i = 1_79\n",
      "x_i = 1_88\n",
      "x_i = 1_120\n",
      "x_i = 1_127\n",
      "x_i = 1_129\n",
      "x_i = 1_146\n",
      "x_i = 1_150\n",
      "x_i = 1_161\n",
      "x_i = 1_163\n",
      "x_i = 1_165\n",
      "x_i = 1_171\n",
      "x_i = 1_177\n",
      "x_i = 1_178\n",
      "x_i = 1_190\n",
      "x_i = 1_195\n",
      "x_i = 1_197\n",
      "199\n"
     ]
    }
   ],
   "source": [
    "# Try new settings for weights and values\n",
    "env = or_gym.make('Knapsack-v1')\n",
    "env.item_values = np.random.randint(0, 100, env.N)\n",
    "env.item_weights = np.random.randint(1, 100, env.N)\n",
    "# env.item_values = np.array([15, 100, 90, 60, 40, 15, 10, 1])\n",
    "# env.item_weights = np.array([2, 20, 20, 30, 40, 30, 60, 10])\n",
    "# env.N = len(env.item_values)\n",
    "# env.item_numbers = np.arange(env.N)\n",
    "# env.max_weight = 102\n",
    "env.item_limits_init = np.ones(env.N)\n",
    "env.reset()\n",
    "\n",
    "model = build_ukp_ip_model(env)\n",
    "model, results = solve_math_program(model)\n",
    "print(\"IP Objective: {:.2f}\".format(model.obj.expr()))\n",
    "_ = [print(\"x_i = {:.0f}_{}\".format(model.x[x].value, i))\n",
    "     for i, x in enumerate(model.x) if model.x[x].value != 0]\n",
    "print(\"\\t\")\n",
    "# Heuristic\n",
    "heur_actions, heur_rewards = bkp_heuristic(env)\n",
    "count = np.bincount(heur_actions)\n",
    "action_count = count[count!=0]\n",
    "actions = np.where(count!=0)\n",
    "print(\"Heuristic Objective: {:.2f}\".format(sum(heur_rewards)))\n",
    "_ = [print(\"x_i = {:.0f}_{}\".format(x, i))\n",
    "     for x, i in zip(action_count, actions[0])]\n",
    "\n",
    "print(env.current_weight)"
   ]
  },
  {
   "cell_type": "code",
   "execution_count": 27,
   "metadata": {},
   "outputs": [
    {
     "data": {
      "text/plain": [
       "array([0., 1., 1., 1., 1., 1., 1., 1.])"
      ]
     },
     "execution_count": 27,
     "metadata": {},
     "output_type": "execute_result"
    }
   ],
   "source": [
    "env.item_limits"
   ]
  },
  {
   "cell_type": "code",
   "execution_count": 11,
   "metadata": {},
   "outputs": [
    {
     "data": {
      "text/plain": [
       "[0, 0]"
      ]
     },
     "execution_count": 11,
     "metadata": {},
     "output_type": "execute_result"
    }
   ],
   "source": [
    "heur_actions"
   ]
  },
  {
   "cell_type": "code",
   "execution_count": 12,
   "metadata": {},
   "outputs": [
    {
     "data": {
      "text/plain": [
       "{'action_mask': array([1, 1, 1, 1, 1, 1, 1, 1]),\n",
       " 'avail_actions': array([1., 1., 1., 1., 1., 1., 1., 1.]),\n",
       " 'state': array([[  2.,  20.,  20.,  30.,  40.,  30.,  60.,  10., 102.],\n",
       "        [ 15., 100.,  90.,  60.,  40.,  15.,  10.,   1.,   0.],\n",
       "        [  1.,   1.,   1.,   1.,   1.,   1.,   1.,   1.,   0.]])}"
      ]
     },
     "execution_count": 12,
     "metadata": {},
     "output_type": "execute_result"
    }
   ],
   "source": [
    "env.reset()"
   ]
  },
  {
   "cell_type": "code",
   "execution_count": 22,
   "metadata": {},
   "outputs": [],
   "source": [
    "vw_ratio = env.item_values / env.item_weights\n",
    "vw_order = env.item_numbers[np.argsort(vw_ratio)[::-1]]\n",
    "actions, rewards = [], []\n",
    "done = False\n",
    "while not done:\n",
    "    max_item = vw_order[0]\n",
    "    cont_flag = False\n",
    "    if env.item_limits[max_item] == 0:\n",
    "        # Remove item from list\n",
    "        vw_order = vw_order[1:].copy()\n",
    "        cont_flag = True\n",
    "    elif env.item_weights[max_item] > (env.max_weight - env.current_weight):\n",
    "        # Remove item from list\n",
    "        vw_order = vw_order[1:].copy()\n",
    "        cont_flag = True\n",
    "    if len(vw_order) == 0:\n",
    "        # End episode\n",
    "        break\n",
    "    if cont_flag:\n",
    "        # Item doesn't fit or exist, start over\n",
    "        continue\n",
    "    state, reward, done, _ = env.step(max_item)\n",
    "    actions.append(max_item)\n",
    "    rewards.append(reward)"
   ]
  },
  {
   "cell_type": "code",
   "execution_count": 24,
   "metadata": {},
   "outputs": [
    {
     "data": {
      "text/plain": [
       "265"
      ]
     },
     "execution_count": 24,
     "metadata": {},
     "output_type": "execute_result"
    }
   ],
   "source": [
    "sum(rewards)"
   ]
  },
  {
   "cell_type": "code",
   "execution_count": 20,
   "metadata": {},
   "outputs": [
    {
     "data": {
      "text/plain": [
       "array([ 15, 100,  90,  60,  40,  15,  10,   1])"
      ]
     },
     "execution_count": 20,
     "metadata": {},
     "output_type": "execute_result"
    }
   ],
   "source": [
    "env.item_values"
   ]
  },
  {
   "cell_type": "code",
   "execution_count": 21,
   "metadata": {},
   "outputs": [
    {
     "data": {
      "text/plain": [
       "array([ 2, 20, 20, 30, 40, 30, 60, 10])"
      ]
     },
     "execution_count": 21,
     "metadata": {},
     "output_type": "execute_result"
    }
   ],
   "source": [
    "env.item_weights"
   ]
  },
  {
   "cell_type": "code",
   "execution_count": null,
   "metadata": {},
   "outputs": [],
   "source": []
  }
 ],
 "metadata": {
  "kernelspec": {
   "display_name": "Python 3",
   "language": "python",
   "name": "python3"
  },
  "language_info": {
   "codemirror_mode": {
    "name": "ipython",
    "version": 3
   },
   "file_extension": ".py",
   "mimetype": "text/x-python",
   "name": "python",
   "nbconvert_exporter": "python",
   "pygments_lexer": "ipython3",
   "version": "3.6.10"
  }
 },
 "nbformat": 4,
 "nbformat_minor": 4
}
