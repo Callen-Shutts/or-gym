{
 "cells": [
  {
   "cell_type": "code",
   "execution_count": 1,
   "metadata": {},
   "outputs": [],
   "source": [
    "import numpy as np\n",
    "import or_gym\n",
    "from or_gym.algos.knapsack.heuristics import *\n",
    "from or_gym.algos.knapsack.math_prog import *\n",
    "from or_gym.algos.math_prog_utils import *\n",
    "import matplotlib.pyplot as plt\n",
    "%matplotlib inline"
   ]
  },
  {
   "cell_type": "markdown",
   "metadata": {},
   "source": [
    "# Instantiate Unbounded Knapsack Model\n",
    "\n",
    "Baseline model generates weights as random integers from $[1, 20]$ and values from $[0, 30]$."
   ]
  },
  {
   "cell_type": "code",
   "execution_count": 39,
   "metadata": {},
   "outputs": [],
   "source": [
    "env = or_gym.make('Knapsack-v0')"
   ]
  },
  {
   "cell_type": "markdown",
   "metadata": {},
   "source": [
    "#### IP Model"
   ]
  },
  {
   "cell_type": "code",
   "execution_count": 40,
   "metadata": {},
   "outputs": [
    {
     "name": "stdout",
     "output_type": "stream",
     "text": [
      "IP Objective: 5600.00\n",
      "x_i = 200_188\n"
     ]
    }
   ],
   "source": [
    "model = build_ukp_ip_model(env)\n",
    "model, results = solve_math_program(model)\n",
    "\n",
    "print(\"IP Objective: {:.2f}\".format(model.obj.expr()))\n",
    "_ = [print(\"x_i = {:.0f}_{}\".format(model.x[x].value, i)) \n",
    "     for i, x in enumerate(model.x) if model.x[x].value != 0]"
   ]
  },
  {
   "cell_type": "code",
   "execution_count": 41,
   "metadata": {},
   "outputs": [
    {
     "name": "stdout",
     "output_type": "stream",
     "text": [
      "Heuristic Objective: 5600.00\n",
      "x_i = 200_188\n"
     ]
    }
   ],
   "source": [
    "heur_actions, heur_rewards = ukp_heuristic(env)\n",
    "x_h = np.unique(heur_actions)\n",
    "i_h = len(heur_actions)\n",
    "print(\"Heuristic Objective: {:.2f}\".format(sum(heur_rewards)))\n",
    "print(\"x_i = {}_{}\".format(i_h, x_h[0]))"
   ]
  },
  {
   "cell_type": "code",
   "execution_count": 42,
   "metadata": {},
   "outputs": [],
   "source": []
  },
  {
   "cell_type": "code",
   "execution_count": 69,
   "metadata": {},
   "outputs": [
    {
     "name": "stdout",
     "output_type": "stream",
     "text": [
      "IP Objective: 1279.16\n",
      "x_i = 1_44\n",
      "x_i = 1_68\n",
      "x_i = 2032_71\n",
      "\t\n",
      "Heuristic Objective: 1279.09\n",
      "x_i = 1_44\n",
      "x_i = 2033_71\n",
      "19.995972355098996\n"
     ]
    }
   ],
   "source": [
    "# Try new settings for weights and values\n",
    "env.reset()\n",
    "env.item_values = np.random.rand(env.N)\n",
    "env.item_weights = np.random.rand(env.N)\n",
    "env.max_weight = 20\n",
    "\n",
    "model = build_ukp_ip_model(env)\n",
    "model, results = solve_math_program(model)\n",
    "print(\"IP Objective: {:.2f}\".format(model.obj.expr()))\n",
    "_ = [print(\"x_i = {:.0f}_{}\".format(model.x[x].value, i))\n",
    "     for i, x in enumerate(model.x) if model.x[x].value != 0]\n",
    "print(\"\\t\")\n",
    "# Heuristic\n",
    "heur_actions, heur_rewards = ukp_heuristic(env)\n",
    "count = np.bincount(heur_actions)\n",
    "action_count = count[count!=0]\n",
    "actions = np.where(count!=0)\n",
    "print(\"Heuristic Objective: {:.2f}\".format(sum(heur_rewards)))\n",
    "_ = [print(\"x_i = {:.0f}_{}\".format(x, i)) \n",
    "     for x, i in zip(action_count, actions[0])]\n",
    "\n",
    "print(env.current_weight)"
   ]
  },
  {
   "cell_type": "code",
   "execution_count": 66,
   "metadata": {},
   "outputs": [
    {
     "data": {
      "text/plain": [
       "19.999482624596983"
      ]
     },
     "execution_count": 66,
     "metadata": {},
     "output_type": "execute_result"
    }
   ],
   "source": [
    "env.current_weight"
   ]
  },
  {
   "cell_type": "code",
   "execution_count": 57,
   "metadata": {},
   "outputs": [],
   "source": [
    "heur_actions.append(1)"
   ]
  },
  {
   "cell_type": "code",
   "execution_count": 52,
   "metadata": {},
   "outputs": [
    {
     "data": {
      "text/plain": [
       "(array([  1, 101]),)"
      ]
     },
     "execution_count": 52,
     "metadata": {},
     "output_type": "execute_result"
    }
   ],
   "source": [
    "np.where(np.bincount(heur_actions)!=0)"
   ]
  },
  {
   "cell_type": "code",
   "execution_count": 54,
   "metadata": {},
   "outputs": [],
   "source": [
    "count = np.bincount(heur_actions)"
   ]
  },
  {
   "cell_type": "code",
   "execution_count": 55,
   "metadata": {},
   "outputs": [
    {
     "data": {
      "text/plain": [
       "array([   1, 4804])"
      ]
     },
     "execution_count": 55,
     "metadata": {},
     "output_type": "execute_result"
    }
   ],
   "source": [
    "count[count!=0]"
   ]
  },
  {
   "cell_type": "code",
   "execution_count": 60,
   "metadata": {},
   "outputs": [
    {
     "name": "stdout",
     "output_type": "stream",
     "text": [
      "Heuristic Objective: 4424.49\n",
      "x_i = 1_1\n",
      "x_i = 101_4804\n"
     ]
    }
   ],
   "source": [
    "count = np.bincount(heur_actions)\n",
    "action_count = count[count!=0]\n",
    "actions = np.where(count!=0)[0]\n",
    "print(\"Heuristic Objective: {:.2f}\".format(sum(heur_rewards)))\n",
    "_ = [print(\"x_i = {:.0f}_{}\".format(x, i)) \n",
    "     for x, i in zip(actions, action_count)]"
   ]
  },
  {
   "cell_type": "code",
   "execution_count": 59,
   "metadata": {},
   "outputs": [
    {
     "data": {
      "text/plain": [
       "(array([  1, 101]),)"
      ]
     },
     "execution_count": 59,
     "metadata": {},
     "output_type": "execute_result"
    }
   ],
   "source": [
    "actions"
   ]
  },
  {
   "cell_type": "code",
   "execution_count": null,
   "metadata": {},
   "outputs": [],
   "source": []
  }
 ],
 "metadata": {
  "kernelspec": {
   "display_name": "Python 3",
   "language": "python",
   "name": "python3"
  },
  "language_info": {
   "codemirror_mode": {
    "name": "ipython",
    "version": 3
   },
   "file_extension": ".py",
   "mimetype": "text/x-python",
   "name": "python",
   "nbconvert_exporter": "python",
   "pygments_lexer": "ipython3",
   "version": "3.6.10"
  }
 },
 "nbformat": 4,
 "nbformat_minor": 4
}
