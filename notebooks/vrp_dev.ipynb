{
 "cells": [
  {
   "cell_type": "code",
   "execution_count": 1,
   "metadata": {},
   "outputs": [],
   "source": [
    "import gym\n",
    "from gym import spaces\n",
    "import or_gym\n",
    "import random\n",
    "import numpy as np\n",
    "from scipy.stats import truncnorm"
   ]
  },
  {
   "cell_type": "code",
   "execution_count": 2,
   "metadata": {},
   "outputs": [],
   "source": [
    "env = or_gym.make('VehicleRouting-v0')"
   ]
  },
  {
   "cell_type": "code",
   "execution_count": 3,
   "metadata": {},
   "outputs": [
    {
     "data": {
      "text/plain": [
       "array([3.        , 1.        , 2.        , 2.        , 4.        ,\n",
       "       1.        , 0.        , 4.        , 1.        , 0.        ,\n",
       "       1.        , 3.        , 0.        , 5.77287901, 1.        ,\n",
       "       1.        , 2.        , 0.        , 0.        , 5.99302707,\n",
       "       1.        , 1.        , 2.        , 1.        , 0.        ,\n",
       "       5.28241111, 1.        , 0.        , 1.        , 4.        ,\n",
       "       0.        , 5.32855736, 1.        , 1.        , 1.        ,\n",
       "       4.        , 0.        , 5.04677205, 1.        , 0.        ,\n",
       "       1.        , 2.        , 0.        , 5.87370451, 0.        ,\n",
       "       0.        , 0.        , 0.        , 0.        , 0.        ,\n",
       "       0.        , 0.        , 0.        , 0.        , 0.        ,\n",
       "       0.        , 0.        , 0.        , 0.        , 0.        ,\n",
       "       0.        , 0.        , 0.        , 0.        , 0.        ,\n",
       "       0.        , 0.        , 0.        ])"
      ]
     },
     "execution_count": 3,
     "metadata": {},
     "output_type": "execute_result"
    }
   ],
   "source": [
    "env.state"
   ]
  },
  {
   "cell_type": "code",
   "execution_count": 4,
   "metadata": {},
   "outputs": [],
   "source": [
    "order_data = np.hstack([v1 for v in env.order_dict.values()\n",
    "    for v1 in v.values()]).reshape(-1, 7)"
   ]
  },
  {
   "cell_type": "code",
   "execution_count": 7,
   "metadata": {},
   "outputs": [],
   "source": [
    "order_array = np.zeros((env.max_orders, 6))\n",
    "order_array[order_data[:, 0].astype(int)] += order_data[:, 1:]"
   ]
  },
  {
   "cell_type": "code",
   "execution_count": 10,
   "metadata": {},
   "outputs": [
    {
     "data": {
      "text/plain": [
       "(array([ 5, 11, 17, 23, 29, 35]),)"
      ]
     },
     "execution_count": 10,
     "metadata": {},
     "output_type": "execute_result"
    }
   ],
   "source": [
    "x = order_array.flatten()\n",
    "np.where(x>5)"
   ]
  },
  {
   "cell_type": "code",
   "execution_count": 14,
   "metadata": {},
   "outputs": [],
   "source": [
    "box_high = np.hstack(\n",
    "                [np.repeat(\n",
    "                    max(env.grid), 2 * env.n_restaurants + 2), # Locations 0-5\n",
    "                 np.repeat(env.vehicle_capacity, 2), # Vehicle capacities 6-7\n",
    "                 np.repeat(max(env.grid), 2*env.max_orders), # Locations 8-28\n",
    "                 np.repeat(4, env.max_orders), # Order status\n",
    "                 np.repeat(env.n_restaurants-1, env.max_orders), # Restaurant ID's\n",
    "                 np.repeat(env.order_promise, env.max_orders), # Order times\n",
    "                 np.repeat(max(env.order_reward_max), env.max_orders) # Order values\n",
    "                ])"
   ]
  },
  {
   "cell_type": "code",
   "execution_count": 15,
   "metadata": {},
   "outputs": [
    {
     "data": {
      "text/plain": [
       "array([ 5,  5,  5,  5,  5,  5,  4,  4,  5,  5,  5,  5,  5,  5,  5,  5,  5,\n",
       "        5,  5,  5,  5,  5,  5,  5,  5,  5,  5,  5,  4,  4,  4,  4,  4,  4,\n",
       "        4,  4,  4,  4,  1,  1,  1,  1,  1,  1,  1,  1,  1,  1, 60, 60, 60,\n",
       "       60, 60, 60, 60, 60, 60, 60, 12, 12, 12, 12, 12, 12, 12, 12, 12, 12])"
      ]
     },
     "execution_count": 15,
     "metadata": {},
     "output_type": "execute_result"
    }
   ],
   "source": [
    "box_high"
   ]
  },
  {
   "cell_type": "code",
   "execution_count": 21,
   "metadata": {},
   "outputs": [
    {
     "data": {
      "text/plain": [
       "array([1.        , 0.        , 1.        , 3.        , 0.        ,\n",
       "       5.77287901, 1.        , 1.        , 2.        , 0.        ,\n",
       "       0.        , 5.99302707, 1.        , 1.        , 2.        ,\n",
       "       1.        , 0.        , 5.28241111, 1.        , 0.        ,\n",
       "       1.        , 4.        , 0.        , 5.32855736, 1.        ,\n",
       "       1.        , 1.        , 4.        , 0.        , 5.04677205,\n",
       "       1.        , 0.        , 1.        , 2.        , 0.        ,\n",
       "       5.87370451, 0.        , 0.        , 0.        , 0.        ,\n",
       "       0.        , 0.        , 0.        , 0.        , 0.        ,\n",
       "       0.        , 0.        , 0.        , 0.        , 0.        ,\n",
       "       0.        , 0.        , 0.        , 0.        , 0.        ,\n",
       "       0.        , 0.        , 0.        , 0.        , 0.        ])"
      ]
     },
     "execution_count": 21,
     "metadata": {},
     "output_type": "execute_result"
    }
   ],
   "source": [
    "env.state[8:]"
   ]
  },
  {
   "cell_type": "code",
   "execution_count": 25,
   "metadata": {},
   "outputs": [
    {
     "data": {
      "text/plain": [
       "array([ 4,  2,  5,  5, 60, 12,  4,  2,  5,  5, 60, 12,  4,  2,  5,  5, 60,\n",
       "       12,  4,  2,  5,  5, 60, 12,  4,  2,  5,  5, 60, 12,  4,  2,  5,  5,\n",
       "       60, 12,  4,  2,  5,  5, 60, 12,  4,  2,  5,  5, 60, 12,  4,  2,  5,\n",
       "        5, 60, 12,  4,  2,  5,  5, 60, 12])"
      ]
     },
     "execution_count": 25,
     "metadata": {},
     "output_type": "execute_result"
    }
   ],
   "source": [
    "np.tile(np.hstack([4, env.n_restaurants, env.grid, env.order_promise, max(env.order_reward_max)]), env.max_orders)"
   ]
  },
  {
   "cell_type": "code",
   "execution_count": 20,
   "metadata": {},
   "outputs": [
    {
     "data": {
      "text/plain": [
       "{0: {'Number': 0,\n",
       "  'Status': 1,\n",
       "  'RestaurantID': 0,\n",
       "  'DeliveryLoc': (1, 3),\n",
       "  'Time': 0,\n",
       "  'Value': 5.772879005045591},\n",
       " 1: {'Number': 1,\n",
       "  'Status': 1,\n",
       "  'RestaurantID': 1,\n",
       "  'DeliveryLoc': (2, 0),\n",
       "  'Time': 0,\n",
       "  'Value': 5.993027065710395},\n",
       " 2: {'Number': 2,\n",
       "  'Status': 1,\n",
       "  'RestaurantID': 1,\n",
       "  'DeliveryLoc': (2, 1),\n",
       "  'Time': 0,\n",
       "  'Value': 5.2824111099028155},\n",
       " 3: {'Number': 3,\n",
       "  'Status': 1,\n",
       "  'RestaurantID': 0,\n",
       "  'DeliveryLoc': (1, 4),\n",
       "  'Time': 0,\n",
       "  'Value': 5.328557355547861},\n",
       " 4: {'Number': 4,\n",
       "  'Status': 1,\n",
       "  'RestaurantID': 1,\n",
       "  'DeliveryLoc': (1, 4),\n",
       "  'Time': 0,\n",
       "  'Value': 5.046772051732582},\n",
       " 5: {'Number': 5,\n",
       "  'Status': 1,\n",
       "  'RestaurantID': 0,\n",
       "  'DeliveryLoc': (1, 2),\n",
       "  'Time': 0,\n",
       "  'Value': 5.87370451166234}}"
      ]
     },
     "execution_count": 20,
     "metadata": {},
     "output_type": "execute_result"
    }
   ],
   "source": [
    "env.order_dict"
   ]
  },
  {
   "cell_type": "code",
   "execution_count": 351,
   "metadata": {},
   "outputs": [
    {
     "data": {
      "text/plain": [
       "(array([1.        , 4.        , 3.        , 3.        , 3.        ,\n",
       "        4.        , 0.        , 4.        , 1.        , 1.        ,\n",
       "        4.        , 4.        , 0.        , 1.95665929, 1.        ,\n",
       "        0.        , 2.        , 1.        , 0.        , 5.33347608,\n",
       "        1.        , 1.        , 3.        , 2.        , 0.        ,\n",
       "        2.41861938, 1.        , 0.        , 2.        , 2.        ,\n",
       "        0.        , 5.09221646, 1.        , 1.        , 2.        ,\n",
       "        1.        , 0.        , 6.00570199, 1.        , 1.        ,\n",
       "        3.        , 4.        , 0.        , 1.0313771 , 0.        ,\n",
       "        0.        , 0.        , 0.        , 0.        , 0.        ,\n",
       "        0.        , 0.        , 0.        , 0.        , 0.        ,\n",
       "        0.        , 0.        , 0.        , 0.        , 0.        ,\n",
       "        0.        , 0.        , 0.        , 0.        , 0.        ,\n",
       "        0.        , 0.        , 0.        ]),\n",
       " 0,\n",
       " False,\n",
       " {})"
      ]
     },
     "execution_count": 351,
     "metadata": {},
     "output_type": "execute_result"
    }
   ],
   "source": [
    "# Order = namedtuple('Order', ['Number', 'Status', 'RestaurantID', 'DeliveryLoc', 'Time', 'Value'])\n",
    "\n",
    "class VehicleRoutingEnv(gym.Env):\n",
    "    def __init__(self, *args, **kwargs):\n",
    "        self.n_restaurants = 2\n",
    "        self.max_orders = 10\n",
    "        self.order_prob = 0.5\n",
    "        self.vehicle_capacity = 4\n",
    "        self.grid = (5, 5)\n",
    "        self.order_promise = 60\n",
    "        self.order_timeout_prob = 0.15\n",
    "        self.num_zones = 4\n",
    "        self.order_probs_per_zone = [0.1, 0.5, 0.3, 0.1]\n",
    "        self.order_reward_min = [8, 5, 2, 1]\n",
    "        self.order_reward_max = [12, 8, 5, 3]\n",
    "        self.half_norm_scale_reward_per_zone = [0.5, 0.5, 0.5, 0.5]\n",
    "        self.penalty_per_timestep = 0.1\n",
    "        self.penalty_per_move = 0.1\n",
    "        self.order_miss_penalty = 50\n",
    "        self.step_limit = 1000\n",
    "        self.mask = False\n",
    "        self.info = {}\n",
    "        \n",
    "        self._order_nums = np.arange(self.max_orders)\n",
    "        self.loc_permutations = [(x, y) for x in range(self.grid[0])\n",
    "            for y in range(self.grid[1])]\n",
    "        \n",
    "        \n",
    "        self.obs_dim = 2 * self.n_restaurants + 4 + 6 * self.max_orders\n",
    "        self.observation_space = spaces.Box(\n",
    "            low=np.zeros(self.obs_dim),\n",
    "            high=np.hstack(\n",
    "                [np.repeat(\n",
    "                    max(self.grid), 2 * self.n_restaurants + 2), # Locations\n",
    "                 np.repeat(self.vehicle_capacity, 2), # Vehicle capacities\n",
    "                 np.repeat(max(self.grid), 2*self.max_orders), # Locations\n",
    "                 np.repeat(4, self.max_orders), # Order status\n",
    "                 np.repeat(self.n_restaurants-1, self.max_orders), # Restaurant ID's\n",
    "                 np.repeat(self.order_promise, self.max_orders), # Order times\n",
    "                 np.repeat(max(self.order_reward_max), self.max_orders) # Order values\n",
    "                ]),\n",
    "            dtype=np.float16)\n",
    "            \n",
    "        \n",
    "        self.action_dim = 1 + 3 * self.max_orders + self.n_restaurants\n",
    "        self.action_space = spaces.Discrete(self.action_dim)\n",
    "        \n",
    "        self.reset()\n",
    "        \n",
    "    def step(self, action):\n",
    "        done = False\n",
    "        self.reward = 0\n",
    "        self.late_penalty = 0\n",
    "        \n",
    "        if action == 0:\n",
    "            self.wait(action)\n",
    "        elif action <= self.max_orders:\n",
    "            self.accept_order(action)\n",
    "        elif action <= 2 * self.max_orders:\n",
    "            self.pickup_order(action)\n",
    "        elif action <= 3 * self.max_orders:\n",
    "            self.deliver_order(action)\n",
    "        elif action <= 3 * self.max_orders + self.n_restaurants:\n",
    "            self.return_to_restaurant(action)\n",
    "        else:\n",
    "            raise Exception(f\"Selected action ({action}) outside of action space.\")\n",
    "            \n",
    "        self.state = self._update_state()\n",
    "        \n",
    "        self.step_count += 1\n",
    "        if self.step_count >= self.step_limit:\n",
    "            done = True\n",
    "            \n",
    "        return self.state, self.reward, done, self.info\n",
    "        \n",
    "    def wait(self, action):\n",
    "        # Do nothing\n",
    "        pass\n",
    "        \n",
    "    def accept_order(self, action):\n",
    "        # Accept order denoted by action\n",
    "        order_idx = action - 1\n",
    "        if order_idx not in self.order_dict.keys():\n",
    "            # Invalid action, do nothing\n",
    "            pass\n",
    "        elif self.order_dict[order_idx] == 1:\n",
    "            self.order_dict[order_idx] = 2\n",
    "            self.reward += self.order_dict[order_idx]['Value'] / 3\n",
    "        \n",
    "    def pickup_order(self, action):\n",
    "        order_idx = action - self.max_orders - 1\n",
    "        if order_idx not in self.order_dict.keys():\n",
    "            # Invalid action, do nothing\n",
    "            pass\n",
    "        else:\n",
    "            restaurant = self.order_dict[order_idx]['RestaurantID']\n",
    "            restaurant_loc = self.restaurant_loc[restaurant]\n",
    "            self._go_to_destination(restaurant_loc)\n",
    "            self.reward -= self.penalty_per_move\n",
    "            # Movement and pickup can occur during same time step\n",
    "            if self.order_dict[order_idx]['Status'] == 2 and self.driver_loc == restaurant_loc:\n",
    "                if self.vehicle_load < self.vehicle_capacity:\n",
    "                    self.order_dict[order_idx]['Status'] = 3\n",
    "                    self.vehicle_capacity += 1\n",
    "                    self.reward += self.order_dict[order_idx]['Value'] / 3\n",
    "        \n",
    "    def deliver_order(self, action):\n",
    "        order_idx = action - 2 * self.max_orders - 1\n",
    "        if order_idx not in self.order_dict.keys():\n",
    "            # Invalid action, do nothing\n",
    "            pass\n",
    "        else:\n",
    "            order_loc = self.order_dict[order_idx]['DeliveryLoc']\n",
    "            self._go_to_destination(order_loc)\n",
    "            self.reward -= self.penalty_per_move\n",
    "            # Can deliver multiple orders simultaneously\n",
    "            for k, v in self.order_dict.items():\n",
    "                if v['Status'] == 3 and v['DeliveryLoc'] == self.driver_loc:\n",
    "                    if v['Time'] <= self.order_promise:\n",
    "                        self.reward = v['Value'] / 3\n",
    "                    self.vehicle_load -= 1\n",
    "                    v['Status'] = 4 # Delivered\n",
    "\n",
    "    def return_to_restaurant(self, action):\n",
    "        restaurant = action - 3 * self.max_orders - 1\n",
    "        restaurant_loc = self.restaurant_loc[restaurant]\n",
    "        self._go_to_destination(restaurant_loc)\n",
    "        self.reward -= self.penalty_per_move\n",
    "    \n",
    "    def _update_orders(self):\n",
    "        self._update_order_times()\n",
    "        self._remove_orders()\n",
    "        self._generate_orders()\n",
    "        \n",
    "    def _remove_orders(self):\n",
    "        # Remove past due orders\n",
    "        orders_to_delete = []\n",
    "        for k, v in self.order_dict.items():\n",
    "            if v['Time'] >= self.order_promise:\n",
    "                if v['Status'] >= 2:\n",
    "                    # Apply penalty and remove associated rewards\n",
    "                    self.reward -= (self.order_miss_penalty +\n",
    "                        v['Value'] * (v['Status']==2)/3 +\n",
    "                        v['Value'] * (v['Status']==3) * 2/3)\n",
    "                    self.late_penalty += self.order_miss_penalty\n",
    "                if v['Status'] == 3:\n",
    "                    self.vehicle_capacity -= 1\n",
    "                orders_to_delete.append(k)\n",
    "                \n",
    "            if v['Status'] == 4:\n",
    "                orders_to_delete.append(k)\n",
    "                \n",
    "            # Probabalistically remove open orders\n",
    "            if v['Status'] == 1 and np.random.random() < self.order_timeout_prob:\n",
    "                orders_to_delete.append(k)\n",
    "                \n",
    "        for k in orders_to_delete:\n",
    "            del self.order_dict[k]            \n",
    "    \n",
    "    def _update_state(self):\n",
    "        self._update_orders()\n",
    "        order_array = np.zeros((env.max_orders, 6)) # Placeholder for order data\n",
    "        try:\n",
    "            order_data = np.hstack([v1 for v in self.order_dict.values() \n",
    "                for v1 in v.values()]).reshape(-1, 7)\n",
    "            order_array[order_data[:, 0].astype(int)] += order_data[:, 1:]\n",
    "        except ValueError:\n",
    "            # Occurs when order_data is empty\n",
    "            pass\n",
    "        state = np.hstack([\n",
    "            np.hstack(self.restaurant_loc),\n",
    "            np.hstack(self.driver_loc),\n",
    "            np.hstack([self.vehicle_load, self.vehicle_capacity]),\n",
    "            order_array.flatten()\n",
    "        ])\n",
    "        return state\n",
    "    \n",
    "    def reset(self):\n",
    "        self.step_count = 0\n",
    "        self.vehicle_load = 0\n",
    "        self.randomize_locations()\n",
    "        self.zone_loc = self._get_zones()\n",
    "        self.order_dict = {}\n",
    "        self.state = None\n",
    "        return self.state\n",
    "    \n",
    "    def _update_order_times(self):\n",
    "        for k, v in self.order_dict.items():\n",
    "            if v['Status'] >= 1:\n",
    "                v['Time'] += 1\n",
    "    \n",
    "    def _generate_orders(self):\n",
    "        open_slots = self._order_nums[~np.isin(self._order_nums,\n",
    "            np.array([k for k in self.order_dict.keys()]))]\n",
    "        try:\n",
    "            order_num = open_slots.min()\n",
    "        except ValueError:\n",
    "            pass\n",
    "        for n in open_slots:\n",
    "            # Probabalistically create a new order\n",
    "            if np.random.random() < self.order_prob:\n",
    "                zone = np.random.choice(self.num_zones, p=self.order_probs_per_zone)\n",
    "                order = self._get_order_from_zone(zone, order_num)\n",
    "                self.order_dict[order_num] = order\n",
    "                order_num += 1\n",
    "            \n",
    "    def _get_order_from_zone(self, zone, n):\n",
    "        delivery_loc = random.choice(self.zone_loc[zone])\n",
    "        restaurant_idx = np.random.choice(self.n_restaurants)\n",
    "        value = truncnorm.rvs(0, \n",
    "            (self.order_reward_max[zone] - self.order_reward_min[zone])\n",
    "                              /self.half_norm_scale_reward_per_zone[zone],\n",
    "            self.order_reward_min[zone],\n",
    "            self.half_norm_scale_reward_per_zone[zone])\n",
    "        return {'Number': n,\n",
    "         'Status': 1,\n",
    "         'RestaurantID': restaurant_idx,\n",
    "         'DeliveryLoc': delivery_loc,\n",
    "         'Time': 0,\n",
    "         'Value': value}\n",
    "        \n",
    "    def randomize_locations(self):\n",
    "        self._place_restaurants()\n",
    "        self._place_driver()\n",
    "        \n",
    "    def _place_restaurants(self):\n",
    "        self.restaurant_loc = random.sample(self.loc_permutations,\n",
    "            self.n_restaurants)\n",
    "    \n",
    "    def _place_driver(self):\n",
    "        self.driver_loc = list(random.sample(self.loc_permutations, 1)[0])\n",
    "        \n",
    "    def _move_driver(self, direction):\n",
    "        # Receives direction from routing function\n",
    "        if direction == 0: # Up\n",
    "            self.driver_loc[1] += 1\n",
    "        elif direction == 1: # Down\n",
    "            self.driver_loc[1] -= 1\n",
    "        elif direction == 2: # Right\n",
    "            self.driver_loc[0] += 1\n",
    "        elif direction == 3: # Left\n",
    "            self.driver_loc[0] -= 1\n",
    "        # Check boundaries\n",
    "        if self.driver_loc[0] > self.grid[0]:\n",
    "            self.driver_loc[0] = self.grid[0]\n",
    "        if self.driver_loc[0] < 0:\n",
    "            self.driver_loc[0] = 0\n",
    "        if self.driver_loc[1] > self.grid[1]:\n",
    "            self.driver_loc[1] = self.grid[1]\n",
    "        if self.driver_loc[1] < 0:\n",
    "            self.driver_loc[1] = 0\n",
    "            \n",
    "    def _go_to_destination(self, destination):\n",
    "        # Automatically selects direction based on starting location and\n",
    "        # destination. \n",
    "        # 0 -> Up; 1 -> Down; 2 -> Right; 3 -> Left\n",
    "        x_diff = self.driver_loc[0] - destination[0]\n",
    "        y_diff = self.driver_loc[1] - destination[1]\n",
    "        if abs(x_diff) >= abs(y_diff):\n",
    "            if x_diff > 0:\n",
    "                direction = 2\n",
    "            elif x_diff < 0:\n",
    "                direction = 3\n",
    "        else:\n",
    "            if y_diff > 0:\n",
    "                direction = 0\n",
    "            elif y_diff < 0:\n",
    "                direction = 1\n",
    "        self._move_driver(direction)\n",
    "            \n",
    "    def _get_num_spaces_per_zone(self):\n",
    "        total_spaces = self.grid[0] * self.grid[1]\n",
    "        spaces_per_zone = np.array([np.floor(total_spaces / self.num_zones) \n",
    "            for i in range(self.num_zones)])\n",
    "        for i in range(total_spaces % self.num_zones):\n",
    "            spaces_per_zone[i] += 1\n",
    "        return spaces_per_zone.astype(int)\n",
    "    \n",
    "    def _get_zones(self):\n",
    "        # Slices the grid into zones by row\n",
    "        spaces_per_zone = self._get_num_spaces_per_zone()\n",
    "        zones = {}\n",
    "        for i, n in enumerate(spaces_per_zone):\n",
    "            x = sum(spaces_per_zone[:i])\n",
    "            zones[i] = self.loc_permutations[x:x+n]\n",
    "            \n",
    "        zones = self._remove_restaurants_from_zone_locs(zones)\n",
    "        return zones\n",
    "    \n",
    "    def _remove_restaurants_from_zone_locs(self, zones):\n",
    "        for k, v in zones.items():\n",
    "            for r in self.restaurant_loc:\n",
    "                try:\n",
    "                    loc_to_remove = v.index(r)\n",
    "                    del zones[k][loc_to_remove]\n",
    "                except ValueError:\n",
    "                    pass\n",
    "        return zones\n",
    "    \n",
    "    \n",
    "env = VehicleRoutingEnv()\n",
    "\n",
    "env.step(0)"
   ]
  },
  {
   "cell_type": "code",
   "execution_count": 362,
   "metadata": {},
   "outputs": [],
   "source": [
    "for i in range(env.action_space.n):\n",
    "    env.step(i)"
   ]
  },
  {
   "cell_type": "code",
   "execution_count": 363,
   "metadata": {},
   "outputs": [
    {
     "data": {
      "text/plain": [
       "array([1.        , 4.        , 3.        , 3.        , 5.        ,\n",
       "       5.        , 0.        , 4.        , 1.        , 1.        ,\n",
       "       3.        , 1.        , 3.        , 2.17057716, 1.        ,\n",
       "       1.        , 1.        , 1.        , 3.        , 8.12511887,\n",
       "       1.        , 0.        , 3.        , 1.        , 3.        ,\n",
       "       2.09873301, 1.        , 0.        , 1.        , 2.        ,\n",
       "       3.        , 5.20365068, 1.        , 0.        , 1.        ,\n",
       "       3.        , 2.        , 5.34670383, 1.        , 1.        ,\n",
       "       2.        , 1.        , 2.        , 5.11292633, 1.        ,\n",
       "       0.        , 1.        , 3.        , 2.        , 5.62467618,\n",
       "       1.        , 1.        , 2.        , 3.        , 1.        ,\n",
       "       2.25201197, 1.        , 1.        , 4.        , 3.        ,\n",
       "       0.        , 1.50126856, 0.        , 0.        , 0.        ,\n",
       "       0.        , 0.        , 0.        ])"
      ]
     },
     "execution_count": 363,
     "metadata": {},
     "output_type": "execute_result"
    }
   ],
   "source": [
    "env.state"
   ]
  },
  {
   "cell_type": "code",
   "execution_count": 364,
   "metadata": {},
   "outputs": [
    {
     "data": {
      "text/plain": [
       "166"
      ]
     },
     "execution_count": 364,
     "metadata": {},
     "output_type": "execute_result"
    }
   ],
   "source": [
    "env.step_count"
   ]
  },
  {
   "cell_type": "code",
   "execution_count": null,
   "metadata": {},
   "outputs": [],
   "source": []
  }
 ],
 "metadata": {
  "kernelspec": {
   "display_name": "Python 3",
   "language": "python",
   "name": "python3"
  },
  "language_info": {
   "codemirror_mode": {
    "name": "ipython",
    "version": 3
   },
   "file_extension": ".py",
   "mimetype": "text/x-python",
   "name": "python",
   "nbconvert_exporter": "python",
   "pygments_lexer": "ipython3",
   "version": "3.6.10"
  }
 },
 "nbformat": 4,
 "nbformat_minor": 4
}
